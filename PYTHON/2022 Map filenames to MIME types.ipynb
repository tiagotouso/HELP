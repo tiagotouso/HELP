{
 "cells": [
  {
   "cell_type": "markdown",
   "id": "21dd67ed",
   "metadata": {},
   "source": [
    "# Map filenames to MIME types"
   ]
  },
  {
   "cell_type": "code",
   "execution_count": 1,
   "id": "2b63cc1d",
   "metadata": {},
   "outputs": [],
   "source": [
    "# IMPORTAR MÓDULO\n",
    "\n",
    "import mimetypes\n",
    "\n",
    "import pandas as pd\n",
    "pd.set_option('display.max_rows', None)"
   ]
  },
  {
   "cell_type": "code",
   "execution_count": 2,
   "id": "32e6bde1",
   "metadata": {},
   "outputs": [],
   "source": [
    "# CRIAR O OBJETO\n",
    "\n",
    "types = mimetypes"
   ]
  },
  {
   "cell_type": "code",
   "execution_count": 3,
   "id": "909dd0ef",
   "metadata": {},
   "outputs": [],
   "source": [
    "# TRANSFORMAR EM UMA TABELA O DICIONÁRIO\n",
    "\n",
    "tabela = zip(types.types_map.keys(), types.types_map.values())"
   ]
  },
  {
   "cell_type": "code",
   "execution_count": 4,
   "id": "c868fc68",
   "metadata": {},
   "outputs": [],
   "source": [
    "# CRIAR UM DATAFRAME\n",
    "\n",
    "dados = pd.DataFrame(data = tabela, \n",
    "                     columns=['extensao', 'tipo'], \n",
    "                     index=list(range(0, len(types.types_map))))"
   ]
  },
  {
   "cell_type": "code",
   "execution_count": 5,
   "id": "53a42807",
   "metadata": {},
   "outputs": [],
   "source": [
    "# LISTA DE DOCUMENTOS MAIS COMUNS\n",
    "\n",
    "lista = ['.doc', '.xls', '.pdf', '.txt', '.py',\n",
    "         '.html', '.xml',\n",
    "         '.jpeg', '.png', '.svg',\n",
    "         '.mp3', '.mp4']"
   ]
  },
  {
   "cell_type": "code",
   "execution_count": 6,
   "id": "30583a64",
   "metadata": {},
   "outputs": [
    {
     "data": {
      "text/html": [
       "<div>\n",
       "<style scoped>\n",
       "    .dataframe tbody tr th:only-of-type {\n",
       "        vertical-align: middle;\n",
       "    }\n",
       "\n",
       "    .dataframe tbody tr th {\n",
       "        vertical-align: top;\n",
       "    }\n",
       "\n",
       "    .dataframe thead th {\n",
       "        text-align: right;\n",
       "    }\n",
       "</style>\n",
       "<table border=\"1\" class=\"dataframe\">\n",
       "  <thead>\n",
       "    <tr style=\"text-align: right;\">\n",
       "      <th></th>\n",
       "      <th>extensao</th>\n",
       "      <th>tipo</th>\n",
       "    </tr>\n",
       "  </thead>\n",
       "  <tbody>\n",
       "    <tr>\n",
       "      <th>4</th>\n",
       "      <td>.doc</td>\n",
       "      <td>application/msword</td>\n",
       "    </tr>\n",
       "    <tr>\n",
       "      <th>15</th>\n",
       "      <td>.pdf</td>\n",
       "      <td>application/pdf</td>\n",
       "    </tr>\n",
       "    <tr>\n",
       "      <th>22</th>\n",
       "      <td>.xls</td>\n",
       "      <td>application/vnd.ms-excel</td>\n",
       "    </tr>\n",
       "    <tr>\n",
       "      <th>70</th>\n",
       "      <td>.mp3</td>\n",
       "      <td>audio/mpeg</td>\n",
       "    </tr>\n",
       "    <tr>\n",
       "      <th>82</th>\n",
       "      <td>.jpeg</td>\n",
       "      <td>image/jpeg</td>\n",
       "    </tr>\n",
       "    <tr>\n",
       "      <th>83</th>\n",
       "      <td>.png</td>\n",
       "      <td>image/png</td>\n",
       "    </tr>\n",
       "    <tr>\n",
       "      <th>84</th>\n",
       "      <td>.svg</td>\n",
       "      <td>image/svg+xml</td>\n",
       "    </tr>\n",
       "    <tr>\n",
       "      <th>103</th>\n",
       "      <td>.html</td>\n",
       "      <td>text/html</td>\n",
       "    </tr>\n",
       "    <tr>\n",
       "      <th>105</th>\n",
       "      <td>.txt</td>\n",
       "      <td>text/plain</td>\n",
       "    </tr>\n",
       "    <tr>\n",
       "      <th>113</th>\n",
       "      <td>.py</td>\n",
       "      <td>text/x-python</td>\n",
       "    </tr>\n",
       "    <tr>\n",
       "      <th>118</th>\n",
       "      <td>.xml</td>\n",
       "      <td>text/xml</td>\n",
       "    </tr>\n",
       "    <tr>\n",
       "      <th>119</th>\n",
       "      <td>.mp4</td>\n",
       "      <td>video/mp4</td>\n",
       "    </tr>\n",
       "  </tbody>\n",
       "</table>\n",
       "</div>"
      ],
      "text/plain": [
       "    extensao                      tipo\n",
       "4       .doc        application/msword\n",
       "15      .pdf           application/pdf\n",
       "22      .xls  application/vnd.ms-excel\n",
       "70      .mp3                audio/mpeg\n",
       "82     .jpeg                image/jpeg\n",
       "83      .png                 image/png\n",
       "84      .svg             image/svg+xml\n",
       "103    .html                 text/html\n",
       "105     .txt                text/plain\n",
       "113      .py             text/x-python\n",
       "118     .xml                  text/xml\n",
       "119     .mp4                 video/mp4"
      ]
     },
     "execution_count": 6,
     "metadata": {},
     "output_type": "execute_result"
    }
   ],
   "source": [
    "# FILTRAR OS DADOS\n",
    "\n",
    "dados.query(f'extensao in {lista}')"
   ]
  }
 ],
 "metadata": {
  "kernelspec": {
   "display_name": "Python 3 (ipykernel)",
   "language": "python",
   "name": "python3"
  },
  "language_info": {
   "codemirror_mode": {
    "name": "ipython",
    "version": 3
   },
   "file_extension": ".py",
   "mimetype": "text/x-python",
   "name": "python",
   "nbconvert_exporter": "python",
   "pygments_lexer": "ipython3",
   "version": "3.9.12"
  }
 },
 "nbformat": 4,
 "nbformat_minor": 5
}
