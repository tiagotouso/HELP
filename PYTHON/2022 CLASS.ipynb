{
 "cells": [
  {
   "cell_type": "markdown",
   "id": "8f010054",
   "metadata": {},
   "source": [
    "# CLASS"
   ]
  },
  {
   "cell_type": "markdown",
   "id": "899c7166",
   "metadata": {},
   "source": [
    "https://www.youtube.com/watch?v=WP5p4QEqLLQ&list=PLAgbpJQADBGLo24x_xBwGtTDO-bjwrFb_\n"
   ]
  },
  {
   "cell_type": "code",
   "execution_count": null,
   "id": "968207a4",
   "metadata": {},
   "outputs": [],
   "source": []
  },
  {
   "cell_type": "code",
   "execution_count": null,
   "id": "c675e2d6",
   "metadata": {},
   "outputs": [],
   "source": [
    "class Cores"
   ]
  },
  {
   "cell_type": "code",
   "execution_count": null,
   "id": "2c7690bd",
   "metadata": {},
   "outputs": [],
   "source": []
  },
  {
   "cell_type": "code",
   "execution_count": null,
   "id": "199f9d44",
   "metadata": {},
   "outputs": [],
   "source": []
  },
  {
   "cell_type": "code",
   "execution_count": null,
   "id": "c4003107",
   "metadata": {},
   "outputs": [],
   "source": []
  },
  {
   "cell_type": "code",
   "execution_count": null,
   "id": "6ac3b890",
   "metadata": {},
   "outputs": [],
   "source": []
  },
  {
   "cell_type": "code",
   "execution_count": null,
   "id": "6ef72eb0",
   "metadata": {},
   "outputs": [],
   "source": []
  },
  {
   "cell_type": "code",
   "execution_count": null,
   "id": "67a35688",
   "metadata": {},
   "outputs": [],
   "source": []
  },
  {
   "cell_type": "code",
   "execution_count": null,
   "id": "42145430",
   "metadata": {},
   "outputs": [],
   "source": []
  },
  {
   "cell_type": "code",
   "execution_count": null,
   "id": "10c81b23",
   "metadata": {},
   "outputs": [],
   "source": []
  },
  {
   "cell_type": "code",
   "execution_count": null,
   "id": "6e811d9b",
   "metadata": {},
   "outputs": [],
   "source": []
  },
  {
   "cell_type": "code",
   "execution_count": null,
   "id": "aa75c6dd",
   "metadata": {},
   "outputs": [],
   "source": []
  },
  {
   "cell_type": "code",
   "execution_count": null,
   "id": "af3ea7db",
   "metadata": {},
   "outputs": [],
   "source": []
  },
  {
   "cell_type": "code",
   "execution_count": null,
   "id": "a53fd635",
   "metadata": {},
   "outputs": [],
   "source": []
  },
  {
   "cell_type": "code",
   "execution_count": null,
   "id": "713d52e9",
   "metadata": {},
   "outputs": [],
   "source": []
  },
  {
   "cell_type": "code",
   "execution_count": 1,
   "id": "2a18af7a",
   "metadata": {},
   "outputs": [
    {
     "name": "stdout",
     "output_type": "stream",
     "text": [
      "a - 0\n",
      "[]\n",
      "1\n"
     ]
    }
   ],
   "source": [
    "class Arvore:\n",
    "     \n",
    "    contador = 0\n",
    "    objetos = []\n",
    "    \n",
    "    def printclass():\n",
    "        for objeto in __class__.objetos:\n",
    "            print(objeto.nome, objeto.indice)\n",
    "    \n",
    "    \n",
    "    def __init__(self, nome):\n",
    "        \n",
    "        self.nome = nome\n",
    "        self.indice = __class__.contador\n",
    "        self.anterior = []\n",
    "        self.posterior = []\n",
    "        \n",
    "        \n",
    "        __class__.contador += 1\n",
    "        __class__.objetos.append(self)\n",
    "\n",
    "        self.imp()\n",
    "\n",
    "        \n",
    "    def imp(self):\n",
    "        \n",
    "        print(self.nome, self.indice, sep = ' - ')\n",
    "        print(self.anterior)\n",
    "        print(__class__.contador)\n",
    "\n",
    "        \n",
    "        \n",
    "a = Arvore('a')"
   ]
  },
  {
   "cell_type": "code",
   "execution_count": 2,
   "id": "e947f994",
   "metadata": {},
   "outputs": [
    {
     "name": "stdout",
     "output_type": "stream",
     "text": [
      "b - 1\n",
      "[]\n",
      "2\n"
     ]
    }
   ],
   "source": [
    "b = Arvore('b')\n",
    "b.anterior.append(1)"
   ]
  },
  {
   "cell_type": "code",
   "execution_count": 3,
   "id": "4afddf70",
   "metadata": {},
   "outputs": [
    {
     "name": "stdout",
     "output_type": "stream",
     "text": [
      "b - 1\n",
      "[1]\n",
      "2\n"
     ]
    }
   ],
   "source": [
    "b.imp()"
   ]
  },
  {
   "cell_type": "code",
   "execution_count": 4,
   "id": "40eb63f6",
   "metadata": {},
   "outputs": [
    {
     "name": "stdout",
     "output_type": "stream",
     "text": [
      "c - 2\n",
      "[]\n",
      "3\n"
     ]
    }
   ],
   "source": [
    "c = Arvore('c')\n",
    "c.anterior.append(2)"
   ]
  },
  {
   "cell_type": "code",
   "execution_count": 5,
   "id": "e76f7d5d",
   "metadata": {},
   "outputs": [
    {
     "name": "stdout",
     "output_type": "stream",
     "text": [
      "c - 2\n",
      "[2]\n",
      "3\n"
     ]
    }
   ],
   "source": [
    "c.imp()"
   ]
  },
  {
   "cell_type": "code",
   "execution_count": 6,
   "id": "f05be522",
   "metadata": {},
   "outputs": [
    {
     "name": "stdout",
     "output_type": "stream",
     "text": [
      "3\n",
      "[<__main__.Arvore object at 0x00000287877D0A90>, <__main__.Arvore object at 0x00000287877D0910>, <__main__.Arvore object at 0x00000287877D0880>]\n"
     ]
    }
   ],
   "source": [
    "print(Arvore.contador)\n",
    "print(Arvore.objetos)"
   ]
  },
  {
   "cell_type": "code",
   "execution_count": 7,
   "id": "223a3ec3",
   "metadata": {},
   "outputs": [
    {
     "data": {
      "text/plain": [
       "__main__.Arvore"
      ]
     },
     "execution_count": 7,
     "metadata": {},
     "output_type": "execute_result"
    }
   ],
   "source": [
    "type(Arvore.objetos[0])"
   ]
  },
  {
   "cell_type": "code",
   "execution_count": 8,
   "id": "caa6b584",
   "metadata": {},
   "outputs": [
    {
     "data": {
      "text/plain": [
       "__main__.Arvore"
      ]
     },
     "execution_count": 8,
     "metadata": {},
     "output_type": "execute_result"
    }
   ],
   "source": [
    "type(c)"
   ]
  },
  {
   "cell_type": "code",
   "execution_count": 9,
   "id": "4d08a24e",
   "metadata": {},
   "outputs": [
    {
     "name": "stdout",
     "output_type": "stream",
     "text": [
      "a 0\n",
      "b 1\n",
      "c 2\n"
     ]
    }
   ],
   "source": [
    "Arvore.printclass()"
   ]
  },
  {
   "cell_type": "code",
   "execution_count": 10,
   "id": "6218487a",
   "metadata": {},
   "outputs": [
    {
     "data": {
      "text/plain": [
       "'c'"
      ]
     },
     "execution_count": 10,
     "metadata": {},
     "output_type": "execute_result"
    }
   ],
   "source": [
    "Arvore.objetos[2].nome"
   ]
  },
  {
   "cell_type": "code",
   "execution_count": 11,
   "id": "24322774",
   "metadata": {},
   "outputs": [
    {
     "data": {
      "text/plain": [
       "2781116959376"
      ]
     },
     "execution_count": 11,
     "metadata": {},
     "output_type": "execute_result"
    }
   ],
   "source": [
    "id(a)"
   ]
  },
  {
   "cell_type": "code",
   "execution_count": 12,
   "id": "7a06a770",
   "metadata": {},
   "outputs": [
    {
     "data": {
      "text/plain": [
       "2781116958992"
      ]
     },
     "execution_count": 12,
     "metadata": {},
     "output_type": "execute_result"
    }
   ],
   "source": [
    "id(b)"
   ]
  },
  {
   "cell_type": "code",
   "execution_count": 16,
   "id": "3209ba9e",
   "metadata": {},
   "outputs": [
    {
     "data": {
      "text/plain": [
       "6"
      ]
     },
     "execution_count": 16,
     "metadata": {},
     "output_type": "execute_result"
    }
   ],
   "source": [
    "eval('3 + 3')"
   ]
  },
  {
   "cell_type": "code",
   "execution_count": null,
   "id": "3df94abd",
   "metadata": {},
   "outputs": [],
   "source": []
  }
 ],
 "metadata": {
  "kernelspec": {
   "display_name": "Python 3 (ipykernel)",
   "language": "python",
   "name": "python3"
  },
  "language_info": {
   "codemirror_mode": {
    "name": "ipython",
    "version": 3
   },
   "file_extension": ".py",
   "mimetype": "text/x-python",
   "name": "python",
   "nbconvert_exporter": "python",
   "pygments_lexer": "ipython3",
   "version": "3.9.12"
  }
 },
 "nbformat": 4,
 "nbformat_minor": 5
}
