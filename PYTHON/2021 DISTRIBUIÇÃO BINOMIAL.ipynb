{
 "cells": [
  {
   "cell_type": "markdown",
   "id": "772d7a40",
   "metadata": {},
   "source": [
    "# DISTRIBUIÇÃO BINOMIAL\n",
    "\n",
    "A distribuição binomial é uma distribuição de probabilidade que resume a probabilidade de uma variável assumir um de dois valores independentes sob um determinado conjunto de parâmetros. A distribuição é obtida executando uma série de testes de Bernoulli ."
   ]
  },
  {
   "cell_type": "code",
   "execution_count": 1,
   "id": "9a014250",
   "metadata": {},
   "outputs": [],
   "source": [
    "import scipy\n",
    "from scipy.stats import binom \n",
    "import pandas as pd\n",
    "import numpy as np\n",
    "\n",
    "import matplotlib.pyplot as plt"
   ]
  },
  {
   "cell_type": "code",
   "execution_count": 2,
   "id": "10fc1620",
   "metadata": {},
   "outputs": [
    {
     "name": "stdout",
     "output_type": "stream",
     "text": [
      "Python 3.9.7\n",
      "pandas    : 1.3.4\n",
      "matplotlib: 3.4.3\n",
      "scipy     : 1.7.1\n",
      "numpy     : 1.20.3\n",
      "\n"
     ]
    }
   ],
   "source": [
    "# Versões dos módulos\n",
    "\n",
    "!python --version\n",
    "%reload_ext watermark\n",
    "%watermark --iversions"
   ]
  },
  {
   "cell_type": "code",
   "execution_count": 3,
   "id": "e294e43f",
   "metadata": {},
   "outputs": [],
   "source": [
    "def grafico(x_, probabilidades):\n",
    "    \"\"\"FUNÇÃO PARA CRIAR GRÁFICO\"\"\"\n",
    "    \n",
    "    fig, ax = plt.subplots()\n",
    "    plt.title('Distibuição Binominal')\n",
    "    plt.bar(x_, probabilidades)\n",
    "    plt.xticks(x_)\n",
    "    plt.show()"
   ]
  },
  {
   "cell_type": "code",
   "execution_count": 4,
   "id": "e371b94f",
   "metadata": {},
   "outputs": [],
   "source": [
    "def distribuicao_binomial(p, n):\n",
    "    \"\"\"FUNÇÃO PARA GERAR A DISTRIBUIÇÃO BINOMIAL\"\"\"\n",
    "    \n",
    "    # Frequências\n",
    "    x_ = list(range(n +1))\n",
    "    \n",
    "    # Probabilidades\n",
    "    probabilidades = [binom.pmf(vl, n, p) for vl in x_]\n",
    "    \n",
    "    # Cálculos estatísticos\n",
    "    mean, var = binom.stats(n, p)\n",
    "    mean = float(mean)\n",
    "    var = float(var)\n",
    "    dp = np.sqrt(var)\n",
    "    \n",
    "    # Tabela de probabilidades\n",
    "    tb = pd.DataFrame()\n",
    "    tb['x'] = x_\n",
    "    tb['P(x)'] = probabilidades\n",
    "    \n",
    "    return tb, mean, var, dp"
   ]
  },
  {
   "cell_type": "code",
   "execution_count": 5,
   "id": "1c9a1355",
   "metadata": {},
   "outputs": [],
   "source": [
    "def analise_binomial(p, n, arrendondar = 4):\n",
    "    \n",
    "    tb, mean, var, dp = distribuicao_binomial(p, n)\n",
    "    \n",
    "    print('Média', round(mean, arrendondar))\n",
    "    print('Variância', round(var, arrendondar))\n",
    "    print('Desvio Padrão', round(dp, arrendondar))\n",
    "    \n",
    "    grafico(tb['x'], tb['P(x)'])\n",
    "    \n",
    "    tb['P(x)'] = tb['P(x)'].apply(lambda x: round(x, arrendondar))\n",
    "    \n",
    "    return tb"
   ]
  },
  {
   "cell_type": "markdown",
   "id": "df79f2a4",
   "metadata": {},
   "source": [
    "# CURIOSIDADE"
   ]
  },
  {
   "cell_type": "code",
   "execution_count": 6,
   "id": "3686f4cf",
   "metadata": {},
   "outputs": [
    {
     "name": "stdout",
     "output_type": "stream",
     "text": [
      "Média 2.0\n",
      "Variância 1.6\n",
      "Desvio Padrão 1.2649\n"
     ]
    },
    {
     "data": {
      "image/png": "[encoded data removed]",
      "text/plain": [
       "<Figure size 432x288 with 1 Axes>"
      ]
     },
     "metadata": {
      "needs_background": "light"
     },
     "output_type": "display_data"
    }
   ],
   "source": [
    "tb = analise_binomial(0.2, 10)"
   ]
  },
  {
   "cell_type": "code",
   "execution_count": 7,
   "id": "779acf50",
   "metadata": {},
   "outputs": [
    {
     "name": "stdout",
     "output_type": "stream",
     "text": [
      "Média 5.0\n",
      "Variância 2.5\n",
      "Desvio Padrão 1.5811\n"
     ]
    },
    {
     "data": {
      "image/png": "[encoded data removed]",
      "text/plain": [
       "<Figure size 432x288 with 1 Axes>"
      ]
     },
     "metadata": {
      "needs_background": "light"
     },
     "output_type": "display_data"
    }
   ],
   "source": [
    "tb = analise_binomial(0.5, 10)"
   ]
  },
  {
   "cell_type": "code",
   "execution_count": 8,
   "id": "9afc6845",
   "metadata": {},
   "outputs": [
    {
     "name": "stdout",
     "output_type": "stream",
     "text": [
      "Média 8.0\n",
      "Variância 1.6\n",
      "Desvio Padrão 1.2649\n"
     ]
    },
    {
     "data": {
      "image/png": "[encoded data removed]",
      "text/plain": [
       "<Figure size 432x288 with 1 Axes>"
      ]
     },
     "metadata": {
      "needs_background": "light"
     },
     "output_type": "display_data"
    }
   ],
   "source": [
    "tb = analise_binomial(0.8, 10)"
   ]
  },
  {
   "cell_type": "markdown",
   "id": "0fbfa732",
   "metadata": {},
   "source": [
    "# EXEMPLOS"
   ]
  },
  {
   "cell_type": "markdown",
   "id": "cda70132",
   "metadata": {},
   "source": [
    "## 1º Problema\n",
    "\n",
    "Lançando uma moeda 3 vezes qual é a probabilidade de conseguir tirar duas caras"
   ]
  },
  {
   "cell_type": "code",
   "execution_count": 9,
   "id": "18fea5b5",
   "metadata": {},
   "outputs": [
    {
     "name": "stdout",
     "output_type": "stream",
     "text": [
      "Média 1.5\n",
      "Variância 0.75\n",
      "Desvio Padrão 0.866\n"
     ]
    },
    {
     "data": {
      "image/png": "[encoded data removed]",
      "text/plain": [
       "<Figure size 432x288 with 1 Axes>"
      ]
     },
     "metadata": {
      "needs_background": "light"
     },
     "output_type": "display_data"
    },
    {
     "data": {
      "text/html": [
       "<div>\n",
       "<style scoped>\n",
       "    .dataframe tbody tr th:only-of-type {\n",
       "        vertical-align: middle;\n",
       "    }\n",
       "\n",
       "    .dataframe tbody tr th {\n",
       "        vertical-align: top;\n",
       "    }\n",
       "\n",
       "    .dataframe thead th {\n",
       "        text-align: right;\n",
       "    }\n",
       "</style>\n",
       "<table border=\"1\" class=\"dataframe\">\n",
       "  <thead>\n",
       "    <tr style=\"text-align: right;\">\n",
       "      <th></th>\n",
       "      <th>x</th>\n",
       "      <th>P(x)</th>\n",
       "    </tr>\n",
       "  </thead>\n",
       "  <tbody>\n",
       "    <tr>\n",
       "      <th>0</th>\n",
       "      <td>0</td>\n",
       "      <td>0.125</td>\n",
       "    </tr>\n",
       "    <tr>\n",
       "      <th>1</th>\n",
       "      <td>1</td>\n",
       "      <td>0.375</td>\n",
       "    </tr>\n",
       "    <tr>\n",
       "      <th>2</th>\n",
       "      <td>2</td>\n",
       "      <td>0.375</td>\n",
       "    </tr>\n",
       "    <tr>\n",
       "      <th>3</th>\n",
       "      <td>3</td>\n",
       "      <td>0.125</td>\n",
       "    </tr>\n",
       "  </tbody>\n",
       "</table>\n",
       "</div>"
      ],
      "text/plain": [
       "   x   P(x)\n",
       "0  0  0.125\n",
       "1  1  0.375\n",
       "2  2  0.375\n",
       "3  3  0.125"
      ]
     },
     "execution_count": 9,
     "metadata": {},
     "output_type": "execute_result"
    }
   ],
   "source": [
    "tb = analise_binomial(0.5, 3)\n",
    "tb"
   ]
  },
  {
   "cell_type": "markdown",
   "id": "52422983",
   "metadata": {},
   "source": [
    "## 2º Problema\n",
    "\n",
    "Lançando uma moeda 10 vezes qual é a probabilidade de conseguir tirar duas caras"
   ]
  },
  {
   "cell_type": "code",
   "execution_count": 10,
   "id": "95453fb8",
   "metadata": {},
   "outputs": [
    {
     "name": "stdout",
     "output_type": "stream",
     "text": [
      "Média 5.0\n",
      "Variância 2.5\n",
      "Desvio Padrão 1.5811\n"
     ]
    },
    {
     "data": {
      "image/png": "[encoded data removed]",
      "text/plain": [
       "<Figure size 432x288 with 1 Axes>"
      ]
     },
     "metadata": {
      "needs_background": "light"
     },
     "output_type": "display_data"
    },
    {
     "data": {
      "text/html": [
       "<div>\n",
       "<style scoped>\n",
       "    .dataframe tbody tr th:only-of-type {\n",
       "        vertical-align: middle;\n",
       "    }\n",
       "\n",
       "    .dataframe tbody tr th {\n",
       "        vertical-align: top;\n",
       "    }\n",
       "\n",
       "    .dataframe thead th {\n",
       "        text-align: right;\n",
       "    }\n",
       "</style>\n",
       "<table border=\"1\" class=\"dataframe\">\n",
       "  <thead>\n",
       "    <tr style=\"text-align: right;\">\n",
       "      <th></th>\n",
       "      <th>x</th>\n",
       "      <th>P(x)</th>\n",
       "    </tr>\n",
       "  </thead>\n",
       "  <tbody>\n",
       "    <tr>\n",
       "      <th>0</th>\n",
       "      <td>0</td>\n",
       "      <td>0.0010</td>\n",
       "    </tr>\n",
       "    <tr>\n",
       "      <th>1</th>\n",
       "      <td>1</td>\n",
       "      <td>0.0098</td>\n",
       "    </tr>\n",
       "    <tr>\n",
       "      <th>2</th>\n",
       "      <td>2</td>\n",
       "      <td>0.0439</td>\n",
       "    </tr>\n",
       "    <tr>\n",
       "      <th>3</th>\n",
       "      <td>3</td>\n",
       "      <td>0.1172</td>\n",
       "    </tr>\n",
       "    <tr>\n",
       "      <th>4</th>\n",
       "      <td>4</td>\n",
       "      <td>0.2051</td>\n",
       "    </tr>\n",
       "    <tr>\n",
       "      <th>5</th>\n",
       "      <td>5</td>\n",
       "      <td>0.2461</td>\n",
       "    </tr>\n",
       "    <tr>\n",
       "      <th>6</th>\n",
       "      <td>6</td>\n",
       "      <td>0.2051</td>\n",
       "    </tr>\n",
       "    <tr>\n",
       "      <th>7</th>\n",
       "      <td>7</td>\n",
       "      <td>0.1172</td>\n",
       "    </tr>\n",
       "    <tr>\n",
       "      <th>8</th>\n",
       "      <td>8</td>\n",
       "      <td>0.0439</td>\n",
       "    </tr>\n",
       "    <tr>\n",
       "      <th>9</th>\n",
       "      <td>9</td>\n",
       "      <td>0.0098</td>\n",
       "    </tr>\n",
       "    <tr>\n",
       "      <th>10</th>\n",
       "      <td>10</td>\n",
       "      <td>0.0010</td>\n",
       "    </tr>\n",
       "  </tbody>\n",
       "</table>\n",
       "</div>"
      ],
      "text/plain": [
       "     x    P(x)\n",
       "0    0  0.0010\n",
       "1    1  0.0098\n",
       "2    2  0.0439\n",
       "3    3  0.1172\n",
       "4    4  0.2051\n",
       "5    5  0.2461\n",
       "6    6  0.2051\n",
       "7    7  0.1172\n",
       "8    8  0.0439\n",
       "9    9  0.0098\n",
       "10  10  0.0010"
      ]
     },
     "execution_count": 10,
     "metadata": {},
     "output_type": "execute_result"
    }
   ],
   "source": [
    "tb = analise_binomial(0.5, 10)\n",
    "tb"
   ]
  },
  {
   "cell_type": "markdown",
   "id": "1c278fa0",
   "metadata": {},
   "source": [
    "## 3º Problema\n",
    "\n",
    "Lançando um dado 1 vez qual a probabilidade de conseguir tirar o número 1"
   ]
  },
  {
   "cell_type": "code",
   "execution_count": 11,
   "id": "d7a2b1ae",
   "metadata": {},
   "outputs": [
    {
     "name": "stdout",
     "output_type": "stream",
     "text": [
      "Média 0.1667\n",
      "Variância 0.1389\n",
      "Desvio Padrão 0.3727\n"
     ]
    },
    {
     "data": {
      "image/png": "[encoded data removed]",
      "text/plain": [
       "<Figure size 432x288 with 1 Axes>"
      ]
     },
     "metadata": {
      "needs_background": "light"
     },
     "output_type": "display_data"
    },
    {
     "data": {
      "text/html": [
       "<div>\n",
       "<style scoped>\n",
       "    .dataframe tbody tr th:only-of-type {\n",
       "        vertical-align: middle;\n",
       "    }\n",
       "\n",
       "    .dataframe tbody tr th {\n",
       "        vertical-align: top;\n",
       "    }\n",
       "\n",
       "    .dataframe thead th {\n",
       "        text-align: right;\n",
       "    }\n",
       "</style>\n",
       "<table border=\"1\" class=\"dataframe\">\n",
       "  <thead>\n",
       "    <tr style=\"text-align: right;\">\n",
       "      <th></th>\n",
       "      <th>x</th>\n",
       "      <th>P(x)</th>\n",
       "    </tr>\n",
       "  </thead>\n",
       "  <tbody>\n",
       "    <tr>\n",
       "      <th>0</th>\n",
       "      <td>0</td>\n",
       "      <td>0.8333</td>\n",
       "    </tr>\n",
       "    <tr>\n",
       "      <th>1</th>\n",
       "      <td>1</td>\n",
       "      <td>0.1667</td>\n",
       "    </tr>\n",
       "  </tbody>\n",
       "</table>\n",
       "</div>"
      ],
      "text/plain": [
       "   x    P(x)\n",
       "0  0  0.8333\n",
       "1  1  0.1667"
      ]
     },
     "execution_count": 11,
     "metadata": {},
     "output_type": "execute_result"
    }
   ],
   "source": [
    "tb = analise_binomial(1/6, 1)\n",
    "tb"
   ]
  },
  {
   "cell_type": "markdown",
   "id": "438f3618",
   "metadata": {},
   "source": [
    "## 4º Problema\n",
    "\n",
    "Lançando um dado 5 vez qual a probabilidade de conseguir tirar o número 1"
   ]
  },
  {
   "cell_type": "code",
   "execution_count": 12,
   "id": "d26e0569",
   "metadata": {},
   "outputs": [
    {
     "name": "stdout",
     "output_type": "stream",
     "text": [
      "Média 0.8333\n",
      "Variância 0.6944\n",
      "Desvio Padrão 0.8333\n"
     ]
    },
    {
     "data": {
      "image/png": "[encoded data removed]",
      "text/plain": [
       "<Figure size 432x288 with 1 Axes>"
      ]
     },
     "metadata": {
      "needs_background": "light"
     },
     "output_type": "display_data"
    },
    {
     "data": {
      "text/html": [
       "<div>\n",
       "<style scoped>\n",
       "    .dataframe tbody tr th:only-of-type {\n",
       "        vertical-align: middle;\n",
       "    }\n",
       "\n",
       "    .dataframe tbody tr th {\n",
       "        vertical-align: top;\n",
       "    }\n",
       "\n",
       "    .dataframe thead th {\n",
       "        text-align: right;\n",
       "    }\n",
       "</style>\n",
       "<table border=\"1\" class=\"dataframe\">\n",
       "  <thead>\n",
       "    <tr style=\"text-align: right;\">\n",
       "      <th></th>\n",
       "      <th>x</th>\n",
       "      <th>P(x)</th>\n",
       "    </tr>\n",
       "  </thead>\n",
       "  <tbody>\n",
       "    <tr>\n",
       "      <th>0</th>\n",
       "      <td>0</td>\n",
       "      <td>0.4019</td>\n",
       "    </tr>\n",
       "    <tr>\n",
       "      <th>1</th>\n",
       "      <td>1</td>\n",
       "      <td>0.4019</td>\n",
       "    </tr>\n",
       "    <tr>\n",
       "      <th>2</th>\n",
       "      <td>2</td>\n",
       "      <td>0.1608</td>\n",
       "    </tr>\n",
       "    <tr>\n",
       "      <th>3</th>\n",
       "      <td>3</td>\n",
       "      <td>0.0322</td>\n",
       "    </tr>\n",
       "    <tr>\n",
       "      <th>4</th>\n",
       "      <td>4</td>\n",
       "      <td>0.0032</td>\n",
       "    </tr>\n",
       "    <tr>\n",
       "      <th>5</th>\n",
       "      <td>5</td>\n",
       "      <td>0.0001</td>\n",
       "    </tr>\n",
       "  </tbody>\n",
       "</table>\n",
       "</div>"
      ],
      "text/plain": [
       "   x    P(x)\n",
       "0  0  0.4019\n",
       "1  1  0.4019\n",
       "2  2  0.1608\n",
       "3  3  0.0322\n",
       "4  4  0.0032\n",
       "5  5  0.0001"
      ]
     },
     "execution_count": 12,
     "metadata": {},
     "output_type": "execute_result"
    }
   ],
   "source": [
    "tb = analise_binomial(1/6, 5)\n",
    "tb"
   ]
  },
  {
   "cell_type": "markdown",
   "id": "4fb54487",
   "metadata": {},
   "source": [
    "## 5º Problema\n",
    "\n",
    "Lançando um dado 5 vez qual a probabilidade de conseguir tirar o número 1, 3 vezes"
   ]
  },
  {
   "cell_type": "code",
   "execution_count": 13,
   "id": "85558a73",
   "metadata": {},
   "outputs": [
    {
     "name": "stdout",
     "output_type": "stream",
     "text": [
      "Média 0.8333\n",
      "Variância 0.6944\n",
      "Desvio Padrão 0.8333\n"
     ]
    },
    {
     "data": {
      "image/png": "[encoded data removed]",
      "text/plain": [
       "<Figure size 432x288 with 1 Axes>"
      ]
     },
     "metadata": {
      "needs_background": "light"
     },
     "output_type": "display_data"
    },
    {
     "data": {
      "text/html": [
       "<div>\n",
       "<style scoped>\n",
       "    .dataframe tbody tr th:only-of-type {\n",
       "        vertical-align: middle;\n",
       "    }\n",
       "\n",
       "    .dataframe tbody tr th {\n",
       "        vertical-align: top;\n",
       "    }\n",
       "\n",
       "    .dataframe thead th {\n",
       "        text-align: right;\n",
       "    }\n",
       "</style>\n",
       "<table border=\"1\" class=\"dataframe\">\n",
       "  <thead>\n",
       "    <tr style=\"text-align: right;\">\n",
       "      <th></th>\n",
       "      <th>x</th>\n",
       "      <th>P(x)</th>\n",
       "    </tr>\n",
       "  </thead>\n",
       "  <tbody>\n",
       "    <tr>\n",
       "      <th>0</th>\n",
       "      <td>0</td>\n",
       "      <td>0.4019</td>\n",
       "    </tr>\n",
       "    <tr>\n",
       "      <th>1</th>\n",
       "      <td>1</td>\n",
       "      <td>0.4019</td>\n",
       "    </tr>\n",
       "    <tr>\n",
       "      <th>2</th>\n",
       "      <td>2</td>\n",
       "      <td>0.1608</td>\n",
       "    </tr>\n",
       "    <tr>\n",
       "      <th>3</th>\n",
       "      <td>3</td>\n",
       "      <td>0.0322</td>\n",
       "    </tr>\n",
       "    <tr>\n",
       "      <th>4</th>\n",
       "      <td>4</td>\n",
       "      <td>0.0032</td>\n",
       "    </tr>\n",
       "    <tr>\n",
       "      <th>5</th>\n",
       "      <td>5</td>\n",
       "      <td>0.0001</td>\n",
       "    </tr>\n",
       "  </tbody>\n",
       "</table>\n",
       "</div>"
      ],
      "text/plain": [
       "   x    P(x)\n",
       "0  0  0.4019\n",
       "1  1  0.4019\n",
       "2  2  0.1608\n",
       "3  3  0.0322\n",
       "4  4  0.0032\n",
       "5  5  0.0001"
      ]
     },
     "execution_count": 13,
     "metadata": {},
     "output_type": "execute_result"
    }
   ],
   "source": [
    "tb = analise_binomial(1/6, 5)\n",
    "tb"
   ]
  },
  {
   "cell_type": "markdown",
   "id": "02f5e3e0",
   "metadata": {},
   "source": [
    "# CÁLCULO DO VARIÂNCIA E DESVIO PADRÃO"
   ]
  },
  {
   "cell_type": "code",
   "execution_count": 14,
   "id": "fc71f3c4",
   "metadata": {},
   "outputs": [
    {
     "name": "stdout",
     "output_type": "stream",
     "text": [
      "Média 0.8333\n",
      "Variância 0.6944\n",
      "Desvio Padrão 0.8333\n"
     ]
    },
    {
     "data": {
      "image/png": "[encoded data removed]",
      "text/plain": [
       "<Figure size 432x288 with 1 Axes>"
      ]
     },
     "metadata": {
      "needs_background": "light"
     },
     "output_type": "display_data"
    },
    {
     "data": {
      "text/html": [
       "<div>\n",
       "<style scoped>\n",
       "    .dataframe tbody tr th:only-of-type {\n",
       "        vertical-align: middle;\n",
       "    }\n",
       "\n",
       "    .dataframe tbody tr th {\n",
       "        vertical-align: top;\n",
       "    }\n",
       "\n",
       "    .dataframe thead th {\n",
       "        text-align: right;\n",
       "    }\n",
       "</style>\n",
       "<table border=\"1\" class=\"dataframe\">\n",
       "  <thead>\n",
       "    <tr style=\"text-align: right;\">\n",
       "      <th></th>\n",
       "      <th>x</th>\n",
       "      <th>P(x)</th>\n",
       "    </tr>\n",
       "  </thead>\n",
       "  <tbody>\n",
       "    <tr>\n",
       "      <th>0</th>\n",
       "      <td>0</td>\n",
       "      <td>0.4019</td>\n",
       "    </tr>\n",
       "    <tr>\n",
       "      <th>1</th>\n",
       "      <td>1</td>\n",
       "      <td>0.4019</td>\n",
       "    </tr>\n",
       "    <tr>\n",
       "      <th>2</th>\n",
       "      <td>2</td>\n",
       "      <td>0.1608</td>\n",
       "    </tr>\n",
       "    <tr>\n",
       "      <th>3</th>\n",
       "      <td>3</td>\n",
       "      <td>0.0322</td>\n",
       "    </tr>\n",
       "    <tr>\n",
       "      <th>4</th>\n",
       "      <td>4</td>\n",
       "      <td>0.0032</td>\n",
       "    </tr>\n",
       "    <tr>\n",
       "      <th>5</th>\n",
       "      <td>5</td>\n",
       "      <td>0.0001</td>\n",
       "    </tr>\n",
       "  </tbody>\n",
       "</table>\n",
       "</div>"
      ],
      "text/plain": [
       "   x    P(x)\n",
       "0  0  0.4019\n",
       "1  1  0.4019\n",
       "2  2  0.1608\n",
       "3  3  0.0322\n",
       "4  4  0.0032\n",
       "5  5  0.0001"
      ]
     },
     "execution_count": 14,
     "metadata": {},
     "output_type": "execute_result"
    }
   ],
   "source": [
    "tb = analise_binomial(1/6, 5)\n",
    "tb"
   ]
  },
  {
   "cell_type": "code",
   "execution_count": 15,
   "id": "ac267e7e",
   "metadata": {},
   "outputs": [
    {
     "data": {
      "text/plain": [
       "0.8333333333333333"
      ]
     },
     "execution_count": 15,
     "metadata": {},
     "output_type": "execute_result"
    }
   ],
   "source": [
    "# MÉDIA M = N.P\n",
    "\n",
    "5 * (1/6)"
   ]
  },
  {
   "cell_type": "code",
   "execution_count": 16,
   "id": "5647e6a2",
   "metadata": {},
   "outputs": [
    {
     "data": {
      "text/plain": [
       "0.6944444444444444"
      ]
     },
     "execution_count": 16,
     "metadata": {},
     "output_type": "execute_result"
    }
   ],
   "source": [
    "# VARIÂNCIA o^2 = np(1-p)\n",
    "\n",
    "5 * (1/6) * (1 - (1/6))"
   ]
  },
  {
   "cell_type": "code",
   "execution_count": 17,
   "id": "e31c3f12",
   "metadata": {},
   "outputs": [
    {
     "data": {
      "text/plain": [
       "0.8333333333333334"
      ]
     },
     "execution_count": 17,
     "metadata": {},
     "output_type": "execute_result"
    }
   ],
   "source": [
    "# DESVIO PADRÃO dp = (o^2)^0.5\n",
    "\n",
    "(5 * (1/6) * (1 - (1/6))) ** 0.5"
   ]
  }
 ],
 "metadata": {
  "kernelspec": {
   "display_name": "Python 3 (ipykernel)",
   "language": "python",
   "name": "python3"
  },
  "language_info": {
   "codemirror_mode": {
    "name": "ipython",
    "version": 3
   },
   "file_extension": ".py",
   "mimetype": "text/x-python",
   "name": "python",
   "nbconvert_exporter": "python",
   "pygments_lexer": "ipython3",
   "version": "3.9.7"
  }
 },
 "nbformat": 4,
 "nbformat_minor": 5
}
