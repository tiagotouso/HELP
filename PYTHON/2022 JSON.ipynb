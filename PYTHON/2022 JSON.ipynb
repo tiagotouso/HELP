{
 "cells": [
  {
   "cell_type": "markdown",
   "id": "c6907049",
   "metadata": {},
   "source": [
    "# JSON"
   ]
  },
  {
   "cell_type": "code",
   "execution_count": 1,
   "id": "2dd74f79",
   "metadata": {},
   "outputs": [],
   "source": [
    "# IMPORTAR MÓDULOS\n",
    "\n",
    "import json\n",
    "\n",
    "from faker import Faker"
   ]
  },
  {
   "cell_type": "code",
   "execution_count": 2,
   "id": "a47af322",
   "metadata": {},
   "outputs": [
    {
     "data": {
      "text/plain": [
       "'[{\"name\": \"Matthew Caldwell\", \"residency\": \"91036 Scott Creek Suite 233\\\\nSouth Kenneth, CT 90073\"}, {\"name\": \"Breanna Ortiz\", \"residency\": \"0499 Ronald Loop Suite 248\\\\nCynthiaside, DC 06434\"}, {\"name\": \"James Cox\", \"residency\": \"371 Santos Courts\\\\nSouth Thomasmouth, DE 75722\"}, {\"name\": \"Mark Dominguez\", \"residency\": \"406 Wilson Land Suite 134\\\\nPort Meganstad, SD 32903\"}, {\"name\": \"Beth Ortiz\", \"residency\": \"Unit 9226 Box 8306\\\\nDPO AE 57201\"}, {\"name\": \"Penny Sims\", \"residency\": \"1580 Stafford Ridges\\\\nSouth Amber, WA 44691\"}, {\"name\": \"Alex Sanders\", \"residency\": \"85233 Black Expressway\\\\nWest Lauratown, MN 87925\"}, {\"name\": \"Roger Smith\", \"residency\": \"02630 Martin Overpass Suite 968\\\\nLake Randy, AK 81546\"}, {\"name\": \"Marcus Madden\", \"residency\": \"8027 Daniel Rapids\\\\nLake Rebecca, AZ 27765\"}, {\"name\": \"Shannon Quinn\", \"residency\": \"93179 Campbell Port\\\\nNorth Jonathan, DE 80521\"}]'"
      ]
     },
     "execution_count": 2,
     "metadata": {},
     "output_type": "execute_result"
    }
   ],
   "source": [
    "# CRIAR DADOS VARIÁVEIS\n",
    "\n",
    "fake = Faker()\n",
    "dados = fake.json()\n",
    "dados"
   ]
  },
  {
   "cell_type": "code",
   "execution_count": 3,
   "id": "a48fc62a",
   "metadata": {},
   "outputs": [
    {
     "data": {
      "text/plain": [
       "str"
      ]
     },
     "execution_count": 3,
     "metadata": {},
     "output_type": "execute_result"
    }
   ],
   "source": [
    "# EXIBIR TIPO DOS DADOS\n",
    "\n",
    "type(dados)"
   ]
  },
  {
   "cell_type": "code",
   "execution_count": 4,
   "id": "c5125768",
   "metadata": {},
   "outputs": [],
   "source": [
    "# CRIAR UM OBJETO JSON - STRING TO JSON\n",
    "\n",
    "contato = json.loads(dados)"
   ]
  },
  {
   "cell_type": "code",
   "execution_count": 5,
   "id": "4446071f",
   "metadata": {},
   "outputs": [
    {
     "data": {
      "text/plain": [
       "list"
      ]
     },
     "execution_count": 5,
     "metadata": {},
     "output_type": "execute_result"
    }
   ],
   "source": [
    "# EXIBIR TIPO\n",
    "\n",
    "type(contato)"
   ]
  },
  {
   "cell_type": "code",
   "execution_count": 6,
   "id": "fcacd3dd",
   "metadata": {},
   "outputs": [
    {
     "data": {
      "text/plain": [
       "[{'name': 'Matthew Caldwell',\n",
       "  'residency': '91036 Scott Creek Suite 233\\nSouth Kenneth, CT 90073'},\n",
       " {'name': 'Breanna Ortiz',\n",
       "  'residency': '0499 Ronald Loop Suite 248\\nCynthiaside, DC 06434'},\n",
       " {'name': 'James Cox',\n",
       "  'residency': '371 Santos Courts\\nSouth Thomasmouth, DE 75722'},\n",
       " {'name': 'Mark Dominguez',\n",
       "  'residency': '406 Wilson Land Suite 134\\nPort Meganstad, SD 32903'},\n",
       " {'name': 'Beth Ortiz', 'residency': 'Unit 9226 Box 8306\\nDPO AE 57201'},\n",
       " {'name': 'Penny Sims',\n",
       "  'residency': '1580 Stafford Ridges\\nSouth Amber, WA 44691'},\n",
       " {'name': 'Alex Sanders',\n",
       "  'residency': '85233 Black Expressway\\nWest Lauratown, MN 87925'},\n",
       " {'name': 'Roger Smith',\n",
       "  'residency': '02630 Martin Overpass Suite 968\\nLake Randy, AK 81546'},\n",
       " {'name': 'Marcus Madden',\n",
       "  'residency': '8027 Daniel Rapids\\nLake Rebecca, AZ 27765'},\n",
       " {'name': 'Shannon Quinn',\n",
       "  'residency': '93179 Campbell Port\\nNorth Jonathan, DE 80521'}]"
      ]
     },
     "execution_count": 6,
     "metadata": {},
     "output_type": "execute_result"
    }
   ],
   "source": [
    "# EXIBIR A VARIÁVEL\n",
    "\n",
    "contato"
   ]
  },
  {
   "cell_type": "code",
   "execution_count": 7,
   "id": "e05515af",
   "metadata": {},
   "outputs": [
    {
     "data": {
      "text/plain": [
       "{'name': 'Matthew Caldwell',\n",
       " 'residency': '91036 Scott Creek Suite 233\\nSouth Kenneth, CT 90073'}"
      ]
     },
     "execution_count": 7,
     "metadata": {},
     "output_type": "execute_result"
    }
   ],
   "source": [
    "# ACESSANDO A VARIÁVEL\n",
    "\n",
    "contato[0]"
   ]
  },
  {
   "cell_type": "code",
   "execution_count": 8,
   "id": "7e1a0fde",
   "metadata": {},
   "outputs": [],
   "source": [
    "# ACRESCENTANDO MAIS DADOS A VARIÁVEL\n",
    "\n",
    "contato.append({'name': 'Josi Peterson', 'residency': 'May city'})"
   ]
  },
  {
   "cell_type": "code",
   "execution_count": 9,
   "id": "78edbfe8",
   "metadata": {},
   "outputs": [],
   "source": [
    "# CRIANDO UM ARQUIVO JSON\n",
    "\n",
    "with open('json.json', 'w') as arquivo:\n",
    "    json.dump(contato, arquivo, indent=4)"
   ]
  },
  {
   "cell_type": "code",
   "execution_count": 10,
   "id": "7e2205ed",
   "metadata": {},
   "outputs": [],
   "source": [
    "# LER O ARQUIVO JSON\n",
    "\n",
    "with open('json.json', 'r') as arquivo:\n",
    "    contato = json.load(arquivo)"
   ]
  },
  {
   "cell_type": "code",
   "execution_count": 11,
   "id": "62d139ee",
   "metadata": {},
   "outputs": [
    {
     "data": {
      "text/plain": [
       "{'name': 'Josi Peterson', 'residency': 'May city'}"
      ]
     },
     "execution_count": 11,
     "metadata": {},
     "output_type": "execute_result"
    }
   ],
   "source": [
    "# ACESSANDO O ÚLTIMO ARQUIVO\n",
    "\n",
    "contato[-1]"
   ]
  },
  {
   "cell_type": "code",
   "execution_count": 12,
   "id": "66549869",
   "metadata": {},
   "outputs": [
    {
     "data": {
      "text/plain": [
       "[{'name': 'Matthew Caldwell',\n",
       "  'residency': '91036 Scott Creek Suite 233\\nSouth Kenneth, CT 90073'},\n",
       " {'name': 'Breanna Ortiz',\n",
       "  'residency': '0499 Ronald Loop Suite 248\\nCynthiaside, DC 06434'},\n",
       " {'name': 'James Cox',\n",
       "  'residency': '371 Santos Courts\\nSouth Thomasmouth, DE 75722'},\n",
       " {'name': 'Mark Dominguez',\n",
       "  'residency': '406 Wilson Land Suite 134\\nPort Meganstad, SD 32903'},\n",
       " {'name': 'Beth Ortiz', 'residency': 'Unit 9226 Box 8306\\nDPO AE 57201'},\n",
       " {'name': 'Penny Sims',\n",
       "  'residency': '1580 Stafford Ridges\\nSouth Amber, WA 44691'},\n",
       " {'name': 'Alex Sanders',\n",
       "  'residency': '85233 Black Expressway\\nWest Lauratown, MN 87925'},\n",
       " {'name': 'Roger Smith',\n",
       "  'residency': '02630 Martin Overpass Suite 968\\nLake Randy, AK 81546'},\n",
       " {'name': 'Marcus Madden',\n",
       "  'residency': '8027 Daniel Rapids\\nLake Rebecca, AZ 27765'},\n",
       " {'name': 'Shannon Quinn',\n",
       "  'residency': '93179 Campbell Port\\nNorth Jonathan, DE 80521'},\n",
       " {'name': 'Josi Peterson', 'residency': 'May city'}]"
      ]
     },
     "execution_count": 12,
     "metadata": {},
     "output_type": "execute_result"
    }
   ],
   "source": [
    "# EXIBIR TODOS OS ARQUIVOS\n",
    "\n",
    "contato"
   ]
  }
 ],
 "metadata": {
  "kernelspec": {
   "display_name": "Python 3 (ipykernel)",
   "language": "python",
   "name": "python3"
  },
  "language_info": {
   "codemirror_mode": {
    "name": "ipython",
    "version": 3
   },
   "file_extension": ".py",
   "mimetype": "text/x-python",
   "name": "python",
   "nbconvert_exporter": "python",
   "pygments_lexer": "ipython3",
   "version": "3.9.12"
  }
 },
 "nbformat": 4,
 "nbformat_minor": 5
}
