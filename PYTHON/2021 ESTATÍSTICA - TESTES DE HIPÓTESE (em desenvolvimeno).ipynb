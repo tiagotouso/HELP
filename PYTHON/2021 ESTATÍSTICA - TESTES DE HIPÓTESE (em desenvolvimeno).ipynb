{
 "cells": [
  {
   "cell_type": "code",
   "execution_count": 3,
   "metadata": {
    "id": "m-eDAjH1JP3p"
   },
   "outputs": [],
   "source": [
    "import scipy\n",
    "import scipy.stats as st\n",
    "import numpy as np"
   ]
  },
  {
   "cell_type": "code",
   "execution_count": 4,
   "metadata": {
    "id": "kdUeHIVJJQ3Z"
   },
   "outputs": [
    {
     "name": "stdout",
     "output_type": "stream",
     "text": [
      "Python 3.9.7\n",
      "numpy==1.20.3\n",
      "scipy==1.7.1\n"
     ]
    }
   ],
   "source": [
    "# Versões dos módulos\n",
    "\n",
    "!python --version\n",
    "%reload_ext watermark\n",
    "%watermark --iversions"
   ]
  },
  {
   "cell_type": "code",
   "execution_count": null,
   "metadata": {
    "colab": {
     "base_uri": "https://localhost:8080/"
    },
    "executionInfo": {
     "elapsed": 363,
     "status": "ok",
     "timestamp": 1638202946257,
     "user": {
      "displayName": "Tiago Touso",
      "photoUrl": "https://lh3.googleusercontent.com/a-/AOh14GhUFDrBff9GnccW6ExvA80d8F7WCL2Yak8UIQOpFHc=s64",
      "userId": "13039814104467109855"
     },
     "user_tz": 180
    },
    "id": "fX8DZbohJQ6u",
    "outputId": "32019d28-16c6-4671-c9b9-bf57351d534d"
   },
   "outputs": [
    {
     "data": {
      "text/plain": [
       "-1.6448536269514729"
      ]
     },
     "execution_count": 3,
     "metadata": {},
     "output_type": "execute_result"
    }
   ],
   "source": [
    "\n",
    "\n",
    "st.norm.ppf(.05)"
   ]
  },
  {
   "cell_type": "code",
   "execution_count": null,
   "metadata": {
    "colab": {
     "base_uri": "https://localhost:8080/"
    },
    "executionInfo": {
     "elapsed": 288,
     "status": "ok",
     "timestamp": 1638196948948,
     "user": {
      "displayName": "Tiago Touso",
      "photoUrl": "https://lh3.googleusercontent.com/a-/AOh14GhUFDrBff9GnccW6ExvA80d8F7WCL2Yak8UIQOpFHc=s64",
      "userId": "13039814104467109855"
     },
     "user_tz": 180
    },
    "id": "FwZ-khfnJRKP",
    "outputId": "08d7c4c5-60f1-4e82-e6e4-81b7967be715"
   },
   "outputs": [
    {
     "data": {
      "text/plain": [
       "0.9494974165258963"
      ]
     },
     "execution_count": 3,
     "metadata": {},
     "output_type": "execute_result"
    }
   ],
   "source": [
    "st.norm.cdf(1.64)"
   ]
  },
  {
   "cell_type": "code",
   "execution_count": null,
   "metadata": {
    "id": "yCxfsPAkJRP2"
   },
   "outputs": [],
   "source": []
  },
  {
   "cell_type": "code",
   "execution_count": null,
   "metadata": {
    "colab": {
     "base_uri": "https://localhost:8080/"
    },
    "executionInfo": {
     "elapsed": 4,
     "status": "ok",
     "timestamp": 1638197724206,
     "user": {
      "displayName": "Tiago Touso",
      "photoUrl": "https://lh3.googleusercontent.com/a-/AOh14GhUFDrBff9GnccW6ExvA80d8F7WCL2Yak8UIQOpFHc=s64",
      "userId": "13039814104467109855"
     },
     "user_tz": 180
    },
    "id": "sYYMVkTTJRS-",
    "outputId": "8bbb78dc-e248-4596-e2ae-267fcd28d031"
   },
   "outputs": [
    {
     "name": "stdout",
     "output_type": "stream",
     "text": [
      "0.05 -1.6448536269514729\n",
      "0.1 -1.2815515655446004\n",
      "0.14 -1.0803193408149558\n",
      "0.19 -0.8778962950512288\n",
      "0.24 -0.7063025628400874\n",
      "0.29 -0.5533847195556729\n",
      "0.33 -0.4399131656732338\n",
      "0.38 -0.3054807880993974\n",
      "0.43 -0.17637416478086135\n",
      "0.48 -0.05015358346473367\n",
      "0.52 0.05015358346473367\n",
      "0.57 0.1763741647808612\n",
      "0.62 0.3054807880993974\n",
      "0.67 0.4399131656732339\n",
      "0.71 0.5533847195556727\n",
      "0.76 0.7063025628400874\n",
      "0.81 0.8778962950512289\n",
      "0.86 1.0803193408149558\n",
      "0.9 1.2815515655446004\n",
      "0.95 1.6448536269514722\n"
     ]
    }
   ],
   "source": [
    "for vl in np.linspace(0.05, 0.95, 20):\n",
    "  vl =round(vl, 2)\n",
    "  print(vl, st.norm.ppf(vl))"
   ]
  },
  {
   "cell_type": "code",
   "execution_count": null,
   "metadata": {
    "id": "9ZlmlRCqJySw"
   },
   "outputs": [],
   "source": []
  },
  {
   "cell_type": "code",
   "execution_count": null,
   "metadata": {
    "colab": {
     "base_uri": "https://localhost:8080/"
    },
    "executionInfo": {
     "elapsed": 407,
     "status": "ok",
     "timestamp": 1638203317719,
     "user": {
      "displayName": "Tiago Touso",
      "photoUrl": "https://lh3.googleusercontent.com/a-/AOh14GhUFDrBff9GnccW6ExvA80d8F7WCL2Yak8UIQOpFHc=s64",
      "userId": "13039814104467109855"
     },
     "user_tz": 180
    },
    "id": "7Y9srSQqJyV4",
    "outputId": "e2461f7a-9b3c-4fc7-8146-0edbc5e0e582"
   },
   "outputs": [
    {
     "data": {
      "text/plain": [
       "-1.6448536269514729"
      ]
     },
     "execution_count": 14,
     "metadata": {},
     "output_type": "execute_result"
    }
   ],
   "source": [
    "st.norm.ppf(.05)"
   ]
  },
  {
   "cell_type": "code",
   "execution_count": null,
   "metadata": {
    "colab": {
     "base_uri": "https://localhost:8080/"
    },
    "executionInfo": {
     "elapsed": 336,
     "status": "ok",
     "timestamp": 1638203029006,
     "user": {
      "displayName": "Tiago Touso",
      "photoUrl": "https://lh3.googleusercontent.com/a-/AOh14GhUFDrBff9GnccW6ExvA80d8F7WCL2Yak8UIQOpFHc=s64",
      "userId": "13039814104467109855"
     },
     "user_tz": 180
    },
    "id": "ATLvI6Y4JyZf",
    "outputId": "c3f1e85d-b9f4-4435-a9bd-1ba802c0d810"
   },
   "outputs": [
    {
     "data": {
      "text/plain": [
       "0.999999"
      ]
     },
     "execution_count": 11,
     "metadata": {},
     "output_type": "execute_result"
    }
   ],
   "source": [
    "st.norm.cdf(4.753424308817087)"
   ]
  },
  {
   "cell_type": "code",
   "execution_count": null,
   "metadata": {
    "id": "rRO0WG2IJycY"
   },
   "outputs": [],
   "source": []
  },
  {
   "cell_type": "code",
   "execution_count": null,
   "metadata": {
    "colab": {
     "base_uri": "https://localhost:8080/",
     "height": 1000
    },
    "executionInfo": {
     "elapsed": 1451,
     "status": "ok",
     "timestamp": 1638202829082,
     "user": {
      "displayName": "Tiago Touso",
      "photoUrl": "https://lh3.googleusercontent.com/a-/AOh14GhUFDrBff9GnccW6ExvA80d8F7WCL2Yak8UIQOpFHc=s64",
      "userId": "13039814104467109855"
     },
     "user_tz": 180
    },
    "id": "7Jcbp1_IfyRe",
    "outputId": "57c5308f-fc82-4af9-ab6a-762201e350b6"
   },
   "outputs": [
    {
     "data": {
      "text/html": [
       "<div>\n",
       "<style scoped>\n",
       "    .dataframe tbody tr th:only-of-type {\n",
       "        vertical-align: middle;\n",
       "    }\n",
       "\n",
       "    .dataframe tbody tr th {\n",
       "        vertical-align: top;\n",
       "    }\n",
       "\n",
       "    .dataframe thead tr th {\n",
       "        text-align: left;\n",
       "    }\n",
       "</style>\n",
       "<table border=\"1\" class=\"dataframe\">\n",
       "  <thead>\n",
       "    <tr>\n",
       "      <th></th>\n",
       "      <th>Bicaudal</th>\n",
       "      <th>0.100</th>\n",
       "      <th>0.090</th>\n",
       "      <th>0.080</th>\n",
       "      <th>0.070</th>\n",
       "      <th>0.060</th>\n",
       "      <th>0.050</th>\n",
       "      <th>0.040</th>\n",
       "      <th>0.030</th>\n",
       "      <th>0.020</th>\n",
       "      <th>0.010</th>\n",
       "    </tr>\n",
       "    <tr>\n",
       "      <th></th>\n",
       "      <th>Unicaudal</th>\n",
       "      <th>0.050</th>\n",
       "      <th>0.045</th>\n",
       "      <th>0.040</th>\n",
       "      <th>0.035</th>\n",
       "      <th>0.030</th>\n",
       "      <th>0.025</th>\n",
       "      <th>0.020</th>\n",
       "      <th>0.015</th>\n",
       "      <th>0.010</th>\n",
       "      <th>0.005</th>\n",
       "    </tr>\n",
       "  </thead>\n",
       "  <tbody>\n",
       "    <tr>\n",
       "      <th rowspan=\"30\" valign=\"top\">Graus de Liberdade (n - 1)</th>\n",
       "      <th>1</th>\n",
       "      <td>6.31375</td>\n",
       "      <td>7.02637</td>\n",
       "      <td>7.91582</td>\n",
       "      <td>9.05789</td>\n",
       "      <td>10.5789</td>\n",
       "      <td>12.7062</td>\n",
       "      <td>15.8945</td>\n",
       "      <td>21.2049</td>\n",
       "      <td>31.8205</td>\n",
       "      <td>63.6567</td>\n",
       "    </tr>\n",
       "    <tr>\n",
       "      <th>2</th>\n",
       "      <td>2.91999</td>\n",
       "      <td>3.10398</td>\n",
       "      <td>3.31976</td>\n",
       "      <td>3.57825</td>\n",
       "      <td>3.89643</td>\n",
       "      <td>4.30265</td>\n",
       "      <td>4.84873</td>\n",
       "      <td>5.64278</td>\n",
       "      <td>6.96456</td>\n",
       "      <td>9.92484</td>\n",
       "    </tr>\n",
       "    <tr>\n",
       "      <th>3</th>\n",
       "      <td>2.35336</td>\n",
       "      <td>2.47081</td>\n",
       "      <td>2.60543</td>\n",
       "      <td>2.7626</td>\n",
       "      <td>2.95051</td>\n",
       "      <td>3.18245</td>\n",
       "      <td>3.48191</td>\n",
       "      <td>3.89605</td>\n",
       "      <td>4.5407</td>\n",
       "      <td>5.84091</td>\n",
       "    </tr>\n",
       "    <tr>\n",
       "      <th>4</th>\n",
       "      <td>2.13185</td>\n",
       "      <td>2.2261</td>\n",
       "      <td>2.33287</td>\n",
       "      <td>2.45589</td>\n",
       "      <td>2.60076</td>\n",
       "      <td>2.77645</td>\n",
       "      <td>2.99853</td>\n",
       "      <td>3.29763</td>\n",
       "      <td>3.74695</td>\n",
       "      <td>4.60409</td>\n",
       "    </tr>\n",
       "    <tr>\n",
       "      <th>5</th>\n",
       "      <td>2.01505</td>\n",
       "      <td>2.09784</td>\n",
       "      <td>2.19096</td>\n",
       "      <td>2.29739</td>\n",
       "      <td>2.42158</td>\n",
       "      <td>2.57058</td>\n",
       "      <td>2.75651</td>\n",
       "      <td>3.00287</td>\n",
       "      <td>3.36493</td>\n",
       "      <td>4.03214</td>\n",
       "    </tr>\n",
       "    <tr>\n",
       "      <th>6</th>\n",
       "      <td>1.94318</td>\n",
       "      <td>2.0192</td>\n",
       "      <td>2.10431</td>\n",
       "      <td>2.20106</td>\n",
       "      <td>2.31326</td>\n",
       "      <td>2.44691</td>\n",
       "      <td>2.61224</td>\n",
       "      <td>2.82893</td>\n",
       "      <td>3.14267</td>\n",
       "      <td>3.70743</td>\n",
       "    </tr>\n",
       "    <tr>\n",
       "      <th>7</th>\n",
       "      <td>1.89458</td>\n",
       "      <td>1.96615</td>\n",
       "      <td>2.04601</td>\n",
       "      <td>2.13645</td>\n",
       "      <td>2.24088</td>\n",
       "      <td>2.36462</td>\n",
       "      <td>2.51675</td>\n",
       "      <td>2.71457</td>\n",
       "      <td>2.99795</td>\n",
       "      <td>3.49948</td>\n",
       "    </tr>\n",
       "    <tr>\n",
       "      <th>8</th>\n",
       "      <td>1.85955</td>\n",
       "      <td>1.92799</td>\n",
       "      <td>2.00415</td>\n",
       "      <td>2.09017</td>\n",
       "      <td>2.18915</td>\n",
       "      <td>2.306</td>\n",
       "      <td>2.44898</td>\n",
       "      <td>2.63381</td>\n",
       "      <td>2.89646</td>\n",
       "      <td>3.35539</td>\n",
       "    </tr>\n",
       "    <tr>\n",
       "      <th>9</th>\n",
       "      <td>1.83311</td>\n",
       "      <td>1.89922</td>\n",
       "      <td>1.97265</td>\n",
       "      <td>2.05539</td>\n",
       "      <td>2.15038</td>\n",
       "      <td>2.26216</td>\n",
       "      <td>2.39844</td>\n",
       "      <td>2.5738</td>\n",
       "      <td>2.82144</td>\n",
       "      <td>3.24984</td>\n",
       "    </tr>\n",
       "    <tr>\n",
       "      <th>10</th>\n",
       "      <td>1.81246</td>\n",
       "      <td>1.87677</td>\n",
       "      <td>1.9481</td>\n",
       "      <td>2.02833</td>\n",
       "      <td>2.12023</td>\n",
       "      <td>2.22814</td>\n",
       "      <td>2.35931</td>\n",
       "      <td>2.52748</td>\n",
       "      <td>2.76377</td>\n",
       "      <td>3.16927</td>\n",
       "    </tr>\n",
       "    <tr>\n",
       "      <th>11</th>\n",
       "      <td>1.79588</td>\n",
       "      <td>1.85877</td>\n",
       "      <td>1.92843</td>\n",
       "      <td>2.00666</td>\n",
       "      <td>2.09614</td>\n",
       "      <td>2.20099</td>\n",
       "      <td>2.32814</td>\n",
       "      <td>2.49066</td>\n",
       "      <td>2.71808</td>\n",
       "      <td>3.10581</td>\n",
       "    </tr>\n",
       "    <tr>\n",
       "      <th>12</th>\n",
       "      <td>1.78229</td>\n",
       "      <td>1.84402</td>\n",
       "      <td>1.91231</td>\n",
       "      <td>1.98893</td>\n",
       "      <td>2.07644</td>\n",
       "      <td>2.17881</td>\n",
       "      <td>2.30272</td>\n",
       "      <td>2.4607</td>\n",
       "      <td>2.681</td>\n",
       "      <td>3.05454</td>\n",
       "    </tr>\n",
       "    <tr>\n",
       "      <th>13</th>\n",
       "      <td>1.77093</td>\n",
       "      <td>1.8317</td>\n",
       "      <td>1.89887</td>\n",
       "      <td>1.97416</td>\n",
       "      <td>2.06004</td>\n",
       "      <td>2.16037</td>\n",
       "      <td>2.2816</td>\n",
       "      <td>2.43585</td>\n",
       "      <td>2.65031</td>\n",
       "      <td>3.01228</td>\n",
       "    </tr>\n",
       "    <tr>\n",
       "      <th>14</th>\n",
       "      <td>1.76131</td>\n",
       "      <td>1.82127</td>\n",
       "      <td>1.8875</td>\n",
       "      <td>1.96166</td>\n",
       "      <td>2.04617</td>\n",
       "      <td>2.14479</td>\n",
       "      <td>2.26378</td>\n",
       "      <td>2.4149</td>\n",
       "      <td>2.62449</td>\n",
       "      <td>2.97684</td>\n",
       "    </tr>\n",
       "    <tr>\n",
       "      <th>15</th>\n",
       "      <td>1.75305</td>\n",
       "      <td>1.81232</td>\n",
       "      <td>1.87774</td>\n",
       "      <td>1.95094</td>\n",
       "      <td>2.03429</td>\n",
       "      <td>2.13145</td>\n",
       "      <td>2.24854</td>\n",
       "      <td>2.39701</td>\n",
       "      <td>2.60248</td>\n",
       "      <td>2.94671</td>\n",
       "    </tr>\n",
       "    <tr>\n",
       "      <th>16</th>\n",
       "      <td>1.74588</td>\n",
       "      <td>1.80455</td>\n",
       "      <td>1.86928</td>\n",
       "      <td>1.94165</td>\n",
       "      <td>2.024</td>\n",
       "      <td>2.11991</td>\n",
       "      <td>2.23536</td>\n",
       "      <td>2.38155</td>\n",
       "      <td>2.58349</td>\n",
       "      <td>2.92078</td>\n",
       "    </tr>\n",
       "    <tr>\n",
       "      <th>17</th>\n",
       "      <td>1.73961</td>\n",
       "      <td>1.79776</td>\n",
       "      <td>1.86187</td>\n",
       "      <td>1.93353</td>\n",
       "      <td>2.015</td>\n",
       "      <td>2.10982</td>\n",
       "      <td>2.22385</td>\n",
       "      <td>2.36805</td>\n",
       "      <td>2.56693</td>\n",
       "      <td>2.89823</td>\n",
       "    </tr>\n",
       "    <tr>\n",
       "      <th>18</th>\n",
       "      <td>1.73406</td>\n",
       "      <td>1.79175</td>\n",
       "      <td>1.85534</td>\n",
       "      <td>1.92636</td>\n",
       "      <td>2.00707</td>\n",
       "      <td>2.10092</td>\n",
       "      <td>2.2137</td>\n",
       "      <td>2.35618</td>\n",
       "      <td>2.55238</td>\n",
       "      <td>2.87844</td>\n",
       "    </tr>\n",
       "    <tr>\n",
       "      <th>19</th>\n",
       "      <td>1.72913</td>\n",
       "      <td>1.78642</td>\n",
       "      <td>1.84953</td>\n",
       "      <td>1.91999</td>\n",
       "      <td>2.00002</td>\n",
       "      <td>2.09302</td>\n",
       "      <td>2.2047</td>\n",
       "      <td>2.34565</td>\n",
       "      <td>2.53948</td>\n",
       "      <td>2.86093</td>\n",
       "    </tr>\n",
       "    <tr>\n",
       "      <th>20</th>\n",
       "      <td>1.72472</td>\n",
       "      <td>1.78164</td>\n",
       "      <td>1.84433</td>\n",
       "      <td>1.91429</td>\n",
       "      <td>1.99371</td>\n",
       "      <td>2.08596</td>\n",
       "      <td>2.19666</td>\n",
       "      <td>2.33624</td>\n",
       "      <td>2.52798</td>\n",
       "      <td>2.84534</td>\n",
       "    </tr>\n",
       "    <tr>\n",
       "      <th>21</th>\n",
       "      <td>1.72074</td>\n",
       "      <td>1.77734</td>\n",
       "      <td>1.83965</td>\n",
       "      <td>1.90916</td>\n",
       "      <td>1.98804</td>\n",
       "      <td>2.07961</td>\n",
       "      <td>2.18943</td>\n",
       "      <td>2.32779</td>\n",
       "      <td>2.51765</td>\n",
       "      <td>2.83136</td>\n",
       "    </tr>\n",
       "    <tr>\n",
       "      <th>22</th>\n",
       "      <td>1.71714</td>\n",
       "      <td>1.77345</td>\n",
       "      <td>1.83542</td>\n",
       "      <td>1.90452</td>\n",
       "      <td>1.98291</td>\n",
       "      <td>2.07387</td>\n",
       "      <td>2.18289</td>\n",
       "      <td>2.32016</td>\n",
       "      <td>2.50832</td>\n",
       "      <td>2.81876</td>\n",
       "    </tr>\n",
       "    <tr>\n",
       "      <th>23</th>\n",
       "      <td>1.71387</td>\n",
       "      <td>1.76991</td>\n",
       "      <td>1.83157</td>\n",
       "      <td>1.90031</td>\n",
       "      <td>1.97825</td>\n",
       "      <td>2.06866</td>\n",
       "      <td>2.17696</td>\n",
       "      <td>2.31323</td>\n",
       "      <td>2.49987</td>\n",
       "      <td>2.80734</td>\n",
       "    </tr>\n",
       "    <tr>\n",
       "      <th>24</th>\n",
       "      <td>1.71088</td>\n",
       "      <td>1.76667</td>\n",
       "      <td>1.82805</td>\n",
       "      <td>1.89646</td>\n",
       "      <td>1.97399</td>\n",
       "      <td>2.0639</td>\n",
       "      <td>2.17154</td>\n",
       "      <td>2.30691</td>\n",
       "      <td>2.49216</td>\n",
       "      <td>2.79694</td>\n",
       "    </tr>\n",
       "    <tr>\n",
       "      <th>25</th>\n",
       "      <td>1.70814</td>\n",
       "      <td>1.76371</td>\n",
       "      <td>1.82483</td>\n",
       "      <td>1.89293</td>\n",
       "      <td>1.9701</td>\n",
       "      <td>2.05954</td>\n",
       "      <td>2.16659</td>\n",
       "      <td>2.30113</td>\n",
       "      <td>2.48511</td>\n",
       "      <td>2.78744</td>\n",
       "    </tr>\n",
       "    <tr>\n",
       "      <th>26</th>\n",
       "      <td>1.70562</td>\n",
       "      <td>1.76098</td>\n",
       "      <td>1.82186</td>\n",
       "      <td>1.88968</td>\n",
       "      <td>1.96651</td>\n",
       "      <td>2.05553</td>\n",
       "      <td>2.16203</td>\n",
       "      <td>2.29581</td>\n",
       "      <td>2.47863</td>\n",
       "      <td>2.77871</td>\n",
       "    </tr>\n",
       "    <tr>\n",
       "      <th>27</th>\n",
       "      <td>1.70329</td>\n",
       "      <td>1.75847</td>\n",
       "      <td>1.81913</td>\n",
       "      <td>1.88669</td>\n",
       "      <td>1.9632</td>\n",
       "      <td>2.05183</td>\n",
       "      <td>2.15782</td>\n",
       "      <td>2.29091</td>\n",
       "      <td>2.47266</td>\n",
       "      <td>2.77068</td>\n",
       "    </tr>\n",
       "    <tr>\n",
       "      <th>28</th>\n",
       "      <td>1.70113</td>\n",
       "      <td>1.75613</td>\n",
       "      <td>1.81659</td>\n",
       "      <td>1.88391</td>\n",
       "      <td>1.96014</td>\n",
       "      <td>2.04841</td>\n",
       "      <td>2.15393</td>\n",
       "      <td>2.28638</td>\n",
       "      <td>2.46714</td>\n",
       "      <td>2.76326</td>\n",
       "    </tr>\n",
       "    <tr>\n",
       "      <th>29</th>\n",
       "      <td>1.69913</td>\n",
       "      <td>1.75397</td>\n",
       "      <td>1.81424</td>\n",
       "      <td>1.88134</td>\n",
       "      <td>1.95729</td>\n",
       "      <td>2.04523</td>\n",
       "      <td>2.15033</td>\n",
       "      <td>2.28217</td>\n",
       "      <td>2.46202</td>\n",
       "      <td>2.75639</td>\n",
       "    </tr>\n",
       "    <tr>\n",
       "      <th>30</th>\n",
       "      <td>1.69726</td>\n",
       "      <td>1.75195</td>\n",
       "      <td>1.81205</td>\n",
       "      <td>1.87894</td>\n",
       "      <td>1.95465</td>\n",
       "      <td>2.04227</td>\n",
       "      <td>2.14697</td>\n",
       "      <td>2.27826</td>\n",
       "      <td>2.45726</td>\n",
       "      <td>2.75</td>\n",
       "    </tr>\n",
       "  </tbody>\n",
       "</table>\n",
       "</div>"
      ],
      "text/plain": [
       "Bicaudal                         0.100    0.090  ...    0.020    0.010\n",
       "Unicaudal                        0.050    0.045  ...    0.010    0.005\n",
       "Graus de Liberdade (n - 1) 1   6.31375  7.02637  ...  31.8205  63.6567\n",
       "                           2   2.91999  3.10398  ...  6.96456  9.92484\n",
       "                           3   2.35336  2.47081  ...   4.5407  5.84091\n",
       "                           4   2.13185   2.2261  ...  3.74695  4.60409\n",
       "                           5   2.01505  2.09784  ...  3.36493  4.03214\n",
       "                           6   1.94318   2.0192  ...  3.14267  3.70743\n",
       "                           7   1.89458  1.96615  ...  2.99795  3.49948\n",
       "                           8   1.85955  1.92799  ...  2.89646  3.35539\n",
       "                           9   1.83311  1.89922  ...  2.82144  3.24984\n",
       "                           10  1.81246  1.87677  ...  2.76377  3.16927\n",
       "                           11  1.79588  1.85877  ...  2.71808  3.10581\n",
       "                           12  1.78229  1.84402  ...    2.681  3.05454\n",
       "                           13  1.77093   1.8317  ...  2.65031  3.01228\n",
       "                           14  1.76131  1.82127  ...  2.62449  2.97684\n",
       "                           15  1.75305  1.81232  ...  2.60248  2.94671\n",
       "                           16  1.74588  1.80455  ...  2.58349  2.92078\n",
       "                           17  1.73961  1.79776  ...  2.56693  2.89823\n",
       "                           18  1.73406  1.79175  ...  2.55238  2.87844\n",
       "                           19  1.72913  1.78642  ...  2.53948  2.86093\n",
       "                           20  1.72472  1.78164  ...  2.52798  2.84534\n",
       "                           21  1.72074  1.77734  ...  2.51765  2.83136\n",
       "                           22  1.71714  1.77345  ...  2.50832  2.81876\n",
       "                           23  1.71387  1.76991  ...  2.49987  2.80734\n",
       "                           24  1.71088  1.76667  ...  2.49216  2.79694\n",
       "                           25  1.70814  1.76371  ...  2.48511  2.78744\n",
       "                           26  1.70562  1.76098  ...  2.47863  2.77871\n",
       "                           27  1.70329  1.75847  ...  2.47266  2.77068\n",
       "                           28  1.70113  1.75613  ...  2.46714  2.76326\n",
       "                           29  1.69913  1.75397  ...  2.46202  2.75639\n",
       "                           30  1.69726  1.75195  ...  2.45726     2.75\n",
       "\n",
       "[30 rows x 10 columns]"
      ]
     },
     "execution_count": 1,
     "metadata": {},
     "output_type": "execute_result"
    }
   ],
   "source": [
    "import pandas as pd\n",
    "from scipy.stats import t as t_student\n",
    "\n",
    "tabela_t_student = pd.DataFrame(\n",
    "    [], \n",
    "    index=[i for i in range(1, 31)],\n",
    "    columns = [i / 100 for i in range(10, 0, -1)]\n",
    ")\n",
    "\n",
    "for index in tabela_t_student.index:\n",
    "    for column in tabela_t_student.columns:\n",
    "        tabela_t_student.loc[index, column] = t_student.ppf(1 - float(column) / 2, index)\n",
    "\n",
    "index=[('Graus de Liberdade (n - 1)', i) for i in range(1, 31)]\n",
    "tabela_t_student.index = pd.MultiIndex.from_tuples(index)\n",
    "\n",
    "columns = [(\"{0:0.3f}\".format(i / 100), \"{0:0.3f}\".format((i / 100) / 2)) for i in range(10, 0, -1)]\n",
    "tabela_t_student.columns = pd.MultiIndex.from_tuples(columns)\n",
    "\n",
    "tabela_t_student.rename_axis(['Bicaudal', 'Unicaudal'], axis=1, inplace = True)\n",
    "\n",
    "tabela_t_student"
   ]
  },
  {
   "cell_type": "code",
   "execution_count": null,
   "metadata": {
    "id": "z6ANuyZefyUl"
   },
   "outputs": [],
   "source": []
  },
  {
   "cell_type": "code",
   "execution_count": null,
   "metadata": {
    "id": "OsFxajoYfyW8"
   },
   "outputs": [],
   "source": []
  },
  {
   "cell_type": "code",
   "execution_count": null,
   "metadata": {
    "id": "8blIYlWnfyZv"
   },
   "outputs": [],
   "source": []
  },
  {
   "cell_type": "code",
   "execution_count": null,
   "metadata": {
    "id": "te2G76ShJyf4"
   },
   "outputs": [],
   "source": []
  },
  {
   "cell_type": "code",
   "execution_count": null,
   "metadata": {
    "id": "Y267GeWYJRWW"
   },
   "outputs": [],
   "source": []
  }
 ],
 "metadata": {
  "colab": {
   "authorship_tag": "ABX9TyOde+UwLwT+BpX7Z9yMHQMZ",
   "name": "2021 ESTATÍSTICA - TESTES DE HIPÓTESE.ipynb",
   "provenance": []
  },
  "kernelspec": {
   "display_name": "Python 3 (ipykernel)",
   "language": "python",
   "name": "python3"
  },
  "language_info": {
   "codemirror_mode": {
    "name": "ipython",
    "version": 3
   },
   "file_extension": ".py",
   "mimetype": "text/x-python",
   "name": "python",
   "nbconvert_exporter": "python",
   "pygments_lexer": "ipython3",
   "version": "3.9.7"
  }
 },
 "nbformat": 4,
 "nbformat_minor": 1
}
