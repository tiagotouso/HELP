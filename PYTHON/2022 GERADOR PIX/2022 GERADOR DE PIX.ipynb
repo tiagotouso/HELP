{
 "cells": [
  {
   "cell_type": "markdown",
   "id": "19801d96",
   "metadata": {},
   "source": [
    "# GERADOR DE PIX"
   ]
  },
  {
   "cell_type": "code",
   "execution_count": 66,
   "id": "6d6777c8",
   "metadata": {},
   "outputs": [],
   "source": [
    "# IMPORTAR MÓDULOS\n",
    "\n",
    "import segno\n",
    "import crcmod"
   ]
  },
  {
   "cell_type": "code",
   "execution_count": 97,
   "id": "3f60d46d",
   "metadata": {},
   "outputs": [],
   "source": [
    "# CRIAR A CLASS GERADORA DE PIX\n",
    "\n",
    "class GeradorPix():\n",
    "    \n",
    "    def __init__(self, nome, chavepix, valor, cidade, idtxt):\n",
    "        def tamanhostr(valor):\n",
    "            return str(len(valor)).zfill(2)\n",
    "        \n",
    "        record = {\n",
    "                  '00': ('02', '01', '___Payload Format Indicator ***'), # VALOR FIXO\n",
    "                  '52': ('04', '0000','___Merchant Category Code ***'), # VALOR FIXO\n",
    "                  '53': ('03', '986', '___Transaction Currency ***'), # VALOR FIXO\n",
    "                  '58': ('02', 'BR', '__Country Code ***'), # VALOR FIXO\n",
    "                  '54': [tamanhostr(valor), valor, '___Transaction Amount'],\n",
    "                  '59': [tamanhostr(nome), nome, '___Merchant Name'],\n",
    "                  '60': (tamanhostr(cidade), cidade),\n",
    "                 }\n",
    "        \n",
    "        recordMAIPax = {'00': ('14', 'BR.GOV.BCB.PIX', '___GUI ***'), # VALOR FIXO\n",
    "                       '01': (len(chavepix), chavepix, '___Chave PIX')}\n",
    "        tamanho, valor = self.Juntar_Dicionario(recordMAIPax)\n",
    "        recordMAIP = {'26':(tamanho, valor, '___Merchant Account Information - PIX')}\n",
    "        \n",
    "        record.update(recordMAIP)\n",
    "        \n",
    "        recodrADFax = {'05': (tamanhostr(idtxt), idtxt,'___Reference Label')}\n",
    "        tamanho, valor = self.Juntar_Dicionario(recodrADFax)\n",
    "        recordADF = {'62':(tamanho, valor, '___Additional Data Field')}\n",
    "        \n",
    "        record.update(recordADF)\n",
    "        \n",
    "        record['63'] = ['04', '', '___CRC16-CCITT']\n",
    "        \n",
    "        tamanho, valor = self.Juntar_Dicionario(record)\n",
    "        crc16 = self.GerarCrc16(valor)\n",
    "        record['63'][1] = crc16\n",
    "\n",
    "        _, codigopix = self.Juntar_Dicionario(record)\n",
    "        \n",
    "        self.GerarQrCode(codigopix + '\\x00\\x00')\n",
    "        \n",
    "        self.pixtxt = codigopix\n",
    "\n",
    "        \n",
    "    def Resultado(self):\n",
    "            \n",
    "        return self.pixtxt\n",
    "        \n",
    "    \n",
    "    def GerarCrc16(self, payload):\n",
    "        \n",
    "        modelo = crcmod.mkCrcFun(poly=0x11021, initCrc=0xFFFF, rev=False, xorOut=0x0000)\n",
    "        crc16code = hex(modelo(str(payload).encode('utf-8')))\n",
    "        crc16codestr = str(crc16code).replace('0x', '').upper()\n",
    "        \n",
    "        return crc16codestr\n",
    "        \n",
    "\n",
    "    def Juntar_Dicionario(self, dicionario):\n",
    "\n",
    "        concatenar = ''\n",
    "        keys = list(set(dicionario.keys())).copy()\n",
    "        keys.sort()\n",
    "        for key in keys:\n",
    "            valores = dicionario[key]\n",
    "            tamanho = str(valores[0])\n",
    "            valor = str(valores[1])\n",
    "\n",
    "            concatenar += f'{key}{tamanho}{valor}'\n",
    "\n",
    "        return len(concatenar), concatenar\n",
    "    \n",
    "    \n",
    "    def GerarQrCode(self, payload):\n",
    "        \n",
    "        img = segno.make(payload)\n",
    "        img.save('qrcpixr.png', scale = 10 )"
   ]
  },
  {
   "cell_type": "code",
   "execution_count": 98,
   "id": "2913d0d6",
   "metadata": {},
   "outputs": [],
   "source": [
    "newpix = GeradorPix('TIAGO TOUSO', \n",
    "                    'tiagotouso@gmail.com', \n",
    "                    '10.00', \n",
    "                    'UBERABA-MG', \n",
    "                    'CODIGO01')"
   ]
  },
  {
   "cell_type": "code",
   "execution_count": 99,
   "id": "7c68f0c3",
   "metadata": {},
   "outputs": [
    {
     "data": {
      "text/plain": [
       "'00020126420014BR.GOV.BCB.PIX0120tiagotouso@gmail.com520400005303986540510.005802BR5911TIAGO TOUSO6010UBERABA-MG62120508CODIGO016304BEBA'"
      ]
     },
     "execution_count": 99,
     "metadata": {},
     "output_type": "execute_result"
    }
   ],
   "source": [
    "newpix.Resultado()"
   ]
  }
 ],
 "metadata": {
  "kernelspec": {
   "display_name": "Python 3 (ipykernel)",
   "language": "python",
   "name": "python3"
  },
  "language_info": {
   "codemirror_mode": {
    "name": "ipython",
    "version": 3
   },
   "file_extension": ".py",
   "mimetype": "text/x-python",
   "name": "python",
   "nbconvert_exporter": "python",
   "pygments_lexer": "ipython3",
   "version": "3.9.7"
  }
 },
 "nbformat": 4,
 "nbformat_minor": 5
}
