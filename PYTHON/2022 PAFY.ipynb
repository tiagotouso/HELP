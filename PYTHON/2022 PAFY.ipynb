{
 "cells": [
  {
   "cell_type": "code",
   "execution_count": 1,
   "id": "65c0b874",
   "metadata": {},
   "outputs": [],
   "source": [
    "# PAFY"
   ]
  },
  {
   "cell_type": "code",
   "execution_count": 2,
   "id": "af8b528e",
   "metadata": {},
   "outputs": [],
   "source": [
    "# IMPORTAR MÓDULO\n",
    "\n",
    "import pafy\n",
    "# !pip install youtube-dl==2020.12.2"
   ]
  },
  {
   "cell_type": "code",
   "execution_count": 22,
   "id": "cd97f398",
   "metadata": {},
   "outputs": [],
   "source": [
    "# DEFINIR A URL\n",
    "\n",
    "url = \"https://youtu.be/8Pa9x9fZBtY\""
   ]
  },
  {
   "cell_type": "code",
   "execution_count": 23,
   "id": "2a7d109f",
   "metadata": {},
   "outputs": [],
   "source": [
    "# CRIAR O OBJETO VÍDEO\n",
    "\n",
    "video = pafy.new(url)"
   ]
  },
  {
   "cell_type": "code",
   "execution_count": 24,
   "id": "5e74f623",
   "metadata": {},
   "outputs": [
    {
     "data": {
      "text/plain": [
       "Title: Dire Straits - Sultans Of Swing (Alchemy Live)\n",
       "Author: DireStraitsVEVO\n",
       "ID: 8Pa9x9fZBtY\n",
       "Duration: 00:10:47\n",
       "Rating: None\n",
       "Views: 213263074\n",
       "Thumbnail: http://i.ytimg.com/vi/8Pa9x9fZBtY/default.jpg"
      ]
     },
     "execution_count": 24,
     "metadata": {},
     "output_type": "execute_result"
    }
   ],
   "source": [
    "# EXIBIR INFORMAÇÃO SOBRE O VÍDEO\n",
    "\n",
    "video"
   ]
  },
  {
   "cell_type": "code",
   "execution_count": 26,
   "id": "e9c6aac7",
   "metadata": {},
   "outputs": [],
   "source": [
    "# CRIAR O OBJETO STREAM DE ÁUDIO\n",
    "\n",
    "sa = video.getbestaudio()"
   ]
  },
  {
   "cell_type": "code",
   "execution_count": 27,
   "id": "6f4048a1",
   "metadata": {},
   "outputs": [
    {
     "name": "stdout",
     "output_type": "stream",
     "text": [
      "\n"
     ]
    }
   ],
   "source": [
    "# FAZ O DOWNLOAD\n",
    "\n",
    "filename = sa.download(f'{video.title}.mp3', quiet=True)"
   ]
  }
 ],
 "metadata": {
  "kernelspec": {
   "display_name": "Python 3 (ipykernel)",
   "language": "python",
   "name": "python3"
  },
  "language_info": {
   "codemirror_mode": {
    "name": "ipython",
    "version": 3
   },
   "file_extension": ".py",
   "mimetype": "text/x-python",
   "name": "python",
   "nbconvert_exporter": "python",
   "pygments_lexer": "ipython3",
   "version": "3.9.12"
  }
 },
 "nbformat": 4,
 "nbformat_minor": 5
}
