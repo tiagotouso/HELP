{
 "cells": [
  {
   "cell_type": "markdown",
   "id": "dd386fb4",
   "metadata": {},
   "source": [
    "# GERADOR DE GIFS"
   ]
  },
  {
   "cell_type": "code",
   "execution_count": 1,
   "id": "7b265858",
   "metadata": {},
   "outputs": [],
   "source": [
    "### TESTE I"
   ]
  },
  {
   "cell_type": "code",
   "execution_count": 2,
   "id": "c24550b7",
   "metadata": {},
   "outputs": [],
   "source": [
    "# IMPORTAR MÓDULO\n",
    "\n",
    "import imageio\n",
    "import os"
   ]
  },
  {
   "cell_type": "code",
   "execution_count": 3,
   "id": "3bf13690",
   "metadata": {},
   "outputs": [],
   "source": [
    "# LER AS IMAGENS\n",
    "\n",
    "arquivos = []\n",
    "\n",
    "for arq in os.listdir():\n",
    "    if '.png' in arq:\n",
    "        arquivos.append(imageio.imread(arq))"
   ]
  },
  {
   "cell_type": "code",
   "execution_count": 4,
   "id": "2c90a16b",
   "metadata": {},
   "outputs": [],
   "source": [
    "# SALVAR COMO GIFS\n",
    "\n",
    "imageio.mimsave('imagem.gif', arquivos, duration=0.5)"
   ]
  },
  {
   "cell_type": "markdown",
   "id": "8aa61e9d",
   "metadata": {},
   "source": [
    "### TESTE II"
   ]
  },
  {
   "cell_type": "code",
   "execution_count": 5,
   "id": "9eb9a31d",
   "metadata": {},
   "outputs": [],
   "source": [
    "# IMPORTAR MÓDULO\n",
    "\n",
    "from moviepy.editor import ImageClip, concatenate_videoclips"
   ]
  },
  {
   "cell_type": "code",
   "execution_count": 6,
   "id": "1b40400c",
   "metadata": {},
   "outputs": [],
   "source": [
    "# LER AS IMAGENS\n",
    "\n",
    "tbimg = []\n",
    "for img in ['001.png', '002.png', '003.png', '004.png']:\n",
    "    \n",
    "    # CRIAR AS IMAGENS VÍDEOS\n",
    "    tbimg.append(ImageClip(img, duration = .5))"
   ]
  },
  {
   "cell_type": "code",
   "execution_count": 7,
   "id": "91cc00d1",
   "metadata": {},
   "outputs": [],
   "source": [
    "# CRIAR A GIF\n",
    "\n",
    "gif = concatenate_videoclips(tbimg)"
   ]
  },
  {
   "cell_type": "code",
   "execution_count": 8,
   "id": "5344f966",
   "metadata": {},
   "outputs": [],
   "source": [
    "# DEFINIR O FPS\n",
    "\n",
    "gif.fps = 24"
   ]
  },
  {
   "cell_type": "code",
   "execution_count": 9,
   "id": "c37dda21",
   "metadata": {},
   "outputs": [
    {
     "name": "stdout",
     "output_type": "stream",
     "text": [
      "MoviePy - Building file imagemii.gif with imageio.\n"
     ]
    },
    {
     "name": "stderr",
     "output_type": "stream",
     "text": [
      "                                                                                                                       \r"
     ]
    }
   ],
   "source": [
    "# SALVAR A GIF\n",
    "\n",
    "gif.write_gif('imagemii.gif')"
   ]
  }
 ],
 "metadata": {
  "kernelspec": {
   "display_name": "Python 3 (ipykernel)",
   "language": "python",
   "name": "python3"
  },
  "language_info": {
   "codemirror_mode": {
    "name": "ipython",
    "version": 3
   },
   "file_extension": ".py",
   "mimetype": "text/x-python",
   "name": "python",
   "nbconvert_exporter": "python",
   "pygments_lexer": "ipython3",
   "version": "3.9.7"
  }
 },
 "nbformat": 4,
 "nbformat_minor": 5
}
