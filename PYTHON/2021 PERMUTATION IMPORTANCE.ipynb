{
 "cells": [
  {
   "cell_type": "markdown",
   "metadata": {
    "id": "yG67NPbKCrmE"
   },
   "source": [
    "# PERMUTATION IMPORTANCE"
   ]
  },
  {
   "cell_type": "code",
   "execution_count": 1,
   "metadata": {
    "executionInfo": {
     "elapsed": 403,
     "status": "ok",
     "timestamp": 1638967673670,
     "user": {
      "displayName": "Tiago Touso",
      "photoUrl": "https://lh3.googleusercontent.com/a-/AOh14GhUFDrBff9GnccW6ExvA80d8F7WCL2Yak8UIQOpFHc=s64",
      "userId": "13039814104467109855"
     },
     "user_tz": 180
    },
    "id": "EIWqrxkF8NGU"
   },
   "outputs": [],
   "source": [
    "# Carregar os módulos\n",
    "\n",
    "import pandas as pd\n",
    "import numpy as np\n",
    "\n",
    "import sklearn\n",
    "from sklearn.datasets import load_diabetes\n",
    "from sklearn.model_selection import train_test_split\n",
    "from sklearn.linear_model import Ridge\n",
    "\n",
    "import matplotlib.pyplot as plt\n",
    "import seaborn as sns"
   ]
  },
  {
   "cell_type": "code",
   "execution_count": 2,
   "metadata": {},
   "outputs": [
    {
     "name": "stdout",
     "output_type": "stream",
     "text": [
      "Python 3.9.7\n",
      "pandas    : 1.3.4\n",
      "seaborn   : 0.11.2\n",
      "sklearn   : 0.24.2\n",
      "numpy     : 1.20.3\n",
      "matplotlib: 3.4.3\n",
      "\n"
     ]
    }
   ],
   "source": [
    "# Versões dos módulos\n",
    "\n",
    "!python --version\n",
    "%reload_ext watermark\n",
    "%watermark --iversions"
   ]
  },
  {
   "cell_type": "code",
   "execution_count": 3,
   "metadata": {
    "executionInfo": {
     "elapsed": 30,
     "status": "ok",
     "timestamp": 1638967674090,
     "user": {
      "displayName": "Tiago Touso",
      "photoUrl": "https://lh3.googleusercontent.com/a-/AOh14GhUFDrBff9GnccW6ExvA80d8F7WCL2Yak8UIQOpFHc=s64",
      "userId": "13039814104467109855"
     },
     "user_tz": 180
    },
    "id": "QpFk4DA58QHw"
   },
   "outputs": [],
   "source": [
    "# Carregar o dataset\n",
    "\n",
    "diabetes = load_diabetes()"
   ]
  },
  {
   "cell_type": "code",
   "execution_count": 4,
   "metadata": {
    "colab": {
     "base_uri": "https://localhost:8080/"
    },
    "executionInfo": {
     "elapsed": 30,
     "status": "ok",
     "timestamp": 1638967674091,
     "user": {
      "displayName": "Tiago Touso",
      "photoUrl": "https://lh3.googleusercontent.com/a-/AOh14GhUFDrBff9GnccW6ExvA80d8F7WCL2Yak8UIQOpFHc=s64",
      "userId": "13039814104467109855"
     },
     "user_tz": 180
    },
    "id": "badu9y45Exh_",
    "outputId": "918eac0b-698b-477d-91d6-f24b679f7632"
   },
   "outputs": [
    {
     "name": "stdout",
     "output_type": "stream",
     "text": [
      ".. _diabetes_dataset:\n",
      "\n",
      "Diabetes dataset\n",
      "----------------\n",
      "\n",
      "Ten baseline variables, age, sex, body mass index, average blood\n",
      "pressure, and six blood serum measurements were obtained for each of n =\n",
      "442 diabetes patients, as well as the response of interest, a\n",
      "quantitative measure of disease progression one year after baseline.\n",
      "\n",
      "**Data Set Characteristics:**\n",
      "\n",
      "  :Number of Instances: 442\n",
      "\n",
      "  :Number of Attributes: First 10 columns are numeric predictive values\n",
      "\n",
      "  :Target: Column 11 is a quantitative measure of disease progression one year after baseline\n",
      "\n",
      "  :Attribute Information:\n",
      "      - age     age in years\n",
      "      - sex\n",
      "      - bmi     body mass index\n",
      "      - bp      average blood pressure\n",
      "      - s1      tc, total serum cholesterol\n",
      "      - s2      ldl, low-density lipoproteins\n",
      "      - s3      hdl, high-density lipoproteins\n",
      "      - s4      tch, total cholesterol / HDL\n",
      "      - s5      ltg, possibly log of serum triglycerides level\n",
      "      - s6      glu, blood sugar level\n",
      "\n",
      "Note: Each of these 10 feature variables have been mean centered and scaled by the standard deviation times `n_samples` (i.e. the sum of squares of each column totals 1).\n",
      "\n",
      "Source URL:\n",
      "https://www4.stat.ncsu.edu/~boos/var.select/diabetes.html\n",
      "\n",
      "For more information see:\n",
      "Bradley Efron, Trevor Hastie, Iain Johnstone and Robert Tibshirani (2004) \"Least Angle Regression,\" Annals of Statistics (with discussion), 407-499.\n",
      "(https://web.stanford.edu/~hastie/Papers/LARS/LeastAngle_2002.pdf)\n"
     ]
    }
   ],
   "source": [
    "# Descrição do dataset\n",
    "\n",
    "print(diabetes.DESCR)"
   ]
  },
  {
   "cell_type": "code",
   "execution_count": 5,
   "metadata": {
    "colab": {
     "base_uri": "https://localhost:8080/"
    },
    "executionInfo": {
     "elapsed": 26,
     "status": "ok",
     "timestamp": 1638967674091,
     "user": {
      "displayName": "Tiago Touso",
      "photoUrl": "https://lh3.googleusercontent.com/a-/AOh14GhUFDrBff9GnccW6ExvA80d8F7WCL2Yak8UIQOpFHc=s64",
      "userId": "13039814104467109855"
     },
     "user_tz": 180
    },
    "id": "UfYvKoPW92Ny",
    "outputId": "1f3f0e21-d436-4f37-d545-7386eb71fce4"
   },
   "outputs": [
    {
     "data": {
      "text/plain": [
       "dict_keys(['data', 'target', 'frame', 'DESCR', 'feature_names', 'data_filename', 'target_filename'])"
      ]
     },
     "execution_count": 5,
     "metadata": {},
     "output_type": "execute_result"
    }
   ],
   "source": [
    "# Verificar as chaves do dataset\n",
    "\n",
    "diabetes.keys()"
   ]
  },
  {
   "cell_type": "code",
   "execution_count": 6,
   "metadata": {
    "colab": {
     "base_uri": "https://localhost:8080/"
    },
    "executionInfo": {
     "elapsed": 22,
     "status": "ok",
     "timestamp": 1638967674092,
     "user": {
      "displayName": "Tiago Touso",
      "photoUrl": "https://lh3.googleusercontent.com/a-/AOh14GhUFDrBff9GnccW6ExvA80d8F7WCL2Yak8UIQOpFHc=s64",
      "userId": "13039814104467109855"
     },
     "user_tz": 180
    },
    "id": "Zfx7ZhzT8dvx",
    "outputId": "cb450a6e-1729-4a99-c8ff-4b2a51e4c33b"
   },
   "outputs": [
    {
     "data": {
      "text/plain": [
       "['age', 'sex', 'bmi', 'bp', 's1', 's2', 's3', 's4', 's5', 's6']"
      ]
     },
     "execution_count": 6,
     "metadata": {},
     "output_type": "execute_result"
    }
   ],
   "source": [
    "# Verificar as feature\n",
    "\n",
    "diabetes.feature_names"
   ]
  },
  {
   "cell_type": "code",
   "execution_count": 7,
   "metadata": {
    "colab": {
     "base_uri": "https://localhost:8080/"
    },
    "executionInfo": {
     "elapsed": 18,
     "status": "ok",
     "timestamp": 1638967674092,
     "user": {
      "displayName": "Tiago Touso",
      "photoUrl": "https://lh3.googleusercontent.com/a-/AOh14GhUFDrBff9GnccW6ExvA80d8F7WCL2Yak8UIQOpFHc=s64",
      "userId": "13039814104467109855"
     },
     "user_tz": 180
    },
    "id": "pw3zTKIZ9n6u",
    "outputId": "3f19da30-d83c-4937-d4fb-b46ba74a7e44"
   },
   "outputs": [
    {
     "data": {
      "text/plain": [
       "array([151.,  75., 141., 206., 135.,  97., 138.,  63., 110., 310., 101.,\n",
       "        69., 179., 185., 118., 171., 166., 144.,  97., 168.,  68.,  49.,\n",
       "        68., 245., 184., 202., 137.,  85., 131., 283.])"
      ]
     },
     "execution_count": 7,
     "metadata": {},
     "output_type": "execute_result"
    }
   ],
   "source": [
    "# Verificar o target\n",
    "\n",
    "diabetes.target[0:30]"
   ]
  },
  {
   "cell_type": "code",
   "execution_count": 8,
   "metadata": {
    "colab": {
     "base_uri": "https://localhost:8080/"
    },
    "executionInfo": {
     "elapsed": 16,
     "status": "ok",
     "timestamp": 1638967674093,
     "user": {
      "displayName": "Tiago Touso",
      "photoUrl": "https://lh3.googleusercontent.com/a-/AOh14GhUFDrBff9GnccW6ExvA80d8F7WCL2Yak8UIQOpFHc=s64",
      "userId": "13039814104467109855"
     },
     "user_tz": 180
    },
    "id": "9TkpmliQ9oGz",
    "outputId": "f26ac198-17af-4c16-d030-68802d28824f"
   },
   "outputs": [
    {
     "data": {
      "text/plain": [
       "array([[ 0.03807591,  0.05068012,  0.06169621,  0.02187235, -0.0442235 ,\n",
       "        -0.03482076, -0.04340085, -0.00259226,  0.01990842, -0.01764613],\n",
       "       [-0.00188202, -0.04464164, -0.05147406, -0.02632783, -0.00844872,\n",
       "        -0.01916334,  0.07441156, -0.03949338, -0.06832974, -0.09220405],\n",
       "       [ 0.08529891,  0.05068012,  0.04445121, -0.00567061, -0.04559945,\n",
       "        -0.03419447, -0.03235593, -0.00259226,  0.00286377, -0.02593034],\n",
       "       [-0.08906294, -0.04464164, -0.01159501, -0.03665645,  0.01219057,\n",
       "         0.02499059, -0.03603757,  0.03430886,  0.02269202, -0.00936191],\n",
       "       [ 0.00538306, -0.04464164, -0.03638469,  0.02187235,  0.00393485,\n",
       "         0.01559614,  0.00814208, -0.00259226, -0.03199144, -0.04664087]])"
      ]
     },
     "execution_count": 8,
     "metadata": {},
     "output_type": "execute_result"
    }
   ],
   "source": [
    "# Verificar os dados\n",
    "\n",
    "diabetes.data[0:5]"
   ]
  },
  {
   "cell_type": "code",
   "execution_count": 9,
   "metadata": {
    "colab": {
     "base_uri": "https://localhost:8080/"
    },
    "executionInfo": {
     "elapsed": 13,
     "status": "ok",
     "timestamp": 1638967674093,
     "user": {
      "displayName": "Tiago Touso",
      "photoUrl": "https://lh3.googleusercontent.com/a-/AOh14GhUFDrBff9GnccW6ExvA80d8F7WCL2Yak8UIQOpFHc=s64",
      "userId": "13039814104467109855"
     },
     "user_tz": 180
    },
    "id": "kNc8p0jQ8d1I",
    "outputId": "9b50f685-2d9e-4098-9b37-c0ace9a49aa7"
   },
   "outputs": [
    {
     "data": {
      "text/plain": [
       "0.35666062386954545"
      ]
     },
     "execution_count": 9,
     "metadata": {},
     "output_type": "execute_result"
    }
   ],
   "source": [
    "# Separar os dados\n",
    "\n",
    "X_train, X_val, y_train, y_val = train_test_split(diabetes.data, diabetes.target, random_state=0)\n",
    "\n",
    "# Criar o modelo\n",
    "\n",
    "model = Ridge(alpha=1e-2).fit(X_train, y_train)\n",
    "model.score(X_val, y_val)"
   ]
  },
  {
   "cell_type": "markdown",
   "metadata": {
    "id": "m0R6H3jWEbco"
   },
   "source": [
    "## PERMUTATION"
   ]
  },
  {
   "cell_type": "code",
   "execution_count": 10,
   "metadata": {
    "executionInfo": {
     "elapsed": 572,
     "status": "ok",
     "timestamp": 1638967674656,
     "user": {
      "displayName": "Tiago Touso",
      "photoUrl": "https://lh3.googleusercontent.com/a-/AOh14GhUFDrBff9GnccW6ExvA80d8F7WCL2Yak8UIQOpFHc=s64",
      "userId": "13039814104467109855"
     },
     "user_tz": 180
    },
    "id": "9_q2qebi8NNm"
   },
   "outputs": [],
   "source": [
    "# Carregando o módulo de permutation importance\n",
    "\n",
    "from sklearn.inspection import permutation_importance\n",
    "\n",
    "# Gerando os resultados\n",
    "\n",
    "resultado = permutation_importance(model, X_val, y_val, n_repeats=30, random_state=42)"
   ]
  },
  {
   "cell_type": "code",
   "execution_count": 11,
   "metadata": {
    "colab": {
     "base_uri": "https://localhost:8080/"
    },
    "executionInfo": {
     "elapsed": 32,
     "status": "ok",
     "timestamp": 1638967674659,
     "user": {
      "displayName": "Tiago Touso",
      "photoUrl": "https://lh3.googleusercontent.com/a-/AOh14GhUFDrBff9GnccW6ExvA80d8F7WCL2Yak8UIQOpFHc=s64",
      "userId": "13039814104467109855"
     },
     "user_tz": 180
    },
    "id": "VebBEs0tu0Xh",
    "outputId": "cacd2fc8-2f0f-4860-ede6-fc5038ac4cbc"
   },
   "outputs": [
    {
     "data": {
      "text/plain": [
       "dict_keys(['importances_mean', 'importances_std', 'importances'])"
      ]
     },
     "execution_count": 11,
     "metadata": {},
     "output_type": "execute_result"
    }
   ],
   "source": [
    "# keys dos resultados\n",
    "\n",
    "resultado.keys()"
   ]
  },
  {
   "cell_type": "code",
   "execution_count": 12,
   "metadata": {
    "colab": {
     "base_uri": "https://localhost:8080/"
    },
    "executionInfo": {
     "elapsed": 31,
     "status": "ok",
     "timestamp": 1638967674661,
     "user": {
      "displayName": "Tiago Touso",
      "photoUrl": "https://lh3.googleusercontent.com/a-/AOh14GhUFDrBff9GnccW6ExvA80d8F7WCL2Yak8UIQOpFHc=s64",
      "userId": "13039814104467109855"
     },
     "user_tz": 180
    },
    "id": "9KJVU3RTu5OL",
    "outputId": "e2a693b6-6a38-4eb5-9f6a-a293a77bc947"
   },
   "outputs": [
    {
     "data": {
      "text/plain": [
       "array([-0.0049707 ,  0.04163488,  0.16078348,  0.09237492,  0.03914647,\n",
       "        0.00273191,  0.00387479,  0.00478002,  0.18063125,  0.00226848])"
      ]
     },
     "execution_count": 12,
     "metadata": {},
     "output_type": "execute_result"
    }
   ],
   "source": [
    "# Médias dos resultados\n",
    "\n",
    "resultado['importances_mean']"
   ]
  },
  {
   "cell_type": "code",
   "execution_count": 13,
   "metadata": {
    "colab": {
     "base_uri": "https://localhost:8080/"
    },
    "executionInfo": {
     "elapsed": 28,
     "status": "ok",
     "timestamp": 1638967674662,
     "user": {
      "displayName": "Tiago Touso",
      "photoUrl": "https://lh3.googleusercontent.com/a-/AOh14GhUFDrBff9GnccW6ExvA80d8F7WCL2Yak8UIQOpFHc=s64",
      "userId": "13039814104467109855"
     },
     "user_tz": 180
    },
    "id": "tpn7n-BQu5RE",
    "outputId": "b0154fc5-2725-4beb-f907-6255e84d3760"
   },
   "outputs": [
    {
     "data": {
      "text/plain": [
       "array([0.00341944, 0.0195145 , 0.05349226, 0.03321336, 0.02540448,\n",
       "       0.00221707, 0.01550943, 0.01137109, 0.06486485, 0.00322069])"
      ]
     },
     "execution_count": 13,
     "metadata": {},
     "output_type": "execute_result"
    }
   ],
   "source": [
    "# Média do desvio padrão\n",
    "\n",
    "resultado['importances_std']"
   ]
  },
  {
   "cell_type": "code",
   "execution_count": 14,
   "metadata": {
    "colab": {
     "base_uri": "https://localhost:8080/"
    },
    "executionInfo": {
     "elapsed": 26,
     "status": "ok",
     "timestamp": 1638967674663,
     "user": {
      "displayName": "Tiago Touso",
      "photoUrl": "https://lh3.googleusercontent.com/a-/AOh14GhUFDrBff9GnccW6ExvA80d8F7WCL2Yak8UIQOpFHc=s64",
      "userId": "13039814104467109855"
     },
     "user_tz": 180
    },
    "id": "8K4zb4XD_oiU",
    "outputId": "8aec2942-4482-440c-f545-dd88537fee1b"
   },
   "outputs": [
    {
     "data": {
      "text/plain": [
       "array([[-0.00780574, -0.01187699, -0.00865904, -0.00862264, -0.00461426,\n",
       "        -0.00565643,  0.00131309, -0.00755087, -0.01249394, -0.00341946,\n",
       "         0.00062344, -0.00240999, -0.00799873,  0.00096927, -0.00784774,\n",
       "        -0.00466057, -0.00358763, -0.00298887, -0.00436497, -0.00038463,\n",
       "        -0.00615755, -0.00408928, -0.00383071, -0.00579813, -0.0066441 ,\n",
       "        -0.00120385, -0.0010613 , -0.00534192, -0.00776537, -0.00519222],\n",
       "       [ 0.06685408,  0.04374728,  0.02707905,  0.02750161,  0.03457145,\n",
       "         0.02907597,  0.04825478,  0.02772452,  0.03085989,  0.05941806,\n",
       "         0.08685031,  0.00793484,  0.04940073,  0.0269297 ,  0.01596074,\n",
       "         0.04080358,  0.0789672 ,  0.01875013,  0.07519529,  0.05490094,\n",
       "         0.06400857,  0.03583372,  0.05238168,  0.0417495 ,  0.04715552,\n",
       "         0.04221507,  0.05302921,  0.0168014 ,  0.02132305,  0.02376867]])"
      ]
     },
     "execution_count": 14,
     "metadata": {},
     "output_type": "execute_result"
    }
   ],
   "source": [
    "# Resultado de importancias\n",
    "\n",
    "resultado['importances'][0:2]"
   ]
  },
  {
   "cell_type": "code",
   "execution_count": 15,
   "metadata": {
    "colab": {
     "base_uri": "https://localhost:8080/",
     "height": 283
    },
    "executionInfo": {
     "elapsed": 23,
     "status": "ok",
     "timestamp": 1638967674663,
     "user": {
      "displayName": "Tiago Touso",
      "photoUrl": "https://lh3.googleusercontent.com/a-/AOh14GhUFDrBff9GnccW6ExvA80d8F7WCL2Yak8UIQOpFHc=s64",
      "userId": "13039814104467109855"
     },
     "user_tz": 180
    },
    "id": "RHWcYj0s8NQM",
    "outputId": "e053050d-b578-4f9e-b47f-ae83718893a8"
   },
   "outputs": [
    {
     "data": {
      "text/plain": [
       "[<matplotlib.lines.Line2D at 0x2159cc228e0>]"
      ]
     },
     "execution_count": 15,
     "metadata": {},
     "output_type": "execute_result"
    },
    {
     "data": {
      "image/png": "[encoded data removed]",
      "text/plain": [
       "<Figure size 432x288 with 1 Axes>"
      ]
     },
     "metadata": {
      "needs_background": "light"
     },
     "output_type": "display_data"
    }
   ],
   "source": [
    "# Plot da médias\n",
    "\n",
    "plt.plot(diabetes.feature_names, resultado['importances_mean'])"
   ]
  },
  {
   "cell_type": "code",
   "execution_count": 16,
   "metadata": {
    "colab": {
     "base_uri": "https://localhost:8080/",
     "height": 283
    },
    "executionInfo": {
     "elapsed": 377,
     "status": "ok",
     "timestamp": 1638967675023,
     "user": {
      "displayName": "Tiago Touso",
      "photoUrl": "https://lh3.googleusercontent.com/a-/AOh14GhUFDrBff9GnccW6ExvA80d8F7WCL2Yak8UIQOpFHc=s64",
      "userId": "13039814104467109855"
     },
     "user_tz": 180
    },
    "id": "uqttke7tAYs7",
    "outputId": "f2d266fa-583d-437e-b2e5-75f1a81b1b35"
   },
   "outputs": [
    {
     "data": {
      "text/plain": [
       "[<matplotlib.lines.Line2D at 0x2159cd2fc10>]"
      ]
     },
     "execution_count": 16,
     "metadata": {},
     "output_type": "execute_result"
    },
    {
     "data": {
      "image/png": "[encoded data removed]",
      "text/plain": [
       "<Figure size 432x288 with 1 Axes>"
      ]
     },
     "metadata": {
      "needs_background": "light"
     },
     "output_type": "display_data"
    }
   ],
   "source": [
    "# Plot do desvio padrão\n",
    "\n",
    "plt.plot(diabetes.feature_names, resultado['importances_std'])"
   ]
  },
  {
   "cell_type": "code",
   "execution_count": 17,
   "metadata": {
    "colab": {
     "base_uri": "https://localhost:8080/",
     "height": 283
    },
    "executionInfo": {
     "elapsed": 44,
     "status": "ok",
     "timestamp": 1638967675024,
     "user": {
      "displayName": "Tiago Touso",
      "photoUrl": "https://lh3.googleusercontent.com/a-/AOh14GhUFDrBff9GnccW6ExvA80d8F7WCL2Yak8UIQOpFHc=s64",
      "userId": "13039814104467109855"
     },
     "user_tz": 180
    },
    "id": "oP8eahtDAY1u",
    "outputId": "b6a64bcf-ee78-4d4d-928f-3c60679fa165"
   },
   "outputs": [
    {
     "data": {
      "text/plain": [
       "<AxesSubplot:>"
      ]
     },
     "execution_count": 17,
     "metadata": {},
     "output_type": "execute_result"
    },
    {
     "data": {
      "image/png": "[encoded data removed]",
      "text/plain": [
       "<Figure size 432x288 with 1 Axes>"
      ]
     },
     "metadata": {
      "needs_background": "light"
     },
     "output_type": "display_data"
    }
   ],
   "source": [
    "# Plot dos importancias\n",
    "\n",
    "dd = pd.DataFrame(resultado['importances'].T, columns=diabetes.feature_names)\n",
    "\n",
    "sns.boxplot(data=dd)"
   ]
  },
  {
   "cell_type": "code",
   "execution_count": 18,
   "metadata": {
    "colab": {
     "base_uri": "https://localhost:8080/"
    },
    "executionInfo": {
     "elapsed": 39,
     "status": "ok",
     "timestamp": 1638967675025,
     "user": {
      "displayName": "Tiago Touso",
      "photoUrl": "https://lh3.googleusercontent.com/a-/AOh14GhUFDrBff9GnccW6ExvA80d8F7WCL2Yak8UIQOpFHc=s64",
      "userId": "13039814104467109855"
     },
     "user_tz": 180
    },
    "id": "XQLYwGLq8quA",
    "outputId": "4b5a2162-8fba-4e4f-a799-abe5f92a8c34"
   },
   "outputs": [
    {
     "name": "stdout",
     "output_type": "stream",
     "text": [
      "s5      0.181 +/- 0.065\n",
      "bmi     0.161 +/- 0.053\n",
      "bp      0.092 +/- 0.033\n",
      "sex     0.042 +/- 0.020\n"
     ]
    }
   ],
   "source": [
    "# Print dos resultados\n",
    "\n",
    "for i in resultado.importances_mean.argsort()[::-1]:\n",
    "     if resultado.importances_mean[i] - 2 * resultado.importances_std[i] > 0:\n",
    "         print(f\"{diabetes.feature_names[i]:<8}\"\n",
    "               f\"{resultado.importances_mean[i]:.3f}\"\n",
    "               f\" +/- {resultado.importances_std[i]:.3f}\")"
   ]
  }
 ],
 "metadata": {
  "colab": {
   "authorship_tag": "ABX9TyPyXDHzbx5KJ4wkLGE2QIdk",
   "name": "2021 PERMUTATION IMPORTANCE.ipynb",
   "provenance": []
  },
  "kernelspec": {
   "display_name": "Python 3 (ipykernel)",
   "language": "python",
   "name": "python3"
  },
  "language_info": {
   "codemirror_mode": {
    "name": "ipython",
    "version": 3
   },
   "file_extension": ".py",
   "mimetype": "text/x-python",
   "name": "python",
   "nbconvert_exporter": "python",
   "pygments_lexer": "ipython3",
   "version": "3.9.7"
  }
 },
 "nbformat": 4,
 "nbformat_minor": 1
}
