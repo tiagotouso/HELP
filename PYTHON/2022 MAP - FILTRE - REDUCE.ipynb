{
 "cells": [
  {
   "cell_type": "markdown",
   "id": "d7cb08a6",
   "metadata": {},
   "source": [
    "# MAP - FILTRE - REDUCE"
   ]
  },
  {
   "cell_type": "code",
   "execution_count": 1,
   "id": "e7c8225b",
   "metadata": {},
   "outputs": [],
   "source": [
    "# IMPORTA OS MÓDULOS\n",
    "\n",
    "from functools import reduce\n",
    "\n",
    "import random as rd\n",
    "import numpy as np"
   ]
  },
  {
   "cell_type": "code",
   "execution_count": 2,
   "id": "49815410",
   "metadata": {},
   "outputs": [
    {
     "data": {
      "text/plain": [
       "[1]"
      ]
     },
     "execution_count": 2,
     "metadata": {},
     "output_type": "execute_result"
    }
   ],
   "source": [
    "# SORTEIAR UM NÚMERO\n",
    "\n",
    "rd.sample([1, 2, 3, 4], 1)"
   ]
  },
  {
   "cell_type": "code",
   "execution_count": 3,
   "id": "b589c974",
   "metadata": {},
   "outputs": [
    {
     "name": "stdout",
     "output_type": "stream",
     "text": [
      "{'sexo': 'm', 'idade': 65, 'estado_civil': 'casado', 'salario': 9000}\n",
      "\n",
      "[{'sexo': 'm', 'idade': 65, 'estado_civil': 'casado', 'salario': 9000}, {'sexo': 'm', 'idade': 49, 'estado_civil': 'casado', 'salario': 6000}, {'sexo': 'm', 'idade': 55, 'estado_civil': 'viúvo', 'salario': 6000}, {'sexo': 'm', 'idade': 22, 'estado_civil': 'solteiro', 'salario': 2000}, {'sexo': 'm', 'idade': 22, 'estado_civil': 'casado', 'salario': 8000}, {'sexo': 'f', 'idade': 68, 'estado_civil': 'casado', 'salario': 6000}, {'sexo': 'f', 'idade': 69, 'estado_civil': 'casado', 'salario': 9000}, {'sexo': 'f', 'idade': 58, 'estado_civil': 'solteiro', 'salario': 9000}, {'sexo': 'm', 'idade': 62, 'estado_civil': 'solteiro', 'salario': 1000}, {'sexo': 'f', 'idade': 26, 'estado_civil': 'viúvo', 'salario': 3000}, {'sexo': 'f', 'idade': 50, 'estado_civil': 'casado', 'salario': 4000}, {'sexo': 'm', 'idade': 18, 'estado_civil': 'casado', 'salario': 1000}, {'sexo': 'm', 'idade': 54, 'estado_civil': 'solteiro', 'salario': 8000}, {'sexo': 'f', 'idade': 68, 'estado_civil': 'solteiro', 'salario': 8000}, {'sexo': 'f', 'idade': 29, 'estado_civil': 'casado', 'salario': 1000}, {'sexo': 'f', 'idade': 43, 'estado_civil': 'solteiro', 'salario': 8000}, {'sexo': 'm', 'idade': 21, 'estado_civil': 'viúvo', 'salario': 4000}, {'sexo': 'f', 'idade': 69, 'estado_civil': 'viúvo', 'salario': 4000}, {'sexo': 'f', 'idade': 24, 'estado_civil': 'viúvo', 'salario': 2000}, {'sexo': 'f', 'idade': 27, 'estado_civil': 'viúvo', 'salario': 9000}]\n"
     ]
    }
   ],
   "source": [
    "# CRIAR UMA TABELA COM VALORES ALEATÓRIOS\n",
    "\n",
    "tabela = []\n",
    "\n",
    "for _ in range(20):\n",
    "    linha = {'sexo': rd.sample(['m', 'f'], 1)[0], \n",
    "             'idade': rd.sample(list(range(18,70)), 1)[0],\n",
    "             'estado_civil': rd.sample(['solteiro', 'casado', 'viúvo'], 1)[0],\n",
    "             'salario': rd.sample(list(range(10**3, 10**4, 10**3)), 1)[0]}\n",
    "    tabela.append(linha)\n",
    "    \n",
    "print(tabela[0])\n",
    "print()\n",
    "print(tabela)"
   ]
  },
  {
   "cell_type": "markdown",
   "id": "7076d68b",
   "metadata": {},
   "source": [
    "# MAP"
   ]
  },
  {
   "cell_type": "code",
   "execution_count": 4,
   "id": "88e85cce",
   "metadata": {},
   "outputs": [
    {
     "data": {
      "text/plain": [
       "<map at 0x1e81b8fb820>"
      ]
     },
     "execution_count": 4,
     "metadata": {},
     "output_type": "execute_result"
    }
   ],
   "source": [
    "# USANDO A FUNÇÃO MAP\n",
    "\n",
    "valores_idade = map(lambda m: m['idade'], tabela)\n",
    "\n",
    "# RETORNA UM ITERATOR\n",
    "\n",
    "valores_idade"
   ]
  },
  {
   "cell_type": "code",
   "execution_count": 5,
   "id": "65085431",
   "metadata": {},
   "outputs": [
    {
     "name": "stdout",
     "output_type": "stream",
     "text": [
      "65\n",
      "49\n",
      "55\n",
      "22\n",
      "22\n"
     ]
    }
   ],
   "source": [
    "# ACESSANDO OS ITERATOR\n",
    "\n",
    "for _ in range(5):\n",
    "    print(next(valores_idade))"
   ]
  },
  {
   "cell_type": "code",
   "execution_count": 6,
   "id": "e05d3c04",
   "metadata": {},
   "outputs": [
    {
     "name": "stdout",
     "output_type": "stream",
     "text": [
      "[68, 69, 58, 62, 26, 50, 18, 54, 68, 29, 43, 21, 69, 24, 27]\n"
     ]
    }
   ],
   "source": [
    "# TRANSFORMANDO OS ITERATOR\n",
    "\n",
    "print(list(valores_idade))"
   ]
  },
  {
   "cell_type": "code",
   "execution_count": 7,
   "id": "4a2b4f6f",
   "metadata": {},
   "outputs": [
    {
     "name": "stdout",
     "output_type": "stream",
     "text": [
      "[]\n"
     ]
    }
   ],
   "source": [
    "# ITERATOR LIBERADOS\n",
    "\n",
    "print(list(valores_idade))"
   ]
  },
  {
   "cell_type": "code",
   "execution_count": 8,
   "id": "36b54f9f",
   "metadata": {},
   "outputs": [
    {
     "data": {
      "text/plain": [
       "44.95"
      ]
     },
     "execution_count": 8,
     "metadata": {},
     "output_type": "execute_result"
    }
   ],
   "source": [
    "# USAR MAP PARA CALCULAR A MÉDIA\n",
    "\n",
    "lista_idade = list(map(lambda m: m['idade'], tabela))\n",
    "np.mean(lista_idade)"
   ]
  },
  {
   "cell_type": "markdown",
   "id": "1db796fc",
   "metadata": {},
   "source": [
    "# FILTER"
   ]
  },
  {
   "cell_type": "code",
   "execution_count": 9,
   "id": "e8b861bd",
   "metadata": {},
   "outputs": [
    {
     "data": {
      "text/plain": [
       "[{'sexo': 'm', 'idade': 65, 'estado_civil': 'casado', 'salario': 9000},\n",
       " {'sexo': 'm', 'idade': 49, 'estado_civil': 'casado', 'salario': 6000},\n",
       " {'sexo': 'm', 'idade': 55, 'estado_civil': 'viúvo', 'salario': 6000},\n",
       " {'sexo': 'm', 'idade': 22, 'estado_civil': 'solteiro', 'salario': 2000},\n",
       " {'sexo': 'm', 'idade': 22, 'estado_civil': 'casado', 'salario': 8000},\n",
       " {'sexo': 'm', 'idade': 62, 'estado_civil': 'solteiro', 'salario': 1000},\n",
       " {'sexo': 'm', 'idade': 18, 'estado_civil': 'casado', 'salario': 1000},\n",
       " {'sexo': 'm', 'idade': 54, 'estado_civil': 'solteiro', 'salario': 8000},\n",
       " {'sexo': 'm', 'idade': 21, 'estado_civil': 'viúvo', 'salario': 4000}]"
      ]
     },
     "execution_count": 9,
     "metadata": {},
     "output_type": "execute_result"
    }
   ],
   "source": [
    "# USANDO FIILTER\n",
    "\n",
    "list(filter(lambda m: m['sexo'] == 'm', tabela))"
   ]
  },
  {
   "cell_type": "code",
   "execution_count": 10,
   "id": "432177d7",
   "metadata": {},
   "outputs": [
    {
     "data": {
      "text/plain": [
       "[{'sexo': 'm', 'idade': 18, 'estado_civil': 'casado', 'salario': 1000}]"
      ]
     },
     "execution_count": 10,
     "metadata": {},
     "output_type": "execute_result"
    }
   ],
   "source": [
    "# USANDO O FILTER\n",
    "\n",
    "list(filter(lambda m: m['idade'] < 20, tabela))"
   ]
  },
  {
   "cell_type": "code",
   "execution_count": 11,
   "id": "27a19db3",
   "metadata": {},
   "outputs": [
    {
     "data": {
      "text/plain": [
       "[{'sexo': 'm', 'idade': 65, 'estado_civil': 'casado', 'salario': 9000},\n",
       " {'sexo': 'm', 'idade': 49, 'estado_civil': 'casado', 'salario': 6000},\n",
       " {'sexo': 'm', 'idade': 22, 'estado_civil': 'casado', 'salario': 8000},\n",
       " {'sexo': 'f', 'idade': 68, 'estado_civil': 'casado', 'salario': 6000},\n",
       " {'sexo': 'f', 'idade': 69, 'estado_civil': 'casado', 'salario': 9000},\n",
       " {'sexo': 'f', 'idade': 50, 'estado_civil': 'casado', 'salario': 4000},\n",
       " {'sexo': 'f', 'idade': 29, 'estado_civil': 'casado', 'salario': 1000}]"
      ]
     },
     "execution_count": 11,
     "metadata": {},
     "output_type": "execute_result"
    }
   ],
   "source": [
    "# USANDO O FILTER\n",
    "\n",
    "list(filter(lambda m: m['idade'] > 20 and m['estado_civil'] == 'casado', tabela))"
   ]
  },
  {
   "cell_type": "code",
   "execution_count": 12,
   "id": "97d964be",
   "metadata": {},
   "outputs": [
    {
     "data": {
      "text/plain": [
       "[9000, 6000, 8000, 6000, 9000, 4000, 1000]"
      ]
     },
     "execution_count": 12,
     "metadata": {},
     "output_type": "execute_result"
    }
   ],
   "source": [
    "# USANDO O FILTER COM MAP\n",
    "\n",
    "list(\n",
    "    map(lambda n: n['salario'],\n",
    "    filter(lambda m: m['idade'] > 20 and m['estado_civil'] == 'casado', tabela)\n",
    "        )\n",
    ")"
   ]
  },
  {
   "cell_type": "code",
   "execution_count": 13,
   "id": "10d6de7a",
   "metadata": {},
   "outputs": [
    {
     "data": {
      "text/plain": [
       "6142.857142857143"
      ]
     },
     "execution_count": 13,
     "metadata": {},
     "output_type": "execute_result"
    }
   ],
   "source": [
    "# USANDO O FILTER COM MAP PARA CALCULAR A MÉDIA\n",
    "\n",
    "np.mean(\n",
    "    list(\n",
    "    map(lambda n: n['salario'],\n",
    "    filter(lambda m: m['idade'] > 20 and m['estado_civil'] == 'casado', tabela)\n",
    "        )\n",
    "    )\n",
    ")"
   ]
  },
  {
   "cell_type": "markdown",
   "id": "92dce28f",
   "metadata": {},
   "source": [
    "# REDUCE"
   ]
  },
  {
   "cell_type": "code",
   "execution_count": 14,
   "id": "162ceb9a",
   "metadata": {},
   "outputs": [
    {
     "data": {
      "text/plain": [
       "108000"
      ]
     },
     "execution_count": 14,
     "metadata": {},
     "output_type": "execute_result"
    }
   ],
   "source": [
    "# USANDO O REDUCE PARA SOMAR\n",
    "\n",
    "reduce(lambda soma, t: soma + t['salario'], tabela, 0)"
   ]
  },
  {
   "cell_type": "code",
   "execution_count": 15,
   "id": "9870b346",
   "metadata": {},
   "outputs": [
    {
     "data": {
      "text/plain": [
       "108000"
      ]
     },
     "execution_count": 15,
     "metadata": {},
     "output_type": "execute_result"
    }
   ],
   "source": [
    "# USANDO O MAP PARA SOMAR O TOTAL\n",
    "\n",
    "np.sum(list(map(lambda v: v['salario'], tabela)))"
   ]
  },
  {
   "cell_type": "code",
   "execution_count": 16,
   "id": "5b95ea60",
   "metadata": {},
   "outputs": [
    {
     "data": {
      "text/plain": [
       "5400.0"
      ]
     },
     "execution_count": 16,
     "metadata": {},
     "output_type": "execute_result"
    }
   ],
   "source": [
    "# USANDO O REDUCE PARA CALCULAR A MÉDIA\n",
    "\n",
    "reduce(lambda soma, t: soma + t['salario'] / len(tabela), tabela, 0)"
   ]
  },
  {
   "cell_type": "code",
   "execution_count": 17,
   "id": "a43c643d",
   "metadata": {},
   "outputs": [
    {
     "data": {
      "text/plain": [
       "5400.0"
      ]
     },
     "execution_count": 17,
     "metadata": {},
     "output_type": "execute_result"
    }
   ],
   "source": [
    "# USANDO O MAP PARA CALCULAR A MÉIA\n",
    "\n",
    "np.mean(list(map(lambda v: v['salario'], tabela)))"
   ]
  },
  {
   "cell_type": "code",
   "execution_count": 18,
   "id": "76415f96",
   "metadata": {},
   "outputs": [
    {
     "data": {
      "text/plain": [
       "43000"
      ]
     },
     "execution_count": 18,
     "metadata": {},
     "output_type": "execute_result"
    }
   ],
   "source": [
    "# REDUCE COM FILTER\n",
    "\n",
    "reduce(lambda soma, tabela:\n",
    "      soma + tabela['salario'],\n",
    "      filter(lambda m: m['idade'] > 20 and m['estado_civil'] == 'casado', tabela),\n",
    "      0)"
   ]
  },
  {
   "cell_type": "code",
   "execution_count": 19,
   "id": "cdfab705",
   "metadata": {},
   "outputs": [
    {
     "data": {
      "text/plain": [
       "43000"
      ]
     },
     "execution_count": 19,
     "metadata": {},
     "output_type": "execute_result"
    }
   ],
   "source": [
    "# USANDO O FILTER COM MAP PARA CALCULAR A MÉDIA\n",
    "\n",
    "np.sum(\n",
    "    list(\n",
    "    map(lambda n: n['salario'],\n",
    "    filter(lambda m: m['idade'] > 20 and m['estado_civil'] == 'casado', tabela)\n",
    "        )\n",
    "    )\n",
    ")"
   ]
  }
 ],
 "metadata": {
  "kernelspec": {
   "display_name": "Python 3 (ipykernel)",
   "language": "python",
   "name": "python3"
  },
  "language_info": {
   "codemirror_mode": {
    "name": "ipython",
    "version": 3
   },
   "file_extension": ".py",
   "mimetype": "text/x-python",
   "name": "python",
   "nbconvert_exporter": "python",
   "pygments_lexer": "ipython3",
   "version": "3.9.12"
  }
 },
 "nbformat": 4,
 "nbformat_minor": 5
}
