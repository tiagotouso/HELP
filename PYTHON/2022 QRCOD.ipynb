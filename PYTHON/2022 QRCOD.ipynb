{
 "cells": [
  {
   "cell_type": "markdown",
   "id": "1f0bb7c4",
   "metadata": {},
   "source": [
    "# QRCOD"
   ]
  },
  {
   "cell_type": "code",
   "execution_count": 72,
   "id": "ed250eaf",
   "metadata": {},
   "outputs": [],
   "source": [
    "# IMPORTAR MÓDULO\n",
    "\n",
    "import segno"
   ]
  },
  {
   "cell_type": "markdown",
   "id": "1c21ec51",
   "metadata": {},
   "source": [
    "https://segno.readthedocs.io/en/latest/special-qrcode-factories.html"
   ]
  },
  {
   "cell_type": "code",
   "execution_count": 85,
   "id": "50ecf051",
   "metadata": {},
   "outputs": [],
   "source": [
    "qr = segno.make('Yellow Submarine', version=7, error='h')\n",
    "# qrcode.save('qrcode_yellow-submarine.png', scale=4, dark='darkred',\n",
    "#              data_dark='darkorange', data_light='yellow')"
   ]
  },
  {
   "cell_type": "code",
   "execution_count": null,
   "id": "762d8818",
   "metadata": {},
   "outputs": [],
   "source": []
  },
  {
   "cell_type": "code",
   "execution_count": null,
   "id": "69b129e4",
   "metadata": {},
   "outputs": [],
   "source": []
  },
  {
   "cell_type": "code",
   "execution_count": null,
   "id": "485d401d",
   "metadata": {},
   "outputs": [],
   "source": []
  },
  {
   "cell_type": "code",
   "execution_count": null,
   "id": "39262951",
   "metadata": {},
   "outputs": [],
   "source": []
  },
  {
   "cell_type": "code",
   "execution_count": 86,
   "id": "2776cea1",
   "metadata": {},
   "outputs": [
    {
     "name": "stdout",
     "output_type": "stream",
     "text": [
      "['__class__', '__delattr__', '__dir__', '__doc__', '__eq__', '__format__', '__ge__', '__getattr__', '__getattribute__', '__gt__', '__hash__', '__init__', '__init_subclass__', '__le__', '__lt__', '__module__', '__ne__', '__new__', '__reduce__', '__reduce_ex__', '__repr__', '__setattr__', '__sizeof__', '__slots__', '__str__', '__subclasshook__', '_error', '_mode', '_version', 'default_border_size', 'designator', 'error', 'is_micro', 'mask', 'matrix', 'matrix_iter', 'mode', 'png_data_uri', 'save', 'show', 'svg_data_uri', 'svg_inline', 'symbol_size', 'terminal', 'version']\n"
     ]
    }
   ],
   "source": [
    "print(dir(qr))"
   ]
  },
  {
   "cell_type": "code",
   "execution_count": null,
   "id": "1bd30460",
   "metadata": {},
   "outputs": [],
   "source": []
  },
  {
   "cell_type": "code",
   "execution_count": 90,
   "id": "91544369",
   "metadata": {},
   "outputs": [
    {
     "data": {
      "text/plain": [
       "'data:image/png;base64,iVBORw0KGgoAAAANSUhEUgAAADUAAAA1AQAAAADJnZ7dAAABaklEQVR42mP4DwY/GHDRHwSF//A7VDB8v7r79aP7FQxfAvIO2l0E0lENjs8CgXRkOZMBkP5+LbfAGSj/QTQ0NBSo/v+38rJTQP1/Av4zSfEA5Tew5/lXAfmHp+rK6f9g+KF1+p0t1w+Gf13Rzx+W/mD4bq7ftGU50L6jt8qcL1Qw/MyVeeH1s4Lh8ywjJbk8oD31OR6n6ysYvsbM/C6X8YPh07fi6Vs5gfYwsLJksgPNKZUvNikB6g/fGRodADSvwKO4G2juF+bXjPcYfzB8NlmV4HUKqC9ec9X/+T8Yvm7+ZxwNdM/3jjXnW5/+YPhYamwubgtU38bB9TSjguGbuZnf661Ae/t3S9txVDD8sPt+jusCMFw8nGXnNQLdX7b43t+CHwzfHIxYE4H2//+eXhZSBPS/jFHg4zCguXdrSzYD5b8ETWN/D5T/EibFki0FpAMmbO7rB8rfeN+9dzfQvZI/Khx6cIc/lAYAvTnr9dBTDAAAAAAASUVORK5CYII='"
      ]
     },
     "execution_count": 90,
     "metadata": {},
     "output_type": "execute_result"
    }
   ],
   "source": [
    "qr.png_data_uri()"
   ]
  },
  {
   "cell_type": "code",
   "execution_count": 92,
   "id": "c45c847b",
   "metadata": {},
   "outputs": [
    {
     "data": {
      "text/plain": [
       "'<svg width=\"53\" height=\"53\" class=\"segno\"><path class=\"qrline\" stroke=\"#000\" d=\"M4 4.5h7m1 0h3m1 0h3m1 0h2m8 0h6m4 0h1m1 0h7m-45 1h1m5 0h1m1 0h1m1 0h1m2 0h1m3 0h1m5 0h1m1 0h1m5 0h3m1 0h1m2 0h1m5 0h1m-45 1h1m1 0h3m1 0h1m1 0h5m2 0h1m3 0h1m2 0h5m1 0h2m5 0h1m2 0h1m1 0h3m1 0h1m-45 1h1m1 0h3m1 0h1m2 0h1m1 0h1m1 0h8m1 0h5m4 0h2m2 0h2m1 0h1m1 0h3m1 0h1m-45 1h1m1 0h3m1 0h1m2 0h2m1 0h1m3 0h1m3 0h6m1 0h3m2 0h5m1 0h1m1 0h3m1 0h1m-45 1h1m5 0h1m1 0h1m2 0h2m2 0h1m2 0h1m1 0h1m3 0h5m1 0h4m4 0h1m5 0h1m-45 1h7m1 0h1m1 0h1m1 0h1m1 0h1m1 0h1m1 0h1m1 0h1m1 0h1m1 0h1m1 0h1m1 0h1m1 0h1m1 0h1m1 0h1m1 0h1m1 0h7m-37 1h1m2 0h2m3 0h1m3 0h1m3 0h1m2 0h1m2 0h2m1 0h1m1 0h1m-34 1h3m1 0h1m1 0h4m8 0h6m1 0h4m2 0h1m1 0h5m2 0h3m-45 1h1m4 0h1m2 0h9m3 0h1m2 0h1m3 0h2m1 0h2m4 0h1m4 0h1m1 0h1m-42 1h2m2 0h4m3 0h2m1 0h1m1 0h1m1 0h2m1 0h1m2 0h1m1 0h3m4 0h3m1 0h1m-39 1h5m1 0h1m1 0h1m1 0h1m2 0h2m1 0h1m5 0h1m3 0h3m4 0h1m1 0h4m1 0h1m1 0h1m-41 1h1m1 0h3m1 0h1m1 0h2m1 0h1m2 0h1m5 0h2m6 0h4m1 0h1m3 0h1m1 0h1m-43 1h1m3 0h2m2 0h1m3 0h2m1 0h1m5 0h5m1 0h1m1 0h1m2 0h1m1 0h2m1 0h1m1 0h2m-41 1h4m2 0h3m1 0h1m3 0h1m2 0h1m1 0h2m3 0h1m2 0h2m1 0h4m4 0h1m1 0h5m-44 1h2m1 0h1m2 0h1m2 0h1m1 0h3m3 0h2m3 0h1m1 0h4m1 0h2m1 0h1m1 0h1m5 0h2m1 0h1m-45 1h2m3 0h2m2 0h1m1 0h3m2 0h2m1 0h3m1 0h3m1 0h4m4 0h2m2 0h1m3 0h2m-45 1h1m1 0h3m7 0h1m2 0h1m2 0h3m1 0h2m1 0h3m2 0h2m1 0h1m2 0h1m7 0h1m-45 1h1m1 0h1m1 0h1m1 0h1m3 0h2m1 0h2m2 0h2m5 0h1m3 0h3m4 0h2m2 0h1m1 0h3m-44 1h2m1 0h1m4 0h1m2 0h2m3 0h2m3 0h2m1 0h1m4 0h1m2 0h1m1 0h1m1 0h4m1 0h2m1 0h1m-41 1h13m1 0h1m1 0h5m1 0h3m2 0h1m1 0h2m1 0h5m-38 1h2m3 0h1m1 0h1m1 0h3m5 0h1m3 0h2m2 0h2m2 0h1m1 0h3m3 0h1m1 0h2m-44 1h5m1 0h1m1 0h1m4 0h1m3 0h2m1 0h1m1 0h1m1 0h1m1 0h1m1 0h1m1 0h1m2 0h1m2 0h1m1 0h1m1 0h4m-44 1h1m3 0h1m3 0h5m1 0h2m1 0h4m3 0h2m3 0h3m1 0h1m2 0h1m3 0h1m1 0h1m-43 1h1m1 0h8m5 0h1m1 0h1m2 0h7m3 0h1m4 0h8m-43 1h2m2 0h2m2 0h1m1 0h2m1 0h1m1 0h1m1 0h1m1 0h2m2 0h6m1 0h2m1 0h1m1 0h1m2 0h2m1 0h1m1 0h1m-44 1h2m1 0h2m1 0h1m5 0h2m1 0h1m1 0h2m2 0h1m1 0h1m1 0h1m1 0h1m9 0h2m-39 1h1m1 0h1m2 0h1m2 0h2m9 0h3m2 0h2m2 0h1m1 0h1m2 0h1m2 0h1m4 0h1m1 0h1m-44 1h1m4 0h3m1 0h3m1 0h1m1 0h1m2 0h2m2 0h2m5 0h4m1 0h1m4 0h2m1 0h1m-43 1h3m1 0h1m3 0h1m1 0h1m1 0h2m2 0h2m2 0h2m2 0h1m3 0h3m1 0h1m3 0h2m4 0h1m-43 1h1m1 0h2m1 0h4m2 0h5m1 0h7m1 0h1m1 0h1m3 0h2m1 0h1m1 0h1m2 0h1m1 0h4m-45 1h1m2 0h3m2 0h1m3 0h2m2 0h1m2 0h2m1 0h2m3 0h1m3 0h1m1 0h1m3 0h1m2 0h1m1 0h1m1 0h1m-45 1h1m1 0h2m1 0h3m5 0h1m3 0h1m2 0h3m2 0h1m2 0h2m5 0h5m1 0h4m-44 1h5m5 0h1m4 0h1m5 0h2m3 0h5m1 0h1m1 0h1m2 0h1m1 0h4m-40 1h1m1 0h2m1 0h4m1 0h4m2 0h3m3 0h1m2 0h2m4 0h1m1 0h6m-42 1h4m3 0h1m2 0h1m1 0h1m1 0h3m4 0h1m4 0h1m6 0h1m1 0h1m3 0h4m-44 1h1m2 0h2m1 0h8m2 0h2m1 0h6m1 0h1m1 0h1m2 0h4m1 0h5m-33 1h1m3 0h1m2 0h2m3 0h1m3 0h1m2 0h2m1 0h1m1 0h1m1 0h3m3 0h2m1 0h2m-45 1h7m3 0h4m2 0h2m1 0h2m1 0h1m1 0h3m4 0h3m2 0h1m1 0h1m1 0h1m2 0h1m-44 1h1m5 0h1m3 0h1m1 0h1m5 0h1m1 0h1m3 0h1m1 0h2m1 0h1m2 0h2m2 0h1m3 0h4m-44 1h1m1 0h3m1 0h1m1 0h2m1 0h1m1 0h2m1 0h1m2 0h6m6 0h1m4 0h5m-41 1h1m1 0h3m1 0h1m1 0h1m2 0h4m2 0h1m1 0h6m1 0h3m2 0h1m1 0h1m2 0h3m2 0h1m1 0h1m-44 1h1m1 0h3m1 0h1m1 0h4m1 0h2m1 0h4m1 0h1m2 0h2m3 0h3m3 0h1m1 0h3m-40 1h1m5 0h1m2 0h3m3 0h1m5 0h3m1 0h1m3 0h1m4 0h1m2 0h1m3 0h1m-42 1h7m2 0h2m6 0h4m4 0h4m1 0h6m1 0h3m2 0h2\"/></svg>'"
      ]
     },
     "execution_count": 92,
     "metadata": {},
     "output_type": "execute_result"
    }
   ],
   "source": [
    "qr.svg_inline()"
   ]
  },
  {
   "cell_type": "code",
   "execution_count": null,
   "id": "b33a06e4",
   "metadata": {},
   "outputs": [],
   "source": []
  },
  {
   "cell_type": "code",
   "execution_count": null,
   "id": "c201c9e6",
   "metadata": {},
   "outputs": [],
   "source": []
  },
  {
   "cell_type": "code",
   "execution_count": null,
   "id": "680f4214",
   "metadata": {},
   "outputs": [],
   "source": []
  },
  {
   "cell_type": "code",
   "execution_count": 73,
   "id": "20009307",
   "metadata": {},
   "outputs": [],
   "source": [
    "qrcode = segno.make('Yellow Submarine')"
   ]
  },
  {
   "cell_type": "code",
   "execution_count": 76,
   "id": "83f9919e",
   "metadata": {},
   "outputs": [],
   "source": [
    "qrcode.show()"
   ]
  },
  {
   "cell_type": "code",
   "execution_count": 77,
   "id": "615feb33",
   "metadata": {},
   "outputs": [],
   "source": [
    "qrcode.save('henry-lee.txt') "
   ]
  },
  {
   "cell_type": "code",
   "execution_count": null,
   "id": "50a6a7a1",
   "metadata": {},
   "outputs": [],
   "source": []
  },
  {
   "cell_type": "code",
   "execution_count": 79,
   "id": "b8103619",
   "metadata": {},
   "outputs": [
    {
     "data": {
      "text/plain": [
       "False"
      ]
     },
     "execution_count": 79,
     "metadata": {},
     "output_type": "execute_result"
    }
   ],
   "source": [
    "qrcode."
   ]
  },
  {
   "cell_type": "code",
   "execution_count": 82,
   "id": "69609769",
   "metadata": {},
   "outputs": [
    {
     "data": {
      "text/plain": [
       "'byte'"
      ]
     },
     "execution_count": 82,
     "metadata": {},
     "output_type": "execute_result"
    }
   ],
   "source": [
    "qrcode.mode"
   ]
  },
  {
   "cell_type": "code",
   "execution_count": null,
   "id": "ecca127e",
   "metadata": {},
   "outputs": [],
   "source": []
  },
  {
   "cell_type": "code",
   "execution_count": null,
   "id": "1ca000cd",
   "metadata": {},
   "outputs": [],
   "source": []
  },
  {
   "cell_type": "code",
   "execution_count": 4,
   "id": "8805329f",
   "metadata": {},
   "outputs": [],
   "source": [
    "img = qrcode.make('Some data here')"
   ]
  },
  {
   "cell_type": "code",
   "execution_count": 6,
   "id": "d005c18a",
   "metadata": {},
   "outputs": [
    {
     "data": {
      "text/plain": [
       "qrcode.image.pil.PilImage"
      ]
     },
     "execution_count": 6,
     "metadata": {},
     "output_type": "execute_result"
    }
   ],
   "source": [
    "type(img)  # qrcode.image.pil.PilImage"
   ]
  },
  {
   "cell_type": "code",
   "execution_count": 5,
   "id": "e911a9fd",
   "metadata": {},
   "outputs": [],
   "source": [
    "img.save(\"some_file.png\")"
   ]
  },
  {
   "cell_type": "code",
   "execution_count": null,
   "id": "149e8d13",
   "metadata": {},
   "outputs": [],
   "source": []
  },
  {
   "cell_type": "code",
   "execution_count": 11,
   "id": "f1f6d0d2",
   "metadata": {},
   "outputs": [
    {
     "data": {
      "image/png": "[encoded data removed]",
      "text/plain": [
       "<PIL.Image.Image image mode=1 size=290x290 at 0x1873EC20EB0>"
      ]
     },
     "execution_count": 11,
     "metadata": {},
     "output_type": "execute_result"
    }
   ],
   "source": [
    "iq = img.get_image()\n",
    "iq"
   ]
  },
  {
   "cell_type": "code",
   "execution_count": null,
   "id": "7becfb18",
   "metadata": {},
   "outputs": [],
   "source": []
  },
  {
   "cell_type": "code",
   "execution_count": 38,
   "id": "08a51d64",
   "metadata": {},
   "outputs": [
    {
     "data": {
      "image/png": "[encoded data removed]",
      "text/plain": [
       "<qrcode.image.pil.PilImage at 0x18740ca5160>"
      ]
     },
     "execution_count": 38,
     "metadata": {},
     "output_type": "execute_result"
    }
   ],
   "source": [
    "qr = qrcode.QRCode(\n",
    "    version=1,\n",
    "    error_correction=qrcode.constants.ERROR_CORRECT_L,\n",
    "    box_size=10,\n",
    "    border=5,\n",
    ")\n",
    "qr.add_data('Some data')\n",
    "qr.make(fit=True)\n",
    "\n",
    "img = qr.make_image(fill_color=\"white\", back_color=\"blue\")\n",
    "img"
   ]
  },
  {
   "cell_type": "code",
   "execution_count": null,
   "id": "e9a401cb",
   "metadata": {},
   "outputs": [],
   "source": []
  },
  {
   "cell_type": "code",
   "execution_count": 48,
   "id": "3c32afb7",
   "metadata": {},
   "outputs": [
    {
     "data": {
      "image/png": "[encoded data removed]",
      "text/plain": [
       "<qrcode.image.pil.PilImage at 0x18741063910>"
      ]
     },
     "execution_count": 48,
     "metadata": {},
     "output_type": "execute_result"
    }
   ],
   "source": [
    "qr = qrcode.QRCode(\n",
    "    version=5,\n",
    "    error_correction=qrcode.constants.ERROR_CORRECT_L,\n",
    "    box_size=10,\n",
    "    border=5,\n",
    ")\n",
    "qr.add_data('Some data')\n",
    "qr.make(fit=True)\n",
    "\n",
    "img = qr.make_image(fill_color=\"white\", back_color=\"blue\")\n",
    "img"
   ]
  },
  {
   "cell_type": "code",
   "execution_count": null,
   "id": "57f60268",
   "metadata": {},
   "outputs": [],
   "source": []
  },
  {
   "cell_type": "code",
   "execution_count": null,
   "id": "ed09ec77",
   "metadata": {},
   "outputs": [],
   "source": []
  },
  {
   "cell_type": "code",
   "execution_count": 54,
   "id": "a6a1cb4b",
   "metadata": {},
   "outputs": [
    {
     "data": {
      "text/plain": [
       "0"
      ]
     },
     "execution_count": 54,
     "metadata": {},
     "output_type": "execute_result"
    }
   ],
   "source": [
    "import io\n",
    "import qrcode\n",
    "qr = qrcode.QRCode()\n",
    "qr.add_data(\"Some text\")\n",
    "f = io.StringIO()\n",
    "qr.print_ascii(out=f)\n",
    "f.seek(0)"
   ]
  },
  {
   "cell_type": "code",
   "execution_count": 56,
   "id": "caa3f049",
   "metadata": {},
   "outputs": [
    {
     "data": {
      "text/plain": [
       "_io.StringIO"
      ]
     },
     "execution_count": 56,
     "metadata": {},
     "output_type": "execute_result"
    }
   ],
   "source": [
    "type(f)"
   ]
  },
  {
   "cell_type": "code",
   "execution_count": null,
   "id": "463cad30",
   "metadata": {},
   "outputs": [],
   "source": []
  },
  {
   "cell_type": "code",
   "execution_count": 60,
   "id": "1486a30f",
   "metadata": {},
   "outputs": [
    {
     "data": {
      "image/png": "[encoded data removed]",
      "text/plain": [
       "<PIL.Image.Image image mode=RGB size=470x470 at 0x18740FF5AC0>"
      ]
     },
     "execution_count": 60,
     "metadata": {},
     "output_type": "execute_result"
    }
   ],
   "source": []
  },
  {
   "cell_type": "code",
   "execution_count": 57,
   "id": "73b06a3d",
   "metadata": {},
   "outputs": [],
   "source": [
    "import base64 \n",
    "# image = open('deer.gif', 'rb') #open binary file in read mode\n",
    "# image_read = image.read()\n",
    "# image_64_encode = base64.b64encode(image_read)"
   ]
  },
  {
   "cell_type": "code",
   "execution_count": 61,
   "id": "f1e78c10",
   "metadata": {},
   "outputs": [
    {
     "ename": "TypeError",
     "evalue": "a bytes-like object is required, not 'Image'",
     "output_type": "error",
     "traceback": [
      "\u001b[1;31m---------------------------------------------------------------------------\u001b[0m",
      "\u001b[1;31mTypeError\u001b[0m                                 Traceback (most recent call last)",
      "Input \u001b[1;32mIn [61]\u001b[0m, in \u001b[0;36m<cell line: 1>\u001b[1;34m()\u001b[0m\n\u001b[1;32m----> 1\u001b[0m \u001b[43mbase64\u001b[49m\u001b[38;5;241;43m.\u001b[39;49m\u001b[43mb64encode\u001b[49m\u001b[43m(\u001b[49m\u001b[43mimg\u001b[49m\u001b[38;5;241;43m.\u001b[39;49m\u001b[43mget_image\u001b[49m\u001b[43m(\u001b[49m\u001b[43m)\u001b[49m\u001b[43m)\u001b[49m\n",
      "File \u001b[1;32m~\\anaconda3\\lib\\base64.py:58\u001b[0m, in \u001b[0;36mb64encode\u001b[1;34m(s, altchars)\u001b[0m\n\u001b[0;32m     51\u001b[0m \u001b[38;5;28;01mdef\u001b[39;00m \u001b[38;5;21mb64encode\u001b[39m(s, altchars\u001b[38;5;241m=\u001b[39m\u001b[38;5;28;01mNone\u001b[39;00m):\n\u001b[0;32m     52\u001b[0m     \u001b[38;5;124;03m\"\"\"Encode the bytes-like object s using Base64 and return a bytes object.\u001b[39;00m\n\u001b[0;32m     53\u001b[0m \n\u001b[0;32m     54\u001b[0m \u001b[38;5;124;03m    Optional altchars should be a byte string of length 2 which specifies an\u001b[39;00m\n\u001b[0;32m     55\u001b[0m \u001b[38;5;124;03m    alternative alphabet for the '+' and '/' characters.  This allows an\u001b[39;00m\n\u001b[0;32m     56\u001b[0m \u001b[38;5;124;03m    application to e.g. generate url or filesystem safe Base64 strings.\u001b[39;00m\n\u001b[0;32m     57\u001b[0m \u001b[38;5;124;03m    \"\"\"\u001b[39;00m\n\u001b[1;32m---> 58\u001b[0m     encoded \u001b[38;5;241m=\u001b[39m \u001b[43mbinascii\u001b[49m\u001b[38;5;241;43m.\u001b[39;49m\u001b[43mb2a_base64\u001b[49m\u001b[43m(\u001b[49m\u001b[43ms\u001b[49m\u001b[43m,\u001b[49m\u001b[43m \u001b[49m\u001b[43mnewline\u001b[49m\u001b[38;5;241;43m=\u001b[39;49m\u001b[38;5;28;43;01mFalse\u001b[39;49;00m\u001b[43m)\u001b[49m\n\u001b[0;32m     59\u001b[0m     \u001b[38;5;28;01mif\u001b[39;00m altchars \u001b[38;5;129;01mis\u001b[39;00m \u001b[38;5;129;01mnot\u001b[39;00m \u001b[38;5;28;01mNone\u001b[39;00m:\n\u001b[0;32m     60\u001b[0m         \u001b[38;5;28;01massert\u001b[39;00m \u001b[38;5;28mlen\u001b[39m(altchars) \u001b[38;5;241m==\u001b[39m \u001b[38;5;241m2\u001b[39m, \u001b[38;5;28mrepr\u001b[39m(altchars)\n",
      "\u001b[1;31mTypeError\u001b[0m: a bytes-like object is required, not 'Image'"
     ]
    }
   ],
   "source": []
  },
  {
   "cell_type": "code",
   "execution_count": null,
   "id": "fdbb70f4",
   "metadata": {},
   "outputs": [],
   "source": []
  },
  {
   "cell_type": "code",
   "execution_count": 63,
   "id": "a7db8a6c",
   "metadata": {},
   "outputs": [],
   "source": [
    "x = img.get_image()"
   ]
  },
  {
   "cell_type": "code",
   "execution_count": 105,
   "id": "89f63345",
   "metadata": {},
   "outputs": [],
   "source": [
    "t = qr.png_data_uri()"
   ]
  },
  {
   "cell_type": "code",
   "execution_count": 102,
   "id": "a477ff8a",
   "metadata": {},
   "outputs": [
    {
     "data": {
      "text/plain": [
       "b'ZGF0YTppbWFnZS9wbmc7YmFzZTY0LGlWQk9SdzBLR2dvQUFBQU5TVWhFVWdBQUFEVUFBQUExQVFBQUFBREpuWjdkQUFBQmFrbEVRVlI0Mm1QNER3WS9HSERSSHdTRi8vQTdWREI4djdyNzlhUDdGUXhmQXZJTzJsMEUwbEVOanM4Q2dYUmtPWk1Ca1A1K0xiZkFHU2ovUVRRME5CU28vdiszOHJKVFFQMS9BdjR6U2ZFQTVUZXc1L2xYQWZtSHArcks2ZjlnK0tGMStwMHQxdytHZjEzUnp4K1cvbUQ0YnE3ZnRHVTUwTDZqdDhxY0wxUXcvTXlWZWVIMXM0TGg4eXdqSmJrOG9EMzFPUjZuNnlzWXZzYk0vQzZYOFlQaDA3Zmk2VnM1Z2ZZd3NMSmtzZ1BOS1pVdk5pa0I2Zy9mR1JvZEFEU3Z3S080RzJqdUYrYlhqUGNZZnpCOE5sbVY0SFVLcUM5ZWM5WC8rVDhZdm03K1p4d05kTS8zampYblc1LytZUGhZYW13dWJndFUzOGJCOVRTamd1R2J1Wm5mNjYxQWUvdDNTOXR4VkREOHNQdCtqdXNDTUZ3OG5HWG5OUUxkWDdiNDN0K0NId3pmSEl4WUU0SDIvLytlWGhaU0JQUy9qRkhnNHpDZ3VYZHJTellENWI4RVRXTi9ENVQvRWliRmtpMEZwQU1tYk83ckI4cmZlTis5ZHpmUXZaSS9LaHg2Y0ljL2xBWUF2VG5yOWRCVERBQUFBQUFBU1VWT1JLNUNZSUk9'"
      ]
     },
     "execution_count": 102,
     "metadata": {},
     "output_type": "execute_result"
    }
   ],
   "source": [
    "base64.b64encode(str.encode(qr.png_data_uri()))"
   ]
  },
  {
   "cell_type": "code",
   "execution_count": 104,
   "id": "6e6f044e",
   "metadata": {},
   "outputs": [
    {
     "data": {
      "text/plain": [
       "b'data:image/png;base64,iVBORw0KGgoAAAANSUhEUgAAADUAAAA1AQAAAADJnZ7dAAABaklEQVR42mP4DwY/GHDRHwSF//A7VDB8v7r79aP7FQxfAvIO2l0E0lENjs8CgXRkOZMBkP5+LbfAGSj/QTQ0NBSo/v+38rJTQP1/Av4zSfEA5Tew5/lXAfmHp+rK6f9g+KF1+p0t1w+Gf13Rzx+W/mD4bq7ftGU50L6jt8qcL1Qw/MyVeeH1s4Lh8ywjJbk8oD31OR6n6ysYvsbM/C6X8YPh07fi6Vs5gfYwsLJksgPNKZUvNikB6g/fGRodADSvwKO4G2juF+bXjPcYfzB8NlmV4HUKqC9ec9X/+T8Yvm7+ZxwNdM/3jjXnW5/+YPhYamwubgtU38bB9TSjguGbuZnf661Ae/t3S9txVDD8sPt+jusCMFw8nGXnNQLdX7b43t+CHwzfHIxYE4H2//+eXhZSBPS/jFHg4zCguXdrSzYD5b8ETWN/D5T/EibFki0FpAMmbO7rB8rfeN+9dzfQvZI/Khx6cIc/lAYAvTnr9dBTDAAAAAAASUVORK5CYII='"
      ]
     },
     "execution_count": 104,
     "metadata": {},
     "output_type": "execute_result"
    }
   ],
   "source": [
    "base64.b64decode(base64.b64encode(str.encode(qr.png_data_uri())))"
   ]
  },
  {
   "cell_type": "code",
   "execution_count": null,
   "id": "d5a7f143",
   "metadata": {},
   "outputs": [],
   "source": []
  },
  {
   "cell_type": "code",
   "execution_count": null,
   "id": "740f48f0",
   "metadata": {},
   "outputs": [],
   "source": []
  },
  {
   "cell_type": "code",
   "execution_count": 116,
   "id": "60dc7a1e",
   "metadata": {},
   "outputs": [
    {
     "ename": "TypeError",
     "evalue": "expected bytes-like object, not str",
     "output_type": "error",
     "traceback": [
      "\u001b[1;31m---------------------------------------------------------------------------\u001b[0m",
      "\u001b[1;31mTypeError\u001b[0m                                 Traceback (most recent call last)",
      "File \u001b[1;32m~\\anaconda3\\lib\\base64.py:510\u001b[0m, in \u001b[0;36m_input_type_check\u001b[1;34m(s)\u001b[0m\n\u001b[0;32m    509\u001b[0m \u001b[38;5;28;01mtry\u001b[39;00m:\n\u001b[1;32m--> 510\u001b[0m     m \u001b[38;5;241m=\u001b[39m \u001b[38;5;28;43mmemoryview\u001b[39;49m\u001b[43m(\u001b[49m\u001b[43ms\u001b[49m\u001b[43m)\u001b[49m\n\u001b[0;32m    511\u001b[0m \u001b[38;5;28;01mexcept\u001b[39;00m \u001b[38;5;167;01mTypeError\u001b[39;00m \u001b[38;5;28;01mas\u001b[39;00m err:\n",
      "\u001b[1;31mTypeError\u001b[0m: memoryview: a bytes-like object is required, not 'str'",
      "\nThe above exception was the direct cause of the following exception:\n",
      "\u001b[1;31mTypeError\u001b[0m                                 Traceback (most recent call last)",
      "Input \u001b[1;32mIn [116]\u001b[0m, in \u001b[0;36m<cell line: 5>\u001b[1;34m()\u001b[0m\n\u001b[0;32m      2\u001b[0m \u001b[38;5;28;01mfrom\u001b[39;00m \u001b[38;5;21;01mPIL\u001b[39;00m \u001b[38;5;28;01mimport\u001b[39;00m Image\n\u001b[0;32m      4\u001b[0m \u001b[38;5;66;03m# Assuming base64_str is the string value without 'data:image/jpeg;base64,'\u001b[39;00m\n\u001b[1;32m----> 5\u001b[0m img \u001b[38;5;241m=\u001b[39m Image\u001b[38;5;241m.\u001b[39mopen(io\u001b[38;5;241m.\u001b[39mBytesIO(\u001b[43mbase64\u001b[49m\u001b[38;5;241;43m.\u001b[39;49m\u001b[43mdecodebytes\u001b[49m\u001b[43m(\u001b[49m\u001b[43mt\u001b[49m\u001b[43m)\u001b[49m))\n",
      "File \u001b[1;32m~\\anaconda3\\lib\\base64.py:537\u001b[0m, in \u001b[0;36mdecodebytes\u001b[1;34m(s)\u001b[0m\n\u001b[0;32m    535\u001b[0m \u001b[38;5;28;01mdef\u001b[39;00m \u001b[38;5;21mdecodebytes\u001b[39m(s):\n\u001b[0;32m    536\u001b[0m     \u001b[38;5;124;03m\"\"\"Decode a bytestring of base-64 data into a bytes object.\"\"\"\u001b[39;00m\n\u001b[1;32m--> 537\u001b[0m     \u001b[43m_input_type_check\u001b[49m\u001b[43m(\u001b[49m\u001b[43ms\u001b[49m\u001b[43m)\u001b[49m\n\u001b[0;32m    538\u001b[0m     \u001b[38;5;28;01mreturn\u001b[39;00m binascii\u001b[38;5;241m.\u001b[39ma2b_base64(s)\n",
      "File \u001b[1;32m~\\anaconda3\\lib\\base64.py:513\u001b[0m, in \u001b[0;36m_input_type_check\u001b[1;34m(s)\u001b[0m\n\u001b[0;32m    511\u001b[0m \u001b[38;5;28;01mexcept\u001b[39;00m \u001b[38;5;167;01mTypeError\u001b[39;00m \u001b[38;5;28;01mas\u001b[39;00m err:\n\u001b[0;32m    512\u001b[0m     msg \u001b[38;5;241m=\u001b[39m \u001b[38;5;124m\"\u001b[39m\u001b[38;5;124mexpected bytes-like object, not \u001b[39m\u001b[38;5;132;01m%s\u001b[39;00m\u001b[38;5;124m\"\u001b[39m \u001b[38;5;241m%\u001b[39m s\u001b[38;5;241m.\u001b[39m\u001b[38;5;18m__class__\u001b[39m\u001b[38;5;241m.\u001b[39m\u001b[38;5;18m__name__\u001b[39m\n\u001b[1;32m--> 513\u001b[0m     \u001b[38;5;28;01mraise\u001b[39;00m \u001b[38;5;167;01mTypeError\u001b[39;00m(msg) \u001b[38;5;28;01mfrom\u001b[39;00m \u001b[38;5;21;01merr\u001b[39;00m\n\u001b[0;32m    514\u001b[0m \u001b[38;5;28;01mif\u001b[39;00m m\u001b[38;5;241m.\u001b[39mformat \u001b[38;5;129;01mnot\u001b[39;00m \u001b[38;5;129;01min\u001b[39;00m (\u001b[38;5;124m'\u001b[39m\u001b[38;5;124mc\u001b[39m\u001b[38;5;124m'\u001b[39m, \u001b[38;5;124m'\u001b[39m\u001b[38;5;124mb\u001b[39m\u001b[38;5;124m'\u001b[39m, \u001b[38;5;124m'\u001b[39m\u001b[38;5;124mB\u001b[39m\u001b[38;5;124m'\u001b[39m):\n\u001b[0;32m    515\u001b[0m     msg \u001b[38;5;241m=\u001b[39m (\u001b[38;5;124m\"\u001b[39m\u001b[38;5;124mexpected single byte elements, not \u001b[39m\u001b[38;5;132;01m%r\u001b[39;00m\u001b[38;5;124m from \u001b[39m\u001b[38;5;132;01m%s\u001b[39;00m\u001b[38;5;124m\"\u001b[39m \u001b[38;5;241m%\u001b[39m\n\u001b[0;32m    516\u001b[0m                                       (m\u001b[38;5;241m.\u001b[39mformat, s\u001b[38;5;241m.\u001b[39m\u001b[38;5;18m__class__\u001b[39m\u001b[38;5;241m.\u001b[39m\u001b[38;5;18m__name__\u001b[39m))\n",
      "\u001b[1;31mTypeError\u001b[0m: expected bytes-like object, not str"
     ]
    }
   ],
   "source": [
    "import io\n",
    "from PIL import Image\n",
    "\n",
    "# Assuming base64_str is the string value without 'data:image/jpeg;base64,'\n",
    "img = Image.open(io.BytesIO(base64.decodebytes(t)))"
   ]
  },
  {
   "cell_type": "code",
   "execution_count": 110,
   "id": "913d4b6d",
   "metadata": {},
   "outputs": [
    {
     "data": {
      "text/plain": [
       "'data:image/png;base64,iVBORw0KGgoAAAANSUhEUgAAADUAAAA1AQAAAADJnZ7dAAABaklEQVR42mP4DwY/GHDRHwSF//A7VDB8v7r79aP7FQxfAvIO2l0E0lENjs8CgXRkOZMBkP5+LbfAGSj/QTQ0NBSo/v+38rJTQP1/Av4zSfEA5Tew5/lXAfmHp+rK6f9g+KF1+p0t1w+Gf13Rzx+W/mD4bq7ftGU50L6jt8qcL1Qw/MyVeeH1s4Lh8ywjJbk8oD31OR6n6ysYvsbM/C6X8YPh07fi6Vs5gfYwsLJksgPNKZUvNikB6g/fGRodADSvwKO4G2juF+bXjPcYfzB8NlmV4HUKqC9ec9X/+T8Yvm7+ZxwNdM/3jjXnW5/+YPhYamwubgtU38bB9TSjguGbuZnf661Ae/t3S9txVDD8sPt+jusCMFw8nGXnNQLdX7b43t+CHwzfHIxYE4H2//+eXhZSBPS/jFHg4zCguXdrSzYD5b8ETWN/D5T/EibFki0FpAMmbO7rB8rfeN+9dzfQvZI/Khx6cIc/lAYAvTnr9dBTDAAAAAAASUVORK5CYII='"
      ]
     },
     "execution_count": 110,
     "metadata": {},
     "output_type": "execute_result"
    }
   ],
   "source": [
    "t"
   ]
  },
  {
   "cell_type": "code",
   "execution_count": 122,
   "id": "e5a4b616",
   "metadata": {},
   "outputs": [
    {
     "ename": "TypeError",
     "evalue": "string argument without an encoding",
     "output_type": "error",
     "traceback": [
      "\u001b[1;31m---------------------------------------------------------------------------\u001b[0m",
      "\u001b[1;31mTypeError\u001b[0m                                 Traceback (most recent call last)",
      "Input \u001b[1;32mIn [122]\u001b[0m, in \u001b[0;36m<cell line: 1>\u001b[1;34m()\u001b[0m\n\u001b[1;32m----> 1\u001b[0m x \u001b[38;5;241m=\u001b[39m io\u001b[38;5;241m.\u001b[39mBytesIO(\u001b[38;5;28;43mbytes\u001b[39;49m\u001b[43m(\u001b[49m\u001b[43mt\u001b[49m\u001b[43m)\u001b[49m)\n",
      "\u001b[1;31mTypeError\u001b[0m: string argument without an encoding"
     ]
    }
   ],
   "source": [
    "x = io.BytesIO(bytes(t))"
   ]
  },
  {
   "cell_type": "code",
   "execution_count": 127,
   "id": "7d6b68e7",
   "metadata": {},
   "outputs": [
    {
     "ename": "OSError",
     "evalue": "[Errno 22] Invalid argument: b'data:image/png;base64,iVBORw0KGgoAAAANSUhEUgAAADUAAAA1AQAAAADJnZ7dAAABaklEQVR42mP4DwY/GHDRHwSF//A7VDB8v7r79aP7FQxfAvIO2l0E0lENjs8CgXRkOZMBkP5+LbfAGSj/QTQ0NBSo/v+38rJTQP1/Av4zSfEA5Tew5/lXAfmHp+rK6f9g+KF1+p0t1w+Gf13Rzx+W/mD4bq7ftGU50L6jt8qcL1Qw/MyVeeH1s4Lh8ywjJbk8oD31OR6n6ysYvsbM/C6X8YPh07fi6Vs5gfYwsLJksgPNKZUvNikB6g/fGRodADSvwKO4G2juF+bXjPcYfzB8NlmV4HUKqC9ec9X/+T8Yvm7+ZxwNdM/3jjXnW5/+YPhYamwubgtU38bB9TSjguGbuZnf661Ae/t3S9txVDD8sPt+jusCMFw8nGXnNQLdX7b43t+CHwzfHIxYE4H2//+eXhZSBPS/jFHg4zCguXdrSzYD5b8ETWN/D5T/EibFki0FpAMmbO7rB8rfeN+9dzfQvZI/Khx6cIc/lAYAvTnr9dBTDAAAAAAASUVORK5CYII='",
     "output_type": "error",
     "traceback": [
      "\u001b[1;31m---------------------------------------------------------------------------\u001b[0m",
      "\u001b[1;31mOSError\u001b[0m                                   Traceback (most recent call last)",
      "Input \u001b[1;32mIn [127]\u001b[0m, in \u001b[0;36m<cell line: 1>\u001b[1;34m()\u001b[0m\n\u001b[1;32m----> 1\u001b[0m \u001b[43mImage\u001b[49m\u001b[38;5;241;43m.\u001b[39;49m\u001b[43mopen\u001b[49m\u001b[43m(\u001b[49m\u001b[38;5;28;43mbytes\u001b[39;49m\u001b[43m(\u001b[49m\u001b[43mt\u001b[49m\u001b[43m,\u001b[49m\u001b[43m \u001b[49m\u001b[43mencoding\u001b[49m\u001b[43m \u001b[49m\u001b[38;5;241;43m=\u001b[39;49m\u001b[43m \u001b[49m\u001b[38;5;124;43m'\u001b[39;49m\u001b[38;5;124;43mansi\u001b[39;49m\u001b[38;5;124;43m'\u001b[39;49m\u001b[43m)\u001b[49m\u001b[43m)\u001b[49m\n",
      "File \u001b[1;32m~\\anaconda3\\lib\\site-packages\\PIL\\Image.py:2953\u001b[0m, in \u001b[0;36mopen\u001b[1;34m(fp, mode, formats)\u001b[0m\n\u001b[0;32m   2950\u001b[0m     filename \u001b[38;5;241m=\u001b[39m fp\n\u001b[0;32m   2952\u001b[0m \u001b[38;5;28;01mif\u001b[39;00m filename:\n\u001b[1;32m-> 2953\u001b[0m     fp \u001b[38;5;241m=\u001b[39m \u001b[43mbuiltins\u001b[49m\u001b[38;5;241;43m.\u001b[39;49m\u001b[43mopen\u001b[49m\u001b[43m(\u001b[49m\u001b[43mfilename\u001b[49m\u001b[43m,\u001b[49m\u001b[43m \u001b[49m\u001b[38;5;124;43m\"\u001b[39;49m\u001b[38;5;124;43mrb\u001b[39;49m\u001b[38;5;124;43m\"\u001b[39;49m\u001b[43m)\u001b[49m\n\u001b[0;32m   2954\u001b[0m     exclusive_fp \u001b[38;5;241m=\u001b[39m \u001b[38;5;28;01mTrue\u001b[39;00m\n\u001b[0;32m   2956\u001b[0m \u001b[38;5;28;01mtry\u001b[39;00m:\n",
      "\u001b[1;31mOSError\u001b[0m: [Errno 22] Invalid argument: b'data:image/png;base64,iVBORw0KGgoAAAANSUhEUgAAADUAAAA1AQAAAADJnZ7dAAABaklEQVR42mP4DwY/GHDRHwSF//A7VDB8v7r79aP7FQxfAvIO2l0E0lENjs8CgXRkOZMBkP5+LbfAGSj/QTQ0NBSo/v+38rJTQP1/Av4zSfEA5Tew5/lXAfmHp+rK6f9g+KF1+p0t1w+Gf13Rzx+W/mD4bq7ftGU50L6jt8qcL1Qw/MyVeeH1s4Lh8ywjJbk8oD31OR6n6ysYvsbM/C6X8YPh07fi6Vs5gfYwsLJksgPNKZUvNikB6g/fGRodADSvwKO4G2juF+bXjPcYfzB8NlmV4HUKqC9ec9X/+T8Yvm7+ZxwNdM/3jjXnW5/+YPhYamwubgtU38bB9TSjguGbuZnf661Ae/t3S9txVDD8sPt+jusCMFw8nGXnNQLdX7b43t+CHwzfHIxYE4H2//+eXhZSBPS/jFHg4zCguXdrSzYD5b8ETWN/D5T/EibFki0FpAMmbO7rB8rfeN+9dzfQvZI/Khx6cIc/lAYAvTnr9dBTDAAAAAAASUVORK5CYII='"
     ]
    }
   ],
   "source": [
    "Image.open(bytes(t, encoding = 'ansi'))"
   ]
  },
  {
   "cell_type": "code",
   "execution_count": 128,
   "id": "4b96c902",
   "metadata": {},
   "outputs": [
    {
     "ename": "SyntaxError",
     "evalue": "invalid syntax (2387089860.py, line 1)",
     "output_type": "error",
     "traceback": [
      "\u001b[1;36m  Input \u001b[1;32mIn [128]\u001b[1;36m\u001b[0m\n\u001b[1;33m    <img src\"'data:image/png;base64,iVBORw0KGgoAAAANSUhEUgAAADUAAAA1AQAAAADJnZ7dAAABaklEQVR42mP4DwY/GHDRHwSF//A7VDB8v7r79aP7FQxfAvIO2l0E0lENjs8CgXRkOZMBkP5+LbfAGSj/QTQ0NBSo/v+38rJTQP1/Av4zSfEA5Tew5/lXAfmHp+rK6f9g+KF1+p0t1w+Gf13Rzx+W/mD4bq7ftGU50L6jt8qcL1Qw/MyVeeH1s4Lh8ywjJbk8oD31OR6n6ysYvsbM/C6X8YPh07fi6Vs5gfYwsLJksgPNKZUvNikB6g/fGRodADSvwKO4G2juF+bXjPcYfzB8NlmV4HUKqC9ec9X/+T8Yvm7+ZxwNdM/3jjXnW5/+YPhYamwubgtU38bB9TSjguGbuZnf661Ae/t3S9txVDD8sPt+jusCMFw8nGXnNQLdX7b43t+CHwzfHIxYE4H2//+eXhZSBPS/jFHg4zCguXdrSzYD5b8ETWN/D5T/EibFki0FpAMmbO7rB8rfeN+9dzfQvZI/Khx6cIc/lAYAvTnr9dBTDAAAAAAASUVORK5CYII='\">\u001b[0m\n\u001b[1;37m    ^\u001b[0m\n\u001b[1;31mSyntaxError\u001b[0m\u001b[1;31m:\u001b[0m invalid syntax\n"
     ]
    }
   ],
   "source": [
    "<img src\"'data:image/png;base64,iVBORw0KGgoAAAANSUhEUgAAADUAAAA1AQAAAADJnZ7dAAABaklEQVR42mP4DwY/GHDRHwSF//A7VDB8v7r79aP7FQxfAvIO2l0E0lENjs8CgXRkOZMBkP5+LbfAGSj/QTQ0NBSo/v+38rJTQP1/Av4zSfEA5Tew5/lXAfmHp+rK6f9g+KF1+p0t1w+Gf13Rzx+W/mD4bq7ftGU50L6jt8qcL1Qw/MyVeeH1s4Lh8ywjJbk8oD31OR6n6ysYvsbM/C6X8YPh07fi6Vs5gfYwsLJksgPNKZUvNikB6g/fGRodADSvwKO4G2juF+bXjPcYfzB8NlmV4HUKqC9ec9X/+T8Yvm7+ZxwNdM/3jjXnW5/+YPhYamwubgtU38bB9TSjguGbuZnf661Ae/t3S9txVDD8sPt+jusCMFw8nGXnNQLdX7b43t+CHwzfHIxYE4H2//+eXhZSBPS/jFHg4zCguXdrSzYD5b8ETWN/D5T/EibFki0FpAMmbO7rB8rfeN+9dzfQvZI/Khx6cIc/lAYAvTnr9dBTDAAAAAAASUVORK5CYII='\">"
   ]
  },
  {
   "cell_type": "code",
   "execution_count": null,
   "id": "dc530c5c",
   "metadata": {},
   "outputs": [],
   "source": []
  },
  {
   "cell_type": "markdown",
   "id": "7f56dae4",
   "metadata": {},
   "source": [
    "<img src=\"iVBORw0KGgoAAAANSUhEUgAAADUAAAA1AQAAAADJnZ7dAAABaklEQVR42mP4DwY/GHDRHwSF//A7VDB8v7r79aP7FQxfAvIO2l0E0lENjs8CgXRkOZMBkP5+LbfAGSj/QTQ0NBSo/v+38rJTQP1/Av4zSfEA5Tew5/lXAfmHp+rK6f9g+KF1+p0t1w+Gf13Rzx+W/mD4bq7ftGU50L6jt8qcL1Qw/MyVeeH1s4Lh8ywjJbk8oD31OR6n6ysYvsbM/C6X8YPh07fi6Vs5gfYwsLJksgPNKZUvNikB6g/fGRodADSvwKO4G2juF+bXjPcYfzB8NlmV4HUKqC9ec9X/+T8Yvm7+ZxwNdM/3jjXnW5/+YPhYamwubgtU38bB9TSjguGbuZnf661Ae/t3S9txVDD8sPt+jusCMFw8nGXnNQLdX7b43t+CHwzfHIxYE4H2//+eXhZSBPS/jFHg4zCguXdrSzYD5b8ETWN/D5T/EibFki0FpAMmbO7rB8rfeN+9dzfQvZI/Khx6cIc/lAYAvTnr9dBTDAAAAAAASUVORK5CYII=\">"
   ]
  },
  {
   "cell_type": "code",
   "execution_count": null,
   "id": "1c9f9d5a",
   "metadata": {},
   "outputs": [],
   "source": []
  },
  {
   "cell_type": "code",
   "execution_count": 129,
   "id": "54d9e725",
   "metadata": {},
   "outputs": [],
   "source": [
    "import base64\n",
    "\n",
    "base64_img = 'iVBORw0KGgoAAAANSUhEUgAAABAAAAAQCAYAAAAf8/9hAAAACXBIWXMAAAsTAAA' \\\n",
    "            'LEwEAmpwYAAAB1klEQVQ4jY2TTUhUURTHf+fy/HrjhNEX2KRGiyIXg8xgSURuokX' \\\n",
    "            'LxFW0qDTaSQupkHirthK0qF0WQQQR0UCbwCQyw8KCiDbShEYLJQdmpsk3895p4aS' \\\n",
    "            'v92ass7pcfv/zP+fcc4U6kXKe2pTY3tjSUHjtnFgB0VqchC/SY8/293S23f+6VEj' \\\n",
    "            '9KKwCoPDNIJdmr598GOZNJKNWTic7tqb27WwNuuwGvVWrAit84fsmMzE1P1+1TiK' \\\n",
    "            'MVKvYUjdBvzPZXCwXzyhyWNBgVYkgrIow09VJMznpyebWE+Tdn9cEroBSc1JVPS+' \\\n",
    "            '6moh5Xyjj65vEgBxafGzWetTh+rr1eE/c/TMYg8hlAOvI6JP4KmwLgJ4qD0TIbli' \\\n",
    "            'TB+sunjkbeLekKsZ6Zc8V027aBRoBRHVoduDiSypmGFG7CrcBEyDHA0ZNfNphC0D' \\\n",
    "            '6amYa6ANw3YbWD4Pn3oIc+EdL36V3od0A+MaMAXmA8x2Zyn+IQeQeBDfRcUw3B+2' \\\n",
    "            'PxwZ/EdtTDpCPQLMh9TKx0k3pXipEVlknsf5KoNzGyOe1sz8nvYtTQT6yyvTjIax' \\\n",
    "            'smHGB9pFx4n3jIEfDePQvCIrnn0J4B/gA5J4XcRfu4JZuRAw3C51OtOjM3l2bMb8' \\\n",
    "            'Br5eXCsT/w/EAAAAASUVORK5CYII='\n",
    "\n",
    "base64_img_bytes = base64_img.encode('utf-8')\n",
    "with open('decoded_image.png', 'wb') as file_to_save:\n",
    "    decoded_image_data = base64.decodebytes(base64_img_bytes)\n",
    "    file_to_save.write(decoded_image_data)"
   ]
  },
  {
   "cell_type": "code",
   "execution_count": 143,
   "id": "4324d21c",
   "metadata": {},
   "outputs": [
    {
     "data": {
      "text/plain": [
       "b'iVBORw0KGgoAAAANSUhEUgAAABAAAAAQCAYAAAAf8/9hAAAACXBIWXMAAAsTAAALEwEAmpwYAAAB1klEQVQ4jY2TTUhUURTHf+fy/HrjhNEX2KRGiyIXg8xgSURuokXLxFW0qDTaSQupkHirthK0qF0WQQQR0UCbwCQyw8KCiDbShEYLJQdmpsk3895p4aSv92ass7pcfv/zP+fcc4U6kXKe2pTY3tjSUHjtnFgB0VqchC/SY8/293S23f+6VEj9KKwCoPDNIJdmr598GOZNJKNWTic7tqb27WwNuuwGvVWrAit84fsmMzE1P1+1TiKMVKvYUjdBvzPZXCwXzyhyWNBgVYkgrIow09VJMznpyebWE+Tdn9cEroBSc1JVPS+6moh5Xyjj65vEgBxafGzWetTh+rr1eE/c/TMYg8hlAOvI6JP4KmwLgJ4qD0TIbliTB+sunjkbeLekKsZ6Zc8V027aBRoBRHVoduDiSypmGFG7CrcBEyDHA0ZNfNphC0D6amYa6ANw3YbWD4Pn3oIc+EdL36V3od0A+MaMAXmA8x2Zyn+IQeQeBDfRcUw3B+2PxwZ/EdtTDpCPQLMh9TKx0k3pXipEVlknsf5KoNzGyOe1sz8nvYtTQT6yyvTjIaxsmHGB9pFx4n3jIEfDePQvCIrnn0J4B/gA5J4XcRfu4JZuRAw3C51OtOjM3l2bMb8Br5eXCsT/w/EAAAAASUVORK5CYII='"
      ]
     },
     "execution_count": 143,
     "metadata": {},
     "output_type": "execute_result"
    }
   ],
   "source": [
    "base64_img_bytes"
   ]
  },
  {
   "cell_type": "code",
   "execution_count": 141,
   "id": "433555a7",
   "metadata": {},
   "outputs": [
    {
     "ename": "FileNotFoundError",
     "evalue": "[Errno 2] No such file or directory: b'iVBORw0KGgoAAAANSUhEUgAAABAAAAAQCAYAAAAf8/9hAAAACXBIWXMAAAsTAAALEwEAmpwYAAAB1klEQVQ4jY2TTUhUURTHf+fy/HrjhNEX2KRGiyIXg8xgSURuokXLxFW0qDTaSQupkHirthK0qF0WQQQR0UCbwCQyw8KCiDbShEYLJQdmpsk3895p4aSv92ass7pcfv/zP+fcc4U6kXKe2pTY3tjSUHjtnFgB0VqchC/SY8/293S23f+6VEj9KKwCoPDNIJdmr598GOZNJKNWTic7tqb27WwNuuwGvVWrAit84fsmMzE1P1+1TiKMVKvYUjdBvzPZXCwXzyhyWNBgVYkgrIow09VJMznpyebWE+Tdn9cEroBSc1JVPS+6moh5Xyjj65vEgBxafGzWetTh+rr1eE/c/TMYg8hlAOvI6JP4KmwLgJ4qD0TIbliTB+sunjkbeLekKsZ6Zc8V027aBRoBRHVoduDiSypmGFG7CrcBEyDHA0ZNfNphC0D6amYa6ANw3YbWD4Pn3oIc+EdL36V3od0A+MaMAXmA8x2Zyn+IQeQeBDfRcUw3B+2PxwZ/EdtTDpCPQLMh9TKx0k3pXipEVlknsf5KoNzGyOe1sz8nvYtTQT6yyvTjIaxsmHGB9pFx4n3jIEfDePQvCIrnn0J4B/gA5J4XcRfu4JZuRAw3C51OtOjM3l2bMb8Br5eXCsT/w/EAAAAASUVORK5CYII='",
     "output_type": "error",
     "traceback": [
      "\u001b[1;31m---------------------------------------------------------------------------\u001b[0m",
      "\u001b[1;31mFileNotFoundError\u001b[0m                         Traceback (most recent call last)",
      "Input \u001b[1;32mIn [141]\u001b[0m, in \u001b[0;36m<cell line: 1>\u001b[1;34m()\u001b[0m\n\u001b[1;32m----> 1\u001b[0m \u001b[43mImage\u001b[49m\u001b[38;5;241;43m.\u001b[39;49m\u001b[43mopen\u001b[49m\u001b[43m(\u001b[49m\u001b[38;5;28;43mbytes\u001b[39;49m\u001b[43m(\u001b[49m\u001b[43mbase64_img\u001b[49m\u001b[43m,\u001b[49m\u001b[43m \u001b[49m\u001b[43mencoding\u001b[49m\u001b[43m \u001b[49m\u001b[38;5;241;43m=\u001b[39;49m\u001b[43m \u001b[49m\u001b[38;5;124;43m'\u001b[39;49m\u001b[38;5;124;43mutf-8\u001b[39;49m\u001b[38;5;124;43m'\u001b[39;49m\u001b[43m \u001b[49m\u001b[43m)\u001b[49m\u001b[43m)\u001b[49m\n",
      "File \u001b[1;32m~\\anaconda3\\lib\\site-packages\\PIL\\Image.py:2953\u001b[0m, in \u001b[0;36mopen\u001b[1;34m(fp, mode, formats)\u001b[0m\n\u001b[0;32m   2950\u001b[0m     filename \u001b[38;5;241m=\u001b[39m fp\n\u001b[0;32m   2952\u001b[0m \u001b[38;5;28;01mif\u001b[39;00m filename:\n\u001b[1;32m-> 2953\u001b[0m     fp \u001b[38;5;241m=\u001b[39m \u001b[43mbuiltins\u001b[49m\u001b[38;5;241;43m.\u001b[39;49m\u001b[43mopen\u001b[49m\u001b[43m(\u001b[49m\u001b[43mfilename\u001b[49m\u001b[43m,\u001b[49m\u001b[43m \u001b[49m\u001b[38;5;124;43m\"\u001b[39;49m\u001b[38;5;124;43mrb\u001b[39;49m\u001b[38;5;124;43m\"\u001b[39;49m\u001b[43m)\u001b[49m\n\u001b[0;32m   2954\u001b[0m     exclusive_fp \u001b[38;5;241m=\u001b[39m \u001b[38;5;28;01mTrue\u001b[39;00m\n\u001b[0;32m   2956\u001b[0m \u001b[38;5;28;01mtry\u001b[39;00m:\n",
      "\u001b[1;31mFileNotFoundError\u001b[0m: [Errno 2] No such file or directory: b'iVBORw0KGgoAAAANSUhEUgAAABAAAAAQCAYAAAAf8/9hAAAACXBIWXMAAAsTAAALEwEAmpwYAAAB1klEQVQ4jY2TTUhUURTHf+fy/HrjhNEX2KRGiyIXg8xgSURuokXLxFW0qDTaSQupkHirthK0qF0WQQQR0UCbwCQyw8KCiDbShEYLJQdmpsk3895p4aSv92ass7pcfv/zP+fcc4U6kXKe2pTY3tjSUHjtnFgB0VqchC/SY8/293S23f+6VEj9KKwCoPDNIJdmr598GOZNJKNWTic7tqb27WwNuuwGvVWrAit84fsmMzE1P1+1TiKMVKvYUjdBvzPZXCwXzyhyWNBgVYkgrIow09VJMznpyebWE+Tdn9cEroBSc1JVPS+6moh5Xyjj65vEgBxafGzWetTh+rr1eE/c/TMYg8hlAOvI6JP4KmwLgJ4qD0TIbliTB+sunjkbeLekKsZ6Zc8V027aBRoBRHVoduDiSypmGFG7CrcBEyDHA0ZNfNphC0D6amYa6ANw3YbWD4Pn3oIc+EdL36V3od0A+MaMAXmA8x2Zyn+IQeQeBDfRcUw3B+2PxwZ/EdtTDpCPQLMh9TKx0k3pXipEVlknsf5KoNzGyOe1sz8nvYtTQT6yyvTjIaxsmHGB9pFx4n3jIEfDePQvCIrnn0J4B/gA5J4XcRfu4JZuRAw3C51OtOjM3l2bMb8Br5eXCsT/w/EAAAAASUVORK5CYII='"
     ]
    }
   ],
   "source": [
    "Image.open(bytes(base64_img, encoding = 'utf-8' ))"
   ]
  },
  {
   "cell_type": "code",
   "execution_count": null,
   "id": "b7792de2",
   "metadata": {},
   "outputs": [],
   "source": []
  },
  {
   "cell_type": "code",
   "execution_count": null,
   "id": "d60334a4",
   "metadata": {},
   "outputs": [],
   "source": []
  },
  {
   "cell_type": "code",
   "execution_count": null,
   "id": "517dd854",
   "metadata": {},
   "outputs": [],
   "source": []
  },
  {
   "cell_type": "code",
   "execution_count": null,
   "id": "b12af3b7",
   "metadata": {},
   "outputs": [],
   "source": []
  },
  {
   "cell_type": "code",
   "execution_count": null,
   "id": "3c7dbcaa",
   "metadata": {},
   "outputs": [],
   "source": []
  },
  {
   "cell_type": "code",
   "execution_count": null,
   "id": "28c81f03",
   "metadata": {},
   "outputs": [],
   "source": []
  },
  {
   "cell_type": "code",
   "execution_count": null,
   "id": "48609787",
   "metadata": {},
   "outputs": [],
   "source": []
  },
  {
   "cell_type": "code",
   "execution_count": null,
   "id": "377f580f",
   "metadata": {},
   "outputs": [],
   "source": []
  },
  {
   "cell_type": "code",
   "execution_count": null,
   "id": "7a976d3a",
   "metadata": {},
   "outputs": [],
   "source": []
  }
 ],
 "metadata": {
  "kernelspec": {
   "display_name": "Python 3 (ipykernel)",
   "language": "python",
   "name": "python3"
  },
  "language_info": {
   "codemirror_mode": {
    "name": "ipython",
    "version": 3
   },
   "file_extension": ".py",
   "mimetype": "text/x-python",
   "name": "python",
   "nbconvert_exporter": "python",
   "pygments_lexer": "ipython3",
   "version": "3.9.7"
  }
 },
 "nbformat": 4,
 "nbformat_minor": 5
}
