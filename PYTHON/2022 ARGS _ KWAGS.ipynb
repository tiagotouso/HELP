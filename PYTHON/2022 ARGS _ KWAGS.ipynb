{
 "cells": [
  {
   "cell_type": "markdown",
   "id": "46dae24c",
   "metadata": {},
   "source": [
    "# ARGS & KWAGS"
   ]
  },
  {
   "cell_type": "markdown",
   "id": "c89f6ea0",
   "metadata": {},
   "source": [
    "# ARGS"
   ]
  },
  {
   "cell_type": "code",
   "execution_count": 1,
   "id": "9787da47",
   "metadata": {},
   "outputs": [],
   "source": [
    "def print_lista(*args):\n",
    "    print(args)"
   ]
  },
  {
   "cell_type": "code",
   "execution_count": 2,
   "id": "68971ed6",
   "metadata": {},
   "outputs": [
    {
     "name": "stdout",
     "output_type": "stream",
     "text": [
      "(1,)\n"
     ]
    }
   ],
   "source": [
    "print_lista(1)"
   ]
  },
  {
   "cell_type": "code",
   "execution_count": 3,
   "id": "34016cc4",
   "metadata": {},
   "outputs": [
    {
     "name": "stdout",
     "output_type": "stream",
     "text": [
      "(1, 2)\n"
     ]
    }
   ],
   "source": [
    "print_lista(1, 2)"
   ]
  },
  {
   "cell_type": "code",
   "execution_count": 4,
   "id": "e2d981c0",
   "metadata": {},
   "outputs": [
    {
     "name": "stdout",
     "output_type": "stream",
     "text": [
      "(1, 2, 3)\n"
     ]
    }
   ],
   "source": [
    "print_lista(1, 2, 3)"
   ]
  },
  {
   "cell_type": "code",
   "execution_count": 5,
   "id": "d07c27d2",
   "metadata": {},
   "outputs": [
    {
     "name": "stdout",
     "output_type": "stream",
     "text": [
      "(1, 2, 3, 'tiago')\n"
     ]
    }
   ],
   "source": [
    "print_lista(1, 2, 3, 'tiago')"
   ]
  },
  {
   "cell_type": "code",
   "execution_count": 6,
   "id": "f9a9bd59",
   "metadata": {},
   "outputs": [],
   "source": [
    "def print_listaii(*args):\n",
    "    for valores in args:\n",
    "        print(valores)"
   ]
  },
  {
   "cell_type": "code",
   "execution_count": 7,
   "id": "7c60d991",
   "metadata": {},
   "outputs": [
    {
     "name": "stdout",
     "output_type": "stream",
     "text": [
      "1\n"
     ]
    }
   ],
   "source": [
    "print_listaii(1)"
   ]
  },
  {
   "cell_type": "code",
   "execution_count": 8,
   "id": "1aed24d9",
   "metadata": {},
   "outputs": [
    {
     "name": "stdout",
     "output_type": "stream",
     "text": [
      "1\n",
      "2\n",
      "3\n"
     ]
    }
   ],
   "source": [
    "print_listaii(1, 2, 3)"
   ]
  },
  {
   "cell_type": "markdown",
   "id": "82012bfb",
   "metadata": {},
   "source": [
    "# KWAGS"
   ]
  },
  {
   "cell_type": "code",
   "execution_count": 9,
   "id": "95ae49df",
   "metadata": {},
   "outputs": [],
   "source": [
    "def printii(**kwags):\n",
    "    print(kwags)"
   ]
  },
  {
   "cell_type": "code",
   "execution_count": 10,
   "id": "6a9734ee",
   "metadata": {},
   "outputs": [
    {
     "name": "stdout",
     "output_type": "stream",
     "text": [
      "{'nome': 'tiago'}\n"
     ]
    }
   ],
   "source": [
    "printii(nome = 'tiago')"
   ]
  },
  {
   "cell_type": "code",
   "execution_count": 11,
   "id": "f6127ff1",
   "metadata": {},
   "outputs": [
    {
     "name": "stdout",
     "output_type": "stream",
     "text": [
      "{'nome': 'tiago', 'idade': 42}\n"
     ]
    }
   ],
   "source": [
    "printii(nome = 'tiago', idade = 42 )"
   ]
  },
  {
   "cell_type": "code",
   "execution_count": 12,
   "id": "605f9fbf",
   "metadata": {},
   "outputs": [],
   "source": [
    "def valor_chave(**kwags):\n",
    "    \n",
    "    if kwags.get('key'):\n",
    "        print(kwags)"
   ]
  },
  {
   "cell_type": "code",
   "execution_count": 13,
   "id": "f2a73bfb",
   "metadata": {},
   "outputs": [
    {
     "name": "stdout",
     "output_type": "stream",
     "text": [
      "{'nome': 'tiago', 'idade': 42, 'key': 10}\n"
     ]
    }
   ],
   "source": [
    "valor_chave(nome = 'tiago', idade = 42, key = 10)"
   ]
  },
  {
   "cell_type": "code",
   "execution_count": 14,
   "id": "d36ba196",
   "metadata": {},
   "outputs": [],
   "source": [
    "def operacoes(*lista, **funcoes):\n",
    "    \n",
    "    resultado = {}\n",
    "    if funcoes.get('tipo'):\n",
    "        if funcoes['tipo'] == 'soma':\n",
    "            resultado['soma'] =  sum(lista)\n",
    "        elif funcoes['tipo'] == 'média':\n",
    "            resultado['média'] =  sum(lista) / len(lista)\n",
    "        \n",
    "    if funcoes.get('elemento'):\n",
    "        if funcoes['elemento'] == 'max':\n",
    "            resultado['max'] = max(lista)\n",
    "        elif funcoes['elemento'] == 'min':\n",
    "            resultado['min'] = min(lista)\n",
    "        \n",
    "    return resultado "
   ]
  },
  {
   "cell_type": "code",
   "execution_count": 15,
   "id": "5e19d8a2",
   "metadata": {},
   "outputs": [
    {
     "data": {
      "text/plain": [
       "{}"
      ]
     },
     "execution_count": 15,
     "metadata": {},
     "output_type": "execute_result"
    }
   ],
   "source": [
    "operacoes(1, 2, 3)"
   ]
  },
  {
   "cell_type": "code",
   "execution_count": 16,
   "id": "2386bd6c",
   "metadata": {},
   "outputs": [
    {
     "data": {
      "text/plain": [
       "{'soma': 6}"
      ]
     },
     "execution_count": 16,
     "metadata": {},
     "output_type": "execute_result"
    }
   ],
   "source": [
    "operacoes(1, 2, 3, tipo = 'soma')"
   ]
  },
  {
   "cell_type": "code",
   "execution_count": 17,
   "id": "cfc08e26",
   "metadata": {},
   "outputs": [
    {
     "data": {
      "text/plain": [
       "{'média': 2.0}"
      ]
     },
     "execution_count": 17,
     "metadata": {},
     "output_type": "execute_result"
    }
   ],
   "source": [
    "operacoes(1, 2, 3, tipo = 'média')"
   ]
  },
  {
   "cell_type": "code",
   "execution_count": 18,
   "id": "530f5d40",
   "metadata": {},
   "outputs": [
    {
     "data": {
      "text/plain": [
       "{'soma': 6, 'min': 1}"
      ]
     },
     "execution_count": 18,
     "metadata": {},
     "output_type": "execute_result"
    }
   ],
   "source": [
    "operacoes(1, 2, 3, tipo = 'soma', elemento = 'min')"
   ]
  },
  {
   "cell_type": "code",
   "execution_count": 19,
   "id": "1670855a",
   "metadata": {},
   "outputs": [
    {
     "data": {
      "text/plain": [
       "{'soma': 6, 'min': 1}"
      ]
     },
     "execution_count": 19,
     "metadata": {},
     "output_type": "execute_result"
    }
   ],
   "source": [
    "operacoes(1, 2, 3, tipo = 'soma', elemento = 'min')"
   ]
  },
  {
   "cell_type": "code",
   "execution_count": 20,
   "id": "c49e4c71",
   "metadata": {},
   "outputs": [
    {
     "data": {
      "text/plain": [
       "{'min': 1}"
      ]
     },
     "execution_count": 20,
     "metadata": {},
     "output_type": "execute_result"
    }
   ],
   "source": [
    "operacoes(1, 2, 3, elemento = 'min')"
   ]
  },
  {
   "cell_type": "code",
   "execution_count": 21,
   "id": "f4a53e73",
   "metadata": {},
   "outputs": [
    {
     "data": {
      "text/plain": [
       "{'max': 3}"
      ]
     },
     "execution_count": 21,
     "metadata": {},
     "output_type": "execute_result"
    }
   ],
   "source": [
    "operacoes(1, 2, 3, elemento = 'max')"
   ]
  }
 ],
 "metadata": {
  "kernelspec": {
   "display_name": "Python 3 (ipykernel)",
   "language": "python",
   "name": "python3"
  },
  "language_info": {
   "codemirror_mode": {
    "name": "ipython",
    "version": 3
   },
   "file_extension": ".py",
   "mimetype": "text/x-python",
   "name": "python",
   "nbconvert_exporter": "python",
   "pygments_lexer": "ipython3",
   "version": "3.9.12"
  }
 },
 "nbformat": 4,
 "nbformat_minor": 5
}
