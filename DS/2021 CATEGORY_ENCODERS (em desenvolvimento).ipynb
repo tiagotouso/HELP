{
 "cells": [
  {
   "cell_type": "code",
   "execution_count": 2,
   "metadata": {
    "colab": {
     "base_uri": "https://localhost:8080/"
    },
    "executionInfo": {
     "elapsed": 3847,
     "status": "ok",
     "timestamp": 1639056225630,
     "user": {
      "displayName": "Tiago Touso",
      "photoUrl": "https://lh3.googleusercontent.com/a-/AOh14GhUFDrBff9GnccW6ExvA80d8F7WCL2Yak8UIQOpFHc=s64",
      "userId": "13039814104467109855"
     },
     "user_tz": 180
    },
    "id": "rYwvGJxtXFFr",
    "outputId": "880a5fea-f278-495f-b823-14260ad58ab6"
   },
   "outputs": [
    {
     "name": "stdout",
     "output_type": "stream",
     "text": [
      "Collecting category_encoders\n",
      "  Downloading category_encoders-2.3.0-py2.py3-none-any.whl (82 kB)\n",
      "\u001b[?25l\r",
      "\u001b[K     |████                            | 10 kB 16.9 MB/s eta 0:00:01\r",
      "\u001b[K     |████████                        | 20 kB 20.6 MB/s eta 0:00:01\r",
      "\u001b[K     |████████████                    | 30 kB 25.1 MB/s eta 0:00:01\r",
      "\u001b[K     |████████████████                | 40 kB 20.4 MB/s eta 0:00:01\r",
      "\u001b[K     |████████████████████            | 51 kB 9.6 MB/s eta 0:00:01\r",
      "\u001b[K     |████████████████████████        | 61 kB 10.4 MB/s eta 0:00:01\r",
      "\u001b[K     |████████████████████████████    | 71 kB 8.5 MB/s eta 0:00:01\r",
      "\u001b[K     |███████████████████████████████▉| 81 kB 9.4 MB/s eta 0:00:01\r",
      "\u001b[K     |████████████████████████████████| 82 kB 444 kB/s \n",
      "\u001b[?25hRequirement already satisfied: statsmodels>=0.9.0 in /usr/local/lib/python3.7/dist-packages (from category_encoders) (0.10.2)\n",
      "Requirement already satisfied: numpy>=1.14.0 in /usr/local/lib/python3.7/dist-packages (from category_encoders) (1.19.5)\n",
      "Requirement already satisfied: patsy>=0.5.1 in /usr/local/lib/python3.7/dist-packages (from category_encoders) (0.5.2)\n",
      "Requirement already satisfied: scipy>=1.0.0 in /usr/local/lib/python3.7/dist-packages (from category_encoders) (1.4.1)\n",
      "Requirement already satisfied: scikit-learn>=0.20.0 in /usr/local/lib/python3.7/dist-packages (from category_encoders) (1.0.1)\n",
      "Requirement already satisfied: pandas>=0.21.1 in /usr/local/lib/python3.7/dist-packages (from category_encoders) (1.1.5)\n",
      "Requirement already satisfied: python-dateutil>=2.7.3 in /usr/local/lib/python3.7/dist-packages (from pandas>=0.21.1->category_encoders) (2.8.2)\n",
      "Requirement already satisfied: pytz>=2017.2 in /usr/local/lib/python3.7/dist-packages (from pandas>=0.21.1->category_encoders) (2018.9)\n",
      "Requirement already satisfied: six in /usr/local/lib/python3.7/dist-packages (from patsy>=0.5.1->category_encoders) (1.15.0)\n",
      "Requirement already satisfied: joblib>=0.11 in /usr/local/lib/python3.7/dist-packages (from scikit-learn>=0.20.0->category_encoders) (1.1.0)\n",
      "Requirement already satisfied: threadpoolctl>=2.0.0 in /usr/local/lib/python3.7/dist-packages (from scikit-learn>=0.20.0->category_encoders) (3.0.0)\n",
      "Installing collected packages: category-encoders\n",
      "Successfully installed category-encoders-2.3.0\n"
     ]
    }
   ],
   "source": [
    "!pip install category_encoders"
   ]
  },
  {
   "cell_type": "code",
   "execution_count": null,
   "metadata": {},
   "outputs": [],
   "source": [
    "# import libraries\n",
    "\n",
    "import category_encoders as ce\n",
    "import pandas as pd"
   ]
  },
  {
   "cell_type": "code",
   "execution_count": null,
   "metadata": {},
   "outputs": [],
   "source": [
    "# Versões dos módulos\n",
    "\n",
    "!python --version\n",
    "%reload_ext watermark\n",
    "%watermark --iversions"
   ]
  },
  {
   "cell_type": "code",
   "execution_count": null,
   "metadata": {},
   "outputs": [],
   "source": []
  },
  {
   "cell_type": "code",
   "execution_count": null,
   "metadata": {},
   "outputs": [],
   "source": []
  },
  {
   "cell_type": "code",
   "execution_count": null,
   "metadata": {},
   "outputs": [],
   "source": []
  },
  {
   "cell_type": "markdown",
   "metadata": {
    "id": "6HxhbbivXUi3"
   },
   "source": [
    "# CATEGORY_ENCODERS"
   ]
  },
  {
   "cell_type": "code",
   "execution_count": null,
   "metadata": {
    "id": "t4DNgNabXI75"
   },
   "outputs": [],
   "source": []
  },
  {
   "cell_type": "code",
   "execution_count": 3,
   "metadata": {
    "colab": {
     "base_uri": "https://localhost:8080/"
    },
    "executionInfo": {
     "elapsed": 1001,
     "status": "ok",
     "timestamp": 1639056270056,
     "user": {
      "displayName": "Tiago Touso",
      "photoUrl": "https://lh3.googleusercontent.com/a-/AOh14GhUFDrBff9GnccW6ExvA80d8F7WCL2Yak8UIQOpFHc=s64",
      "userId": "13039814104467109855"
     },
     "user_tz": 180
    },
    "id": "zIDvEJU4XI-n",
    "outputId": "5835f8e6-b4f8-4327-ecb1-8384286461dd"
   },
   "outputs": [
    {
     "name": "stderr",
     "output_type": "stream",
     "text": [
      "/usr/local/lib/python3.7/dist-packages/statsmodels/tools/_testing.py:19: FutureWarning: pandas.util.testing is deprecated. Use the functions in the public API at pandas.testing instead.\n",
      "  import pandas.util.testing as tm\n"
     ]
    }
   ],
   "source": [
    "\n",
    "\n",
    "# Make dataset\n",
    "train = pd.DataFrame({\n",
    "\t'color': [\"red\", \"blue\", \"blue\", \"green\", \"red\",\n",
    "\t\t\t\"red\", \"black\", \"black\", \"blue\", \"green\"],\n",
    "\t\n",
    "\t'interests': [\"sketching\", \"painting\", \"instruments\",\n",
    "\t\t\t\t\"sketching\", \"painting\", \"video games\",\n",
    "\t\t\t\t\"painting\", \"instruments\", \"sketching\",\n",
    "\t\t\t\t\"sketching\"],\n",
    "\t\n",
    "\t'height': [68, 64, 87, 45, 54, 64, 67, 98, 90, 87],\n",
    "\t\n",
    "\t'grade': [1, 2, 3, 2, 3, 1, 4, 4, 2, 3], })\n",
    "\n",
    "# Define train and target\n",
    "target = train[['grade']]\n",
    "train = train.drop('grade', axis = 1)\n",
    "\n",
    "# Define catboost encoder\n",
    "cbe_encoder = ce.cat_boost.CatBoostEncoder()\n",
    "\n",
    "# Fit encoder and transform the features\n",
    "cbe_encoder.fit(train, target)\n",
    "train_cbe = cbe_encoder.transform(train)\n",
    "\n",
    "# We can use fit_transform() instead of fit()\n",
    "# and transform() separately as follows:\n",
    "# train_cbe = cbe_encoder.fit_transform(train,target)\n"
   ]
  },
  {
   "cell_type": "code",
   "execution_count": null,
   "metadata": {
    "id": "ULHdnjdJXJBf"
   },
   "outputs": [],
   "source": []
  },
  {
   "cell_type": "code",
   "execution_count": 5,
   "metadata": {
    "colab": {
     "base_uri": "https://localhost:8080/",
     "height": 362
    },
    "executionInfo": {
     "elapsed": 266,
     "status": "ok",
     "timestamp": 1639056309368,
     "user": {
      "displayName": "Tiago Touso",
      "photoUrl": "https://lh3.googleusercontent.com/a-/AOh14GhUFDrBff9GnccW6ExvA80d8F7WCL2Yak8UIQOpFHc=s64",
      "userId": "13039814104467109855"
     },
     "user_tz": 180
    },
    "id": "wUmGT34mXmEZ",
    "outputId": "62cd60c5-c081-4b11-db37-f9eafc3f2099"
   },
   "outputs": [
    {
     "data": {
      "text/html": [
       "<div>\n",
       "<style scoped>\n",
       "    .dataframe tbody tr th:only-of-type {\n",
       "        vertical-align: middle;\n",
       "    }\n",
       "\n",
       "    .dataframe tbody tr th {\n",
       "        vertical-align: top;\n",
       "    }\n",
       "\n",
       "    .dataframe thead th {\n",
       "        text-align: right;\n",
       "    }\n",
       "</style>\n",
       "<table border=\"1\" class=\"dataframe\">\n",
       "  <thead>\n",
       "    <tr style=\"text-align: right;\">\n",
       "      <th></th>\n",
       "      <th>color</th>\n",
       "      <th>interests</th>\n",
       "      <th>height</th>\n",
       "    </tr>\n",
       "  </thead>\n",
       "  <tbody>\n",
       "    <tr>\n",
       "      <th>0</th>\n",
       "      <td>red</td>\n",
       "      <td>sketching</td>\n",
       "      <td>68</td>\n",
       "    </tr>\n",
       "    <tr>\n",
       "      <th>1</th>\n",
       "      <td>blue</td>\n",
       "      <td>painting</td>\n",
       "      <td>64</td>\n",
       "    </tr>\n",
       "    <tr>\n",
       "      <th>2</th>\n",
       "      <td>blue</td>\n",
       "      <td>instruments</td>\n",
       "      <td>87</td>\n",
       "    </tr>\n",
       "    <tr>\n",
       "      <th>3</th>\n",
       "      <td>green</td>\n",
       "      <td>sketching</td>\n",
       "      <td>45</td>\n",
       "    </tr>\n",
       "    <tr>\n",
       "      <th>4</th>\n",
       "      <td>red</td>\n",
       "      <td>painting</td>\n",
       "      <td>54</td>\n",
       "    </tr>\n",
       "    <tr>\n",
       "      <th>5</th>\n",
       "      <td>red</td>\n",
       "      <td>video games</td>\n",
       "      <td>64</td>\n",
       "    </tr>\n",
       "    <tr>\n",
       "      <th>6</th>\n",
       "      <td>black</td>\n",
       "      <td>painting</td>\n",
       "      <td>67</td>\n",
       "    </tr>\n",
       "    <tr>\n",
       "      <th>7</th>\n",
       "      <td>black</td>\n",
       "      <td>instruments</td>\n",
       "      <td>98</td>\n",
       "    </tr>\n",
       "    <tr>\n",
       "      <th>8</th>\n",
       "      <td>blue</td>\n",
       "      <td>sketching</td>\n",
       "      <td>90</td>\n",
       "    </tr>\n",
       "    <tr>\n",
       "      <th>9</th>\n",
       "      <td>green</td>\n",
       "      <td>sketching</td>\n",
       "      <td>87</td>\n",
       "    </tr>\n",
       "  </tbody>\n",
       "</table>\n",
       "</div>"
      ],
      "text/plain": [
       "   color    interests  height\n",
       "0    red    sketching      68\n",
       "1   blue     painting      64\n",
       "2   blue  instruments      87\n",
       "3  green    sketching      45\n",
       "4    red     painting      54\n",
       "5    red  video games      64\n",
       "6  black     painting      67\n",
       "7  black  instruments      98\n",
       "8   blue    sketching      90\n",
       "9  green    sketching      87"
      ]
     },
     "execution_count": 5,
     "metadata": {},
     "output_type": "execute_result"
    }
   ],
   "source": [
    "train"
   ]
  },
  {
   "cell_type": "code",
   "execution_count": 4,
   "metadata": {
    "colab": {
     "base_uri": "https://localhost:8080/",
     "height": 362
    },
    "executionInfo": {
     "elapsed": 435,
     "status": "ok",
     "timestamp": 1639056288118,
     "user": {
      "displayName": "Tiago Touso",
      "photoUrl": "https://lh3.googleusercontent.com/a-/AOh14GhUFDrBff9GnccW6ExvA80d8F7WCL2Yak8UIQOpFHc=s64",
      "userId": "13039814104467109855"
     },
     "user_tz": 180
    },
    "id": "CvNmewogXhgJ",
    "outputId": "0af252b8-0312-4d7b-8cc8-83e576fe1fd3"
   },
   "outputs": [
    {
     "data": {
      "text/html": [
       "<div>\n",
       "<style scoped>\n",
       "    .dataframe tbody tr th:only-of-type {\n",
       "        vertical-align: middle;\n",
       "    }\n",
       "\n",
       "    .dataframe tbody tr th {\n",
       "        vertical-align: top;\n",
       "    }\n",
       "\n",
       "    .dataframe thead th {\n",
       "        text-align: right;\n",
       "    }\n",
       "</style>\n",
       "<table border=\"1\" class=\"dataframe\">\n",
       "  <thead>\n",
       "    <tr style=\"text-align: right;\">\n",
       "      <th></th>\n",
       "      <th>color</th>\n",
       "      <th>interests</th>\n",
       "      <th>height</th>\n",
       "    </tr>\n",
       "  </thead>\n",
       "  <tbody>\n",
       "    <tr>\n",
       "      <th>0</th>\n",
       "      <td>1.875</td>\n",
       "      <td>2.100000</td>\n",
       "      <td>68</td>\n",
       "    </tr>\n",
       "    <tr>\n",
       "      <th>1</th>\n",
       "      <td>2.375</td>\n",
       "      <td>2.875000</td>\n",
       "      <td>64</td>\n",
       "    </tr>\n",
       "    <tr>\n",
       "      <th>2</th>\n",
       "      <td>2.375</td>\n",
       "      <td>3.166667</td>\n",
       "      <td>87</td>\n",
       "    </tr>\n",
       "    <tr>\n",
       "      <th>3</th>\n",
       "      <td>2.500</td>\n",
       "      <td>2.100000</td>\n",
       "      <td>45</td>\n",
       "    </tr>\n",
       "    <tr>\n",
       "      <th>4</th>\n",
       "      <td>1.875</td>\n",
       "      <td>2.875000</td>\n",
       "      <td>54</td>\n",
       "    </tr>\n",
       "    <tr>\n",
       "      <th>5</th>\n",
       "      <td>1.875</td>\n",
       "      <td>2.500000</td>\n",
       "      <td>64</td>\n",
       "    </tr>\n",
       "    <tr>\n",
       "      <th>6</th>\n",
       "      <td>3.500</td>\n",
       "      <td>2.875000</td>\n",
       "      <td>67</td>\n",
       "    </tr>\n",
       "    <tr>\n",
       "      <th>7</th>\n",
       "      <td>3.500</td>\n",
       "      <td>3.166667</td>\n",
       "      <td>98</td>\n",
       "    </tr>\n",
       "    <tr>\n",
       "      <th>8</th>\n",
       "      <td>2.375</td>\n",
       "      <td>2.100000</td>\n",
       "      <td>90</td>\n",
       "    </tr>\n",
       "    <tr>\n",
       "      <th>9</th>\n",
       "      <td>2.500</td>\n",
       "      <td>2.100000</td>\n",
       "      <td>87</td>\n",
       "    </tr>\n",
       "  </tbody>\n",
       "</table>\n",
       "</div>"
      ],
      "text/plain": [
       "   color  interests  height\n",
       "0  1.875   2.100000      68\n",
       "1  2.375   2.875000      64\n",
       "2  2.375   3.166667      87\n",
       "3  2.500   2.100000      45\n",
       "4  1.875   2.875000      54\n",
       "5  1.875   2.500000      64\n",
       "6  3.500   2.875000      67\n",
       "7  3.500   3.166667      98\n",
       "8  2.375   2.100000      90\n",
       "9  2.500   2.100000      87"
      ]
     },
     "execution_count": 4,
     "metadata": {},
     "output_type": "execute_result"
    }
   ],
   "source": [
    "train_cbe"
   ]
  },
  {
   "cell_type": "code",
   "execution_count": null,
   "metadata": {
    "id": "TiW93vO7Xhi5"
   },
   "outputs": [],
   "source": []
  },
  {
   "cell_type": "code",
   "execution_count": null,
   "metadata": {
    "id": "VMDhMmaPXhlz"
   },
   "outputs": [],
   "source": []
  }
 ],
 "metadata": {
  "colab": {
   "authorship_tag": "ABX9TyNL9r9iavQKknxoqMtuX44T",
   "name": "2021 CATEGORY_ENCODERS",
   "provenance": []
  },
  "kernelspec": {
   "display_name": "Python 3 (ipykernel)",
   "language": "python",
   "name": "python3"
  },
  "language_info": {
   "codemirror_mode": {
    "name": "ipython",
    "version": 3
   },
   "file_extension": ".py",
   "mimetype": "text/x-python",
   "name": "python",
   "nbconvert_exporter": "python",
   "pygments_lexer": "ipython3",
   "version": "3.9.7"
  }
 },
 "nbformat": 4,
 "nbformat_minor": 1
}
