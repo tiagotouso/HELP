{
 "cells": [
  {
   "cell_type": "markdown",
   "id": "4I7wSzJJGQwS",
   "metadata": {
    "id": "4I7wSzJJGQwS"
   },
   "source": [
    "# PREPROCESSING"
   ]
  },
  {
   "cell_type": "code",
   "execution_count": 1,
   "id": "kHRl4DlKGREb",
   "metadata": {
    "executionInfo": {
     "elapsed": 417,
     "status": "ok",
     "timestamp": 1638969978888,
     "user": {
      "displayName": "Tiago Touso",
      "photoUrl": "https://lh3.googleusercontent.com/a-/AOh14GhUFDrBff9GnccW6ExvA80d8F7WCL2Yak8UIQOpFHc=s64",
      "userId": "13039814104467109855"
     },
     "user_tz": 180
    },
    "id": "kHRl4DlKGREb"
   },
   "outputs": [],
   "source": [
    "# Importar os módulos\n",
    "\n",
    "import numpy as np\n",
    "import pandas as pd\n",
    "import random as rd"
   ]
  },
  {
   "cell_type": "code",
   "execution_count": 2,
   "id": "e278442e",
   "metadata": {},
   "outputs": [
    {
     "name": "stdout",
     "output_type": "stream",
     "text": [
      "Python 3.9.7\n",
      "numpy : 1.20.3\n",
      "pandas: 1.3.4\n",
      "\n"
     ]
    }
   ],
   "source": [
    "# Versões dos módulos\n",
    "\n",
    "!python --version\n",
    "%reload_ext watermark\n",
    "%watermark --iversions"
   ]
  },
  {
   "cell_type": "markdown",
   "id": "62c3dea6",
   "metadata": {
    "id": "62c3dea6"
   },
   "source": [
    "# DATASET EXEMPLO I"
   ]
  },
  {
   "cell_type": "code",
   "execution_count": 3,
   "id": "bc94b1ae",
   "metadata": {
    "colab": {
     "base_uri": "https://localhost:8080/",
     "height": 206
    },
    "executionInfo": {
     "elapsed": 6,
     "status": "ok",
     "timestamp": 1638969979268,
     "user": {
      "displayName": "Tiago Touso",
      "photoUrl": "https://lh3.googleusercontent.com/a-/AOh14GhUFDrBff9GnccW6ExvA80d8F7WCL2Yak8UIQOpFHc=s64",
      "userId": "13039814104467109855"
     },
     "user_tz": 180
    },
    "id": "bc94b1ae",
    "outputId": "3af74d66-4f51-478f-f648-7d71b37f66f9"
   },
   "outputs": [
    {
     "data": {
      "text/html": [
       "<div>\n",
       "<style scoped>\n",
       "    .dataframe tbody tr th:only-of-type {\n",
       "        vertical-align: middle;\n",
       "    }\n",
       "\n",
       "    .dataframe tbody tr th {\n",
       "        vertical-align: top;\n",
       "    }\n",
       "\n",
       "    .dataframe thead th {\n",
       "        text-align: right;\n",
       "    }\n",
       "</style>\n",
       "<table border=\"1\" class=\"dataframe\">\n",
       "  <thead>\n",
       "    <tr style=\"text-align: right;\">\n",
       "      <th></th>\n",
       "      <th>sexo</th>\n",
       "      <th>idade</th>\n",
       "      <th>classe</th>\n",
       "    </tr>\n",
       "  </thead>\n",
       "  <tbody>\n",
       "    <tr>\n",
       "      <th>9</th>\n",
       "      <td>M</td>\n",
       "      <td>66</td>\n",
       "      <td>B</td>\n",
       "    </tr>\n",
       "    <tr>\n",
       "      <th>17</th>\n",
       "      <td>F</td>\n",
       "      <td>50</td>\n",
       "      <td>A</td>\n",
       "    </tr>\n",
       "    <tr>\n",
       "      <th>4</th>\n",
       "      <td>M</td>\n",
       "      <td>35</td>\n",
       "      <td>A</td>\n",
       "    </tr>\n",
       "    <tr>\n",
       "      <th>19</th>\n",
       "      <td>F</td>\n",
       "      <td>40</td>\n",
       "      <td>B</td>\n",
       "    </tr>\n",
       "    <tr>\n",
       "      <th>8</th>\n",
       "      <td>F</td>\n",
       "      <td>40</td>\n",
       "      <td>A</td>\n",
       "    </tr>\n",
       "  </tbody>\n",
       "</table>\n",
       "</div>"
      ],
      "text/plain": [
       "   sexo  idade classe\n",
       "9     M     66      B\n",
       "17    F     50      A\n",
       "4     M     35      A\n",
       "19    F     40      B\n",
       "8     F     40      A"
      ]
     },
     "execution_count": 3,
     "metadata": {},
     "output_type": "execute_result"
    }
   ],
   "source": [
    "# Definir o tamanho e a semente\n",
    "tamanho = 20\n",
    "rd.seed = 42\n",
    "\n",
    "# Criar as variáveis aleatórias\n",
    "sx = [rd.sample(['F', 'M'], 1)[0] for _ in range(tamanho)]\n",
    "idade = [rd.sample(list(range(18, 75)), 1)[0] for _ in range(tamanho)]\n",
    "classe = [rd.sample(['A', 'B', 'C'], 1)[0] for _ in range(tamanho)]\n",
    "\n",
    "# Criar um dicionário\n",
    "dic = {'sexo': sx, 'idade': idade, 'classe': classe}\n",
    "\n",
    "# Criar o dataset\n",
    "dados = pd.DataFrame(dic)\n",
    "dados.sample(5)"
   ]
  },
  {
   "cell_type": "markdown",
   "id": "3958c414",
   "metadata": {
    "id": "3958c414"
   },
   "source": [
    "# * LABELENCODER"
   ]
  },
  {
   "cell_type": "code",
   "execution_count": 4,
   "id": "0a14a38b",
   "metadata": {
    "executionInfo": {
     "elapsed": 541,
     "status": "ok",
     "timestamp": 1638969979805,
     "user": {
      "displayName": "Tiago Touso",
      "photoUrl": "https://lh3.googleusercontent.com/a-/AOh14GhUFDrBff9GnccW6ExvA80d8F7WCL2Yak8UIQOpFHc=s64",
      "userId": "13039814104467109855"
     },
     "user_tz": 180
    },
    "id": "0a14a38b"
   },
   "outputs": [],
   "source": [
    "# Importar o módulo\n",
    "\n",
    "from sklearn.preprocessing import LabelEncoder"
   ]
  },
  {
   "cell_type": "code",
   "execution_count": 5,
   "id": "ac41e863",
   "metadata": {
    "colab": {
     "base_uri": "https://localhost:8080/"
    },
    "executionInfo": {
     "elapsed": 50,
     "status": "ok",
     "timestamp": 1638969979807,
     "user": {
      "displayName": "Tiago Touso",
      "photoUrl": "https://lh3.googleusercontent.com/a-/AOh14GhUFDrBff9GnccW6ExvA80d8F7WCL2Yak8UIQOpFHc=s64",
      "userId": "13039814104467109855"
     },
     "user_tz": 180
    },
    "id": "ac41e863",
    "outputId": "b3364964-b3cb-4e19-cf30-30eab566e79b"
   },
   "outputs": [
    {
     "name": "stderr",
     "output_type": "stream",
     "text": [
      "C:\\tools\\Anaconda3\\lib\\site-packages\\sklearn\\utils\\validation.py:63: DataConversionWarning: A column-vector y was passed when a 1d array was expected. Please change the shape of y to (n_samples, ), for example using ravel().\n",
      "  return f(*args, **kwargs)\n"
     ]
    },
    {
     "data": {
      "text/plain": [
       "LabelEncoder()"
      ]
     },
     "execution_count": 5,
     "metadata": {},
     "output_type": "execute_result"
    }
   ],
   "source": [
    "# Criar o objeto\n",
    "\n",
    "tf = LabelEncoder()\n",
    "# Treinando o processador\n",
    "tf.fit(dados[['classe']])"
   ]
  },
  {
   "cell_type": "code",
   "execution_count": 6,
   "id": "f8f435dc",
   "metadata": {
    "colab": {
     "base_uri": "https://localhost:8080/"
    },
    "executionInfo": {
     "elapsed": 49,
     "status": "ok",
     "timestamp": 1638969979808,
     "user": {
      "displayName": "Tiago Touso",
      "photoUrl": "https://lh3.googleusercontent.com/a-/AOh14GhUFDrBff9GnccW6ExvA80d8F7WCL2Yak8UIQOpFHc=s64",
      "userId": "13039814104467109855"
     },
     "user_tz": 180
    },
    "id": "f8f435dc",
    "outputId": "f4ebd4b7-80b1-4cd5-84d1-2a5de84a33f7"
   },
   "outputs": [
    {
     "data": {
      "text/plain": [
       "array([0, 1, 0, 0, 0, 0, 1, 1, 0, 1, 1, 2, 2, 0, 0, 1, 1, 0, 1, 1])"
      ]
     },
     "execution_count": 6,
     "metadata": {},
     "output_type": "execute_result"
    }
   ],
   "source": [
    "# Fazer a transformação\n",
    "\n",
    "resultado = tf.fit_transform(dados[['classe']])\n",
    "resultado"
   ]
  },
  {
   "cell_type": "code",
   "execution_count": 7,
   "id": "78b33881",
   "metadata": {
    "colab": {
     "base_uri": "https://localhost:8080/"
    },
    "executionInfo": {
     "elapsed": 47,
     "status": "ok",
     "timestamp": 1638969979809,
     "user": {
      "displayName": "Tiago Touso",
      "photoUrl": "https://lh3.googleusercontent.com/a-/AOh14GhUFDrBff9GnccW6ExvA80d8F7WCL2Yak8UIQOpFHc=s64",
      "userId": "13039814104467109855"
     },
     "user_tz": 180
    },
    "id": "78b33881",
    "outputId": "e7e449a8-6a62-4aa4-9518-af8d809a3089"
   },
   "outputs": [
    {
     "data": {
      "text/plain": [
       "array(['A', 'B', 'A', 'A', 'A', 'A', 'B', 'B', 'A', 'B', 'B', 'C', 'C',\n",
       "       'A', 'A', 'B', 'B', 'A', 'B', 'B'], dtype=object)"
      ]
     },
     "execution_count": 7,
     "metadata": {},
     "output_type": "execute_result"
    }
   ],
   "source": [
    "# Inverter a transformação\n",
    "\n",
    "tf.inverse_transform(resultado)"
   ]
  },
  {
   "cell_type": "markdown",
   "id": "542e28d0",
   "metadata": {
    "id": "542e28d0"
   },
   "source": [
    "# * ONEHOTENCODER"
   ]
  },
  {
   "cell_type": "code",
   "execution_count": 8,
   "id": "06d52a19",
   "metadata": {
    "executionInfo": {
     "elapsed": 42,
     "status": "ok",
     "timestamp": 1638969979809,
     "user": {
      "displayName": "Tiago Touso",
      "photoUrl": "https://lh3.googleusercontent.com/a-/AOh14GhUFDrBff9GnccW6ExvA80d8F7WCL2Yak8UIQOpFHc=s64",
      "userId": "13039814104467109855"
     },
     "user_tz": 180
    },
    "id": "06d52a19"
   },
   "outputs": [],
   "source": [
    "# Importar o módulo\n",
    "\n",
    "from sklearn.preprocessing import OneHotEncoder"
   ]
  },
  {
   "cell_type": "code",
   "execution_count": 9,
   "id": "fdc746ba",
   "metadata": {
    "colab": {
     "base_uri": "https://localhost:8080/"
    },
    "executionInfo": {
     "elapsed": 42,
     "status": "ok",
     "timestamp": 1638969979810,
     "user": {
      "displayName": "Tiago Touso",
      "photoUrl": "https://lh3.googleusercontent.com/a-/AOh14GhUFDrBff9GnccW6ExvA80d8F7WCL2Yak8UIQOpFHc=s64",
      "userId": "13039814104467109855"
     },
     "user_tz": 180
    },
    "id": "fdc746ba",
    "outputId": "dbda7a31-8400-4338-abb2-7cbf0088a029"
   },
   "outputs": [
    {
     "data": {
      "text/plain": [
       "OneHotEncoder()"
      ]
     },
     "execution_count": 9,
     "metadata": {},
     "output_type": "execute_result"
    }
   ],
   "source": [
    "# Criar o objeto\n",
    "tf = OneHotEncoder()\n",
    "\n",
    "# Treinar o processador\n",
    "tf.fit(dados[['classe']])"
   ]
  },
  {
   "cell_type": "code",
   "execution_count": 10,
   "id": "a2e82758",
   "metadata": {
    "colab": {
     "base_uri": "https://localhost:8080/"
    },
    "executionInfo": {
     "elapsed": 38,
     "status": "ok",
     "timestamp": 1638969979810,
     "user": {
      "displayName": "Tiago Touso",
      "photoUrl": "https://lh3.googleusercontent.com/a-/AOh14GhUFDrBff9GnccW6ExvA80d8F7WCL2Yak8UIQOpFHc=s64",
      "userId": "13039814104467109855"
     },
     "user_tz": 180
    },
    "id": "a2e82758",
    "outputId": "9af6d16e-b72b-4701-a652-f36cdd545a42"
   },
   "outputs": [
    {
     "data": {
      "text/plain": [
       "array([[1., 0., 0.],\n",
       "       [0., 1., 0.],\n",
       "       [1., 0., 0.],\n",
       "       [1., 0., 0.],\n",
       "       [1., 0., 0.],\n",
       "       [1., 0., 0.],\n",
       "       [0., 1., 0.],\n",
       "       [0., 1., 0.],\n",
       "       [1., 0., 0.],\n",
       "       [0., 1., 0.],\n",
       "       [0., 1., 0.],\n",
       "       [0., 0., 1.],\n",
       "       [0., 0., 1.],\n",
       "       [1., 0., 0.],\n",
       "       [1., 0., 0.],\n",
       "       [0., 1., 0.],\n",
       "       [0., 1., 0.],\n",
       "       [1., 0., 0.],\n",
       "       [0., 1., 0.],\n",
       "       [0., 1., 0.]])"
      ]
     },
     "execution_count": 10,
     "metadata": {},
     "output_type": "execute_result"
    }
   ],
   "source": [
    "# Fazer a transformação\n",
    "\n",
    "resultado = tf.fit_transform(dados[['classe']]).toarray()\n",
    "resultado"
   ]
  },
  {
   "cell_type": "code",
   "execution_count": 11,
   "id": "e619e4f4",
   "metadata": {
    "colab": {
     "base_uri": "https://localhost:8080/"
    },
    "executionInfo": {
     "elapsed": 37,
     "status": "ok",
     "timestamp": 1638969979811,
     "user": {
      "displayName": "Tiago Touso",
      "photoUrl": "https://lh3.googleusercontent.com/a-/AOh14GhUFDrBff9GnccW6ExvA80d8F7WCL2Yak8UIQOpFHc=s64",
      "userId": "13039814104467109855"
     },
     "user_tz": 180
    },
    "id": "e619e4f4",
    "outputId": "b1355049-f87c-4672-dd36-edf3ba21ddc4"
   },
   "outputs": [
    {
     "data": {
      "text/plain": [
       "array([['A'],\n",
       "       ['B'],\n",
       "       ['A'],\n",
       "       ['A'],\n",
       "       ['A'],\n",
       "       ['A'],\n",
       "       ['B'],\n",
       "       ['B'],\n",
       "       ['A'],\n",
       "       ['B'],\n",
       "       ['B'],\n",
       "       ['C'],\n",
       "       ['C'],\n",
       "       ['A'],\n",
       "       ['A'],\n",
       "       ['B'],\n",
       "       ['B'],\n",
       "       ['A'],\n",
       "       ['B'],\n",
       "       ['B']], dtype=object)"
      ]
     },
     "execution_count": 11,
     "metadata": {},
     "output_type": "execute_result"
    }
   ],
   "source": [
    "# Inverter a transformação\n",
    "\n",
    "tf.inverse_transform(resultado)"
   ]
  },
  {
   "cell_type": "markdown",
   "id": "a1af2292",
   "metadata": {
    "id": "a1af2292"
   },
   "source": [
    "# * MINMAXSCALER"
   ]
  },
  {
   "cell_type": "code",
   "execution_count": 12,
   "id": "42afc586",
   "metadata": {
    "executionInfo": {
     "elapsed": 35,
     "status": "ok",
     "timestamp": 1638969979811,
     "user": {
      "displayName": "Tiago Touso",
      "photoUrl": "https://lh3.googleusercontent.com/a-/AOh14GhUFDrBff9GnccW6ExvA80d8F7WCL2Yak8UIQOpFHc=s64",
      "userId": "13039814104467109855"
     },
     "user_tz": 180
    },
    "id": "42afc586"
   },
   "outputs": [],
   "source": [
    "# Importar o módulo\n",
    "\n",
    "from sklearn.preprocessing import MinMaxScaler"
   ]
  },
  {
   "cell_type": "code",
   "execution_count": 13,
   "id": "5e0b558a",
   "metadata": {
    "colab": {
     "base_uri": "https://localhost:8080/"
    },
    "executionInfo": {
     "elapsed": 36,
     "status": "ok",
     "timestamp": 1638969979812,
     "user": {
      "displayName": "Tiago Touso",
      "photoUrl": "https://lh3.googleusercontent.com/a-/AOh14GhUFDrBff9GnccW6ExvA80d8F7WCL2Yak8UIQOpFHc=s64",
      "userId": "13039814104467109855"
     },
     "user_tz": 180
    },
    "id": "5e0b558a",
    "outputId": "eb024014-3777-47c3-ab8a-1ea12c2e766d"
   },
   "outputs": [
    {
     "data": {
      "text/plain": [
       "MinMaxScaler()"
      ]
     },
     "execution_count": 13,
     "metadata": {},
     "output_type": "execute_result"
    }
   ],
   "source": [
    "# Criar o objeto\n",
    "\n",
    "tf = MinMaxScaler()\n",
    "\n",
    "# Treinar o processador\n",
    "tf.fit(dados[['idade']])"
   ]
  },
  {
   "cell_type": "code",
   "execution_count": 14,
   "id": "ea731aa0",
   "metadata": {
    "colab": {
     "base_uri": "https://localhost:8080/"
    },
    "executionInfo": {
     "elapsed": 34,
     "status": "ok",
     "timestamp": 1638969979812,
     "user": {
      "displayName": "Tiago Touso",
      "photoUrl": "https://lh3.googleusercontent.com/a-/AOh14GhUFDrBff9GnccW6ExvA80d8F7WCL2Yak8UIQOpFHc=s64",
      "userId": "13039814104467109855"
     },
     "user_tz": 180
    },
    "id": "ea731aa0",
    "outputId": "194e4ee6-9b61-4a11-c808-751a9bd76c90"
   },
   "outputs": [
    {
     "data": {
      "text/plain": [
       "array([[0.25454545],\n",
       "       [0.30909091],\n",
       "       [0.72727273],\n",
       "       [0.4       ],\n",
       "       [0.29090909],\n",
       "       [0.05454545],\n",
       "       [0.41818182],\n",
       "       [0.65454545],\n",
       "       [0.38181818],\n",
       "       [0.85454545],\n",
       "       [0.94545455],\n",
       "       [0.70909091],\n",
       "       [0.92727273],\n",
       "       [0.76363636],\n",
       "       [0.        ],\n",
       "       [0.2       ],\n",
       "       [1.        ],\n",
       "       [0.56363636],\n",
       "       [0.49090909],\n",
       "       [0.38181818]])"
      ]
     },
     "execution_count": 14,
     "metadata": {},
     "output_type": "execute_result"
    }
   ],
   "source": [
    "# Fazer a transformação\n",
    "\n",
    "resultado = tf.fit_transform(dados[['idade']])\n",
    "resultado"
   ]
  },
  {
   "cell_type": "code",
   "execution_count": 15,
   "id": "4951e099",
   "metadata": {
    "colab": {
     "base_uri": "https://localhost:8080/"
    },
    "executionInfo": {
     "elapsed": 33,
     "status": "ok",
     "timestamp": 1638969979813,
     "user": {
      "displayName": "Tiago Touso",
      "photoUrl": "https://lh3.googleusercontent.com/a-/AOh14GhUFDrBff9GnccW6ExvA80d8F7WCL2Yak8UIQOpFHc=s64",
      "userId": "13039814104467109855"
     },
     "user_tz": 180
    },
    "id": "4951e099",
    "outputId": "0b9359b8-87b5-42a5-db18-1799317701d7"
   },
   "outputs": [
    {
     "data": {
      "text/plain": [
       "array([[33.],\n",
       "       [36.],\n",
       "       [59.],\n",
       "       [41.],\n",
       "       [35.],\n",
       "       [22.],\n",
       "       [42.],\n",
       "       [55.],\n",
       "       [40.],\n",
       "       [66.],\n",
       "       [71.],\n",
       "       [58.],\n",
       "       [70.],\n",
       "       [61.],\n",
       "       [19.],\n",
       "       [30.],\n",
       "       [74.],\n",
       "       [50.],\n",
       "       [46.],\n",
       "       [40.]])"
      ]
     },
     "execution_count": 15,
     "metadata": {},
     "output_type": "execute_result"
    }
   ],
   "source": [
    "# Inverter a transformação\n",
    "\n",
    "tf.inverse_transform(resultado)"
   ]
  },
  {
   "cell_type": "markdown",
   "id": "fcc6ff5a",
   "metadata": {
    "id": "fcc6ff5a"
   },
   "source": [
    "# * STANDARDSCALER"
   ]
  },
  {
   "cell_type": "code",
   "execution_count": 16,
   "id": "7af625f3",
   "metadata": {
    "executionInfo": {
     "elapsed": 28,
     "status": "ok",
     "timestamp": 1638969979813,
     "user": {
      "displayName": "Tiago Touso",
      "photoUrl": "https://lh3.googleusercontent.com/a-/AOh14GhUFDrBff9GnccW6ExvA80d8F7WCL2Yak8UIQOpFHc=s64",
      "userId": "13039814104467109855"
     },
     "user_tz": 180
    },
    "id": "7af625f3"
   },
   "outputs": [],
   "source": [
    "# Importar o módulo\n",
    "\n",
    "from sklearn.preprocessing import StandardScaler"
   ]
  },
  {
   "cell_type": "code",
   "execution_count": 17,
   "id": "962fc1dc",
   "metadata": {
    "colab": {
     "base_uri": "https://localhost:8080/"
    },
    "executionInfo": {
     "elapsed": 28,
     "status": "ok",
     "timestamp": 1638969979814,
     "user": {
      "displayName": "Tiago Touso",
      "photoUrl": "https://lh3.googleusercontent.com/a-/AOh14GhUFDrBff9GnccW6ExvA80d8F7WCL2Yak8UIQOpFHc=s64",
      "userId": "13039814104467109855"
     },
     "user_tz": 180
    },
    "id": "962fc1dc",
    "outputId": "008a2b37-bd39-4ab7-fcdb-823fa1c884dc"
   },
   "outputs": [
    {
     "data": {
      "text/plain": [
       "StandardScaler()"
      ]
     },
     "execution_count": 17,
     "metadata": {},
     "output_type": "execute_result"
    }
   ],
   "source": [
    "# Criar o objeto\n",
    "\n",
    "tf = StandardScaler()\n",
    "\n",
    "# Treinar o processador\n",
    "tf.fit(dados[['idade']])"
   ]
  },
  {
   "cell_type": "code",
   "execution_count": 18,
   "id": "2fa5aa16",
   "metadata": {
    "colab": {
     "base_uri": "https://localhost:8080/"
    },
    "executionInfo": {
     "elapsed": 25,
     "status": "ok",
     "timestamp": 1638969979814,
     "user": {
      "displayName": "Tiago Touso",
      "photoUrl": "https://lh3.googleusercontent.com/a-/AOh14GhUFDrBff9GnccW6ExvA80d8F7WCL2Yak8UIQOpFHc=s64",
      "userId": "13039814104467109855"
     },
     "user_tz": 180
    },
    "id": "2fa5aa16",
    "outputId": "cb4bdc68-9d02-4856-a36a-9c1757fd42df"
   },
   "outputs": [
    {
     "data": {
      "text/plain": [
       "array([[-0.90668308],\n",
       "       [-0.71779077],\n",
       "       [ 0.7303836 ],\n",
       "       [-0.40297026],\n",
       "       [-0.78075488],\n",
       "       [-1.59928822],\n",
       "       [-0.34000616],\n",
       "       [ 0.47852718],\n",
       "       [-0.46593436],\n",
       "       [ 1.17113232],\n",
       "       [ 1.48595283],\n",
       "       [ 0.66741949],\n",
       "       [ 1.42298873],\n",
       "       [ 0.8563118 ],\n",
       "       [-1.78818053],\n",
       "       [-1.09557539],\n",
       "       [ 1.67484514],\n",
       "       [ 0.16370667],\n",
       "       [-0.08814974],\n",
       "       [-0.46593436]])"
      ]
     },
     "execution_count": 18,
     "metadata": {},
     "output_type": "execute_result"
    }
   ],
   "source": [
    "# Fazer a transformação\n",
    "\n",
    "resultado = tf.fit_transform(dados[['idade']])\n",
    "resultado"
   ]
  },
  {
   "cell_type": "code",
   "execution_count": 19,
   "id": "74911fc1",
   "metadata": {
    "colab": {
     "base_uri": "https://localhost:8080/"
    },
    "executionInfo": {
     "elapsed": 21,
     "status": "ok",
     "timestamp": 1638969979815,
     "user": {
      "displayName": "Tiago Touso",
      "photoUrl": "https://lh3.googleusercontent.com/a-/AOh14GhUFDrBff9GnccW6ExvA80d8F7WCL2Yak8UIQOpFHc=s64",
      "userId": "13039814104467109855"
     },
     "user_tz": 180
    },
    "id": "74911fc1",
    "outputId": "c4ec54a2-46b0-4e08-ff3c-e2e4167a8e87"
   },
   "outputs": [
    {
     "data": {
      "text/plain": [
       "array([[33.],\n",
       "       [36.],\n",
       "       [59.],\n",
       "       [41.],\n",
       "       [35.],\n",
       "       [22.],\n",
       "       [42.],\n",
       "       [55.],\n",
       "       [40.],\n",
       "       [66.],\n",
       "       [71.],\n",
       "       [58.],\n",
       "       [70.],\n",
       "       [61.],\n",
       "       [19.],\n",
       "       [30.],\n",
       "       [74.],\n",
       "       [50.],\n",
       "       [46.],\n",
       "       [40.]])"
      ]
     },
     "execution_count": 19,
     "metadata": {},
     "output_type": "execute_result"
    }
   ],
   "source": [
    "# Inverter a transformação\n",
    "\n",
    "tf.inverse_transform(resultado)"
   ]
  },
  {
   "cell_type": "markdown",
   "id": "eafeeb7d",
   "metadata": {
    "id": "eafeeb7d"
   },
   "source": [
    "# DATASET EXEMPLO II"
   ]
  },
  {
   "cell_type": "code",
   "execution_count": 20,
   "id": "f47ac17c",
   "metadata": {
    "colab": {
     "base_uri": "https://localhost:8080/",
     "height": 143
    },
    "executionInfo": {
     "elapsed": 18,
     "status": "ok",
     "timestamp": 1638969979815,
     "user": {
      "displayName": "Tiago Touso",
      "photoUrl": "https://lh3.googleusercontent.com/a-/AOh14GhUFDrBff9GnccW6ExvA80d8F7WCL2Yak8UIQOpFHc=s64",
      "userId": "13039814104467109855"
     },
     "user_tz": 180
    },
    "id": "f47ac17c",
    "outputId": "5b5f8f32-af90-43f9-b4df-3ca62de02113"
   },
   "outputs": [
    {
     "data": {
      "text/html": [
       "<div>\n",
       "<style scoped>\n",
       "    .dataframe tbody tr th:only-of-type {\n",
       "        vertical-align: middle;\n",
       "    }\n",
       "\n",
       "    .dataframe tbody tr th {\n",
       "        vertical-align: top;\n",
       "    }\n",
       "\n",
       "    .dataframe thead th {\n",
       "        text-align: right;\n",
       "    }\n",
       "</style>\n",
       "<table border=\"1\" class=\"dataframe\">\n",
       "  <thead>\n",
       "    <tr style=\"text-align: right;\">\n",
       "      <th></th>\n",
       "      <th>cores</th>\n",
       "      <th>formas</th>\n",
       "    </tr>\n",
       "  </thead>\n",
       "  <tbody>\n",
       "    <tr>\n",
       "      <th>0</th>\n",
       "      <td>Amarelo</td>\n",
       "      <td>circulo</td>\n",
       "    </tr>\n",
       "    <tr>\n",
       "      <th>1</th>\n",
       "      <td>Verde</td>\n",
       "      <td>quadrado</td>\n",
       "    </tr>\n",
       "    <tr>\n",
       "      <th>2</th>\n",
       "      <td>vermelho</td>\n",
       "      <td>triângulo</td>\n",
       "    </tr>\n",
       "  </tbody>\n",
       "</table>\n",
       "</div>"
      ],
      "text/plain": [
       "      cores     formas\n",
       "0   Amarelo    circulo\n",
       "1     Verde   quadrado\n",
       "2  vermelho  triângulo"
      ]
     },
     "execution_count": 20,
     "metadata": {},
     "output_type": "execute_result"
    }
   ],
   "source": [
    "# Criar um novo dataset\n",
    "\n",
    "dados = pd.DataFrame({'cores':['Amarelo', 'Verde', 'vermelho'], 'formas': ['circulo', 'quadrado', 'triângulo']})\n",
    "dados"
   ]
  },
  {
   "cell_type": "markdown",
   "id": "53dde289",
   "metadata": {
    "id": "53dde289"
   },
   "source": [
    "# * GET_DUMMIES"
   ]
  },
  {
   "cell_type": "code",
   "execution_count": 21,
   "id": "f1c689e4",
   "metadata": {
    "colab": {
     "base_uri": "https://localhost:8080/",
     "height": 143
    },
    "executionInfo": {
     "elapsed": 45,
     "status": "ok",
     "timestamp": 1638969980283,
     "user": {
      "displayName": "Tiago Touso",
      "photoUrl": "https://lh3.googleusercontent.com/a-/AOh14GhUFDrBff9GnccW6ExvA80d8F7WCL2Yak8UIQOpFHc=s64",
      "userId": "13039814104467109855"
     },
     "user_tz": 180
    },
    "id": "f1c689e4",
    "outputId": "c306aff8-1266-4b70-ff31-ab2a50960207"
   },
   "outputs": [
    {
     "data": {
      "text/html": [
       "<div>\n",
       "<style scoped>\n",
       "    .dataframe tbody tr th:only-of-type {\n",
       "        vertical-align: middle;\n",
       "    }\n",
       "\n",
       "    .dataframe tbody tr th {\n",
       "        vertical-align: top;\n",
       "    }\n",
       "\n",
       "    .dataframe thead th {\n",
       "        text-align: right;\n",
       "    }\n",
       "</style>\n",
       "<table border=\"1\" class=\"dataframe\">\n",
       "  <thead>\n",
       "    <tr style=\"text-align: right;\">\n",
       "      <th></th>\n",
       "      <th>cores_Amarelo</th>\n",
       "      <th>cores_Verde</th>\n",
       "      <th>cores_vermelho</th>\n",
       "      <th>formas_circulo</th>\n",
       "      <th>formas_quadrado</th>\n",
       "      <th>formas_triângulo</th>\n",
       "    </tr>\n",
       "  </thead>\n",
       "  <tbody>\n",
       "    <tr>\n",
       "      <th>0</th>\n",
       "      <td>1</td>\n",
       "      <td>0</td>\n",
       "      <td>0</td>\n",
       "      <td>1</td>\n",
       "      <td>0</td>\n",
       "      <td>0</td>\n",
       "    </tr>\n",
       "    <tr>\n",
       "      <th>1</th>\n",
       "      <td>0</td>\n",
       "      <td>1</td>\n",
       "      <td>0</td>\n",
       "      <td>0</td>\n",
       "      <td>1</td>\n",
       "      <td>0</td>\n",
       "    </tr>\n",
       "    <tr>\n",
       "      <th>2</th>\n",
       "      <td>0</td>\n",
       "      <td>0</td>\n",
       "      <td>1</td>\n",
       "      <td>0</td>\n",
       "      <td>0</td>\n",
       "      <td>1</td>\n",
       "    </tr>\n",
       "  </tbody>\n",
       "</table>\n",
       "</div>"
      ],
      "text/plain": [
       "   cores_Amarelo  cores_Verde  cores_vermelho  formas_circulo  \\\n",
       "0              1            0               0               1   \n",
       "1              0            1               0               0   \n",
       "2              0            0               1               0   \n",
       "\n",
       "   formas_quadrado  formas_triângulo  \n",
       "0                0                 0  \n",
       "1                1                 0  \n",
       "2                0                 1  "
      ]
     },
     "execution_count": 21,
     "metadata": {},
     "output_type": "execute_result"
    }
   ],
   "source": [
    "# Fazer o dummies\n",
    "\n",
    "pd.get_dummies(dados)"
   ]
  },
  {
   "cell_type": "markdown",
   "id": "ec3d2a95",
   "metadata": {
    "id": "ec3d2a95"
   },
   "source": [
    "# * ONEHOTENCODER"
   ]
  },
  {
   "cell_type": "code",
   "execution_count": 22,
   "id": "8be83755",
   "metadata": {
    "executionInfo": {
     "elapsed": 44,
     "status": "ok",
     "timestamp": 1638969980284,
     "user": {
      "displayName": "Tiago Touso",
      "photoUrl": "https://lh3.googleusercontent.com/a-/AOh14GhUFDrBff9GnccW6ExvA80d8F7WCL2Yak8UIQOpFHc=s64",
      "userId": "13039814104467109855"
     },
     "user_tz": 180
    },
    "id": "8be83755"
   },
   "outputs": [],
   "source": [
    "# Importar o módulo\n",
    "\n",
    "from sklearn.preprocessing import OneHotEncoder"
   ]
  },
  {
   "cell_type": "code",
   "execution_count": 23,
   "id": "4b6e6327",
   "metadata": {
    "colab": {
     "base_uri": "https://localhost:8080/"
    },
    "executionInfo": {
     "elapsed": 45,
     "status": "ok",
     "timestamp": 1638969980285,
     "user": {
      "displayName": "Tiago Touso",
      "photoUrl": "https://lh3.googleusercontent.com/a-/AOh14GhUFDrBff9GnccW6ExvA80d8F7WCL2Yak8UIQOpFHc=s64",
      "userId": "13039814104467109855"
     },
     "user_tz": 180
    },
    "id": "4b6e6327",
    "outputId": "68fb5068-6554-46bc-c614-5f1a23b30a95"
   },
   "outputs": [
    {
     "data": {
      "text/plain": [
       "OneHotEncoder(handle_unknown='ignore', sparse=False)"
      ]
     },
     "execution_count": 23,
     "metadata": {},
     "output_type": "execute_result"
    }
   ],
   "source": [
    "# Criar o objeto\n",
    "\n",
    "tf = OneHotEncoder(handle_unknown='ignore', sparse=False)\n",
    "\n",
    "# Treinar o processador\n",
    "tf.fit(dados)"
   ]
  },
  {
   "cell_type": "code",
   "execution_count": 24,
   "id": "fb476f04",
   "metadata": {
    "colab": {
     "base_uri": "https://localhost:8080/"
    },
    "executionInfo": {
     "elapsed": 44,
     "status": "ok",
     "timestamp": 1638969980286,
     "user": {
      "displayName": "Tiago Touso",
      "photoUrl": "https://lh3.googleusercontent.com/a-/AOh14GhUFDrBff9GnccW6ExvA80d8F7WCL2Yak8UIQOpFHc=s64",
      "userId": "13039814104467109855"
     },
     "user_tz": 180
    },
    "id": "fb476f04",
    "outputId": "3df04877-e1de-445f-8bfd-250a602fde04"
   },
   "outputs": [
    {
     "data": {
      "text/plain": [
       "[array(['Amarelo', 'Verde', 'vermelho'], dtype=object),\n",
       " array(['circulo', 'quadrado', 'triângulo'], dtype=object)]"
      ]
     },
     "execution_count": 24,
     "metadata": {},
     "output_type": "execute_result"
    }
   ],
   "source": [
    "# Verificar as categorias\n",
    "tf.categories_"
   ]
  },
  {
   "cell_type": "code",
   "execution_count": 25,
   "id": "714125e9",
   "metadata": {
    "colab": {
     "base_uri": "https://localhost:8080/"
    },
    "executionInfo": {
     "elapsed": 43,
     "status": "ok",
     "timestamp": 1638969980287,
     "user": {
      "displayName": "Tiago Touso",
      "photoUrl": "https://lh3.googleusercontent.com/a-/AOh14GhUFDrBff9GnccW6ExvA80d8F7WCL2Yak8UIQOpFHc=s64",
      "userId": "13039814104467109855"
     },
     "user_tz": 180
    },
    "id": "714125e9",
    "outputId": "292e98c7-e87e-46a1-dc3c-64d8351b431f"
   },
   "outputs": [
    {
     "data": {
      "text/plain": [
       "array([[1., 0., 0., 1., 0., 0.],\n",
       "       [0., 1., 0., 0., 1., 0.],\n",
       "       [0., 0., 1., 0., 0., 1.]])"
      ]
     },
     "execution_count": 25,
     "metadata": {},
     "output_type": "execute_result"
    }
   ],
   "source": [
    "# Fazer a transformação\n",
    "\n",
    "resultado = tf.fit_transform(dados)\n",
    "resultado"
   ]
  },
  {
   "cell_type": "code",
   "execution_count": 26,
   "id": "37d85c56",
   "metadata": {
    "colab": {
     "base_uri": "https://localhost:8080/"
    },
    "executionInfo": {
     "elapsed": 41,
     "status": "ok",
     "timestamp": 1638969980288,
     "user": {
      "displayName": "Tiago Touso",
      "photoUrl": "https://lh3.googleusercontent.com/a-/AOh14GhUFDrBff9GnccW6ExvA80d8F7WCL2Yak8UIQOpFHc=s64",
      "userId": "13039814104467109855"
     },
     "user_tz": 180
    },
    "id": "37d85c56",
    "outputId": "c36d9d22-45ff-495f-d135-c981315f72b3"
   },
   "outputs": [
    {
     "ename": "AttributeError",
     "evalue": "'OneHotEncoder' object has no attribute 'feature_names_in_'",
     "output_type": "error",
     "traceback": [
      "\u001b[1;31m---------------------------------------------------------------------------\u001b[0m",
      "\u001b[1;31mAttributeError\u001b[0m                            Traceback (most recent call last)",
      "\u001b[1;32m~\\AppData\\Local\\Temp/ipykernel_12300/3543801703.py\u001b[0m in \u001b[0;36m<module>\u001b[1;34m\u001b[0m\n\u001b[0;32m      1\u001b[0m \u001b[1;31m# Verificar as colunas do dataset\u001b[0m\u001b[1;33m\u001b[0m\u001b[1;33m\u001b[0m\u001b[0m\n\u001b[0;32m      2\u001b[0m \u001b[1;33m\u001b[0m\u001b[0m\n\u001b[1;32m----> 3\u001b[1;33m \u001b[0mtf\u001b[0m\u001b[1;33m.\u001b[0m\u001b[0mfeature_names_in_\u001b[0m\u001b[1;33m\u001b[0m\u001b[1;33m\u001b[0m\u001b[0m\n\u001b[0m",
      "\u001b[1;31mAttributeError\u001b[0m: 'OneHotEncoder' object has no attribute 'feature_names_in_'"
     ]
    }
   ],
   "source": [
    "# Verificar as colunas do dataset\n",
    "\n",
    "tf.feature_names_in_"
   ]
  },
  {
   "cell_type": "code",
   "execution_count": null,
   "id": "5d947f08",
   "metadata": {
    "colab": {
     "base_uri": "https://localhost:8080/"
    },
    "executionInfo": {
     "elapsed": 39,
     "status": "ok",
     "timestamp": 1638969980290,
     "user": {
      "displayName": "Tiago Touso",
      "photoUrl": "https://lh3.googleusercontent.com/a-/AOh14GhUFDrBff9GnccW6ExvA80d8F7WCL2Yak8UIQOpFHc=s64",
      "userId": "13039814104467109855"
     },
     "user_tz": 180
    },
    "id": "5d947f08",
    "outputId": "6291c753-fc53-4db7-cc49-a5fa2c4f3a74"
   },
   "outputs": [],
   "source": [
    "# Verificar as colunas que foram criadas\n",
    "\n",
    "tf.get_feature_names_out()"
   ]
  },
  {
   "cell_type": "code",
   "execution_count": null,
   "id": "RTaIh_v-0BdJ",
   "metadata": {
    "colab": {
     "base_uri": "https://localhost:8080/",
     "height": 143
    },
    "executionInfo": {
     "elapsed": 35,
     "status": "ok",
     "timestamp": 1638969980290,
     "user": {
      "displayName": "Tiago Touso",
      "photoUrl": "https://lh3.googleusercontent.com/a-/AOh14GhUFDrBff9GnccW6ExvA80d8F7WCL2Yak8UIQOpFHc=s64",
      "userId": "13039814104467109855"
     },
     "user_tz": 180
    },
    "id": "RTaIh_v-0BdJ",
    "outputId": "6ca0fe8a-7b4b-422b-8ab7-52a645221c1d"
   },
   "outputs": [],
   "source": [
    "# Criar dataset com as colunas nomeadas\n",
    "dadosnew = pd.DataFrame(resultado, columns=tf.get_feature_names_out())\n",
    "dadosnew"
   ]
  },
  {
   "cell_type": "code",
   "execution_count": null,
   "id": "4qyHUR5fxuYY",
   "metadata": {
    "colab": {
     "base_uri": "https://localhost:8080/"
    },
    "executionInfo": {
     "elapsed": 34,
     "status": "ok",
     "timestamp": 1638969980291,
     "user": {
      "displayName": "Tiago Touso",
      "photoUrl": "https://lh3.googleusercontent.com/a-/AOh14GhUFDrBff9GnccW6ExvA80d8F7WCL2Yak8UIQOpFHc=s64",
      "userId": "13039814104467109855"
     },
     "user_tz": 180
    },
    "id": "4qyHUR5fxuYY",
    "outputId": "a83f0ac9-01a1-4aa9-ae3d-a48fb142d0c3"
   },
   "outputs": [],
   "source": [
    "# Inverter a transformação\n",
    "\n",
    "tf.inverse_transform(dadosnew)"
   ]
  },
  {
   "cell_type": "markdown",
   "id": "b0fe380d",
   "metadata": {
    "id": "b0fe380d"
   },
   "source": [
    "# * ORDINALENCODER"
   ]
  },
  {
   "cell_type": "code",
   "execution_count": null,
   "id": "c5d01e05",
   "metadata": {
    "executionInfo": {
     "elapsed": 32,
     "status": "ok",
     "timestamp": 1638969980292,
     "user": {
      "displayName": "Tiago Touso",
      "photoUrl": "https://lh3.googleusercontent.com/a-/AOh14GhUFDrBff9GnccW6ExvA80d8F7WCL2Yak8UIQOpFHc=s64",
      "userId": "13039814104467109855"
     },
     "user_tz": 180
    },
    "id": "c5d01e05"
   },
   "outputs": [],
   "source": [
    "# Importar o módulo\n",
    "\n",
    "from sklearn.preprocessing import OrdinalEncoder"
   ]
  },
  {
   "cell_type": "code",
   "execution_count": null,
   "id": "79db5476",
   "metadata": {
    "colab": {
     "base_uri": "https://localhost:8080/"
    },
    "executionInfo": {
     "elapsed": 31,
     "status": "ok",
     "timestamp": 1638969980292,
     "user": {
      "displayName": "Tiago Touso",
      "photoUrl": "https://lh3.googleusercontent.com/a-/AOh14GhUFDrBff9GnccW6ExvA80d8F7WCL2Yak8UIQOpFHc=s64",
      "userId": "13039814104467109855"
     },
     "user_tz": 180
    },
    "id": "79db5476",
    "outputId": "e7d097ed-10cf-4cf2-e2a2-448934eb2ad5"
   },
   "outputs": [],
   "source": [
    "# Criar o objeto\n",
    "\n",
    "tf = OrdinalEncoder()\n",
    "\n",
    "# Treinar o processador\n",
    "tf.fit(dados)"
   ]
  },
  {
   "cell_type": "code",
   "execution_count": null,
   "id": "4d376e51",
   "metadata": {
    "colab": {
     "base_uri": "https://localhost:8080/"
    },
    "executionInfo": {
     "elapsed": 30,
     "status": "ok",
     "timestamp": 1638969980293,
     "user": {
      "displayName": "Tiago Touso",
      "photoUrl": "https://lh3.googleusercontent.com/a-/AOh14GhUFDrBff9GnccW6ExvA80d8F7WCL2Yak8UIQOpFHc=s64",
      "userId": "13039814104467109855"
     },
     "user_tz": 180
    },
    "id": "4d376e51",
    "outputId": "e05a3428-91c0-479a-9091-44ea2bac562e"
   },
   "outputs": [],
   "source": [
    "# Verificar as categorias\n",
    "\n",
    "tf.categories_"
   ]
  },
  {
   "cell_type": "code",
   "execution_count": null,
   "id": "19e70be3",
   "metadata": {
    "colab": {
     "base_uri": "https://localhost:8080/"
    },
    "executionInfo": {
     "elapsed": 30,
     "status": "ok",
     "timestamp": 1638969980294,
     "user": {
      "displayName": "Tiago Touso",
      "photoUrl": "https://lh3.googleusercontent.com/a-/AOh14GhUFDrBff9GnccW6ExvA80d8F7WCL2Yak8UIQOpFHc=s64",
      "userId": "13039814104467109855"
     },
     "user_tz": 180
    },
    "id": "19e70be3",
    "outputId": "0bedc8d8-cdd5-4d4a-968e-bf5e0968e092"
   },
   "outputs": [],
   "source": [
    "# Fazer a transformação\n",
    "\n",
    "resultado = tf.fit_transform(dados)\n",
    "resultado"
   ]
  },
  {
   "cell_type": "code",
   "execution_count": null,
   "id": "bcf83293",
   "metadata": {
    "colab": {
     "base_uri": "https://localhost:8080/",
     "height": 143
    },
    "executionInfo": {
     "elapsed": 29,
     "status": "ok",
     "timestamp": 1638969980295,
     "user": {
      "displayName": "Tiago Touso",
      "photoUrl": "https://lh3.googleusercontent.com/a-/AOh14GhUFDrBff9GnccW6ExvA80d8F7WCL2Yak8UIQOpFHc=s64",
      "userId": "13039814104467109855"
     },
     "user_tz": 180
    },
    "id": "bcf83293",
    "outputId": "f55618ad-3232-4a21-c5c0-4d0fb46dd7b0"
   },
   "outputs": [],
   "source": [
    "# Criar dataset transformado\n",
    " \n",
    "dadosnew = pd.DataFrame(tf.fit_transform(dados), columns=dados.columns)\n",
    "dadosnew"
   ]
  },
  {
   "cell_type": "code",
   "execution_count": null,
   "id": "2bac4cb7",
   "metadata": {
    "colab": {
     "base_uri": "https://localhost:8080/"
    },
    "executionInfo": {
     "elapsed": 27,
     "status": "ok",
     "timestamp": 1638969980296,
     "user": {
      "displayName": "Tiago Touso",
      "photoUrl": "https://lh3.googleusercontent.com/a-/AOh14GhUFDrBff9GnccW6ExvA80d8F7WCL2Yak8UIQOpFHc=s64",
      "userId": "13039814104467109855"
     },
     "user_tz": 180
    },
    "id": "2bac4cb7",
    "outputId": "a60be3be-2caa-4b11-c959-5d3d581a7f01"
   },
   "outputs": [],
   "source": [
    "# Inverter a transformação\n",
    "tf.inverse_transform(dadosnew)"
   ]
  }
 ],
 "metadata": {
  "colab": {
   "name": "2021 PREPROCESSING.ipynb",
   "provenance": []
  },
  "kernelspec": {
   "display_name": "Python 3 (ipykernel)",
   "language": "python",
   "name": "python3"
  },
  "language_info": {
   "codemirror_mode": {
    "name": "ipython",
    "version": 3
   },
   "file_extension": ".py",
   "mimetype": "text/x-python",
   "name": "python",
   "nbconvert_exporter": "python",
   "pygments_lexer": "ipython3",
   "version": "3.9.7"
  }
 },
 "nbformat": 4,
 "nbformat_minor": 5
}
