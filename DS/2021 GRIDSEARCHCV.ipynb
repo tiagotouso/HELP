{
 "cells": [
  {
   "cell_type": "markdown",
   "metadata": {
    "id": "nPehS8zViprz"
   },
   "source": [
    "# GRIDSEARCHCV"
   ]
  },
  {
   "cell_type": "code",
   "execution_count": 1,
   "metadata": {
    "executionInfo": {
     "elapsed": 266,
     "status": "ok",
     "timestamp": 1639352763801,
     "user": {
      "displayName": "Tiago Touso",
      "photoUrl": "https://lh3.googleusercontent.com/a-/AOh14GhUFDrBff9GnccW6ExvA80d8F7WCL2Yak8UIQOpFHc=s64",
      "userId": "13039814104467109855"
     },
     "user_tz": 180
    },
    "id": "8DXpIgZTVhjq"
   },
   "outputs": [],
   "source": [
    "# Importar os módulos\n",
    "\n",
    "import sklearn\n",
    "from sklearn.datasets import load_iris\n",
    "\n",
    "from sklearn.model_selection import train_test_split\n",
    "\n",
    "from sklearn.neighbors import KNeighborsClassifier\n",
    "from sklearn.ensemble import RandomForestClassifier\n",
    "from sklearn.linear_model import LinearRegression\n",
    "\n",
    "from sklearn.model_selection import GridSearchCV\n",
    "\n",
    "from sklearn.pipeline import Pipeline\n",
    "from sklearn.preprocessing import MinMaxScaler"
   ]
  },
  {
   "cell_type": "code",
   "execution_count": 2,
   "metadata": {},
   "outputs": [
    {
     "name": "stdout",
     "output_type": "stream",
     "text": [
      "Python 3.9.7\n",
      "sklearn: 0.24.2\n",
      "\n"
     ]
    }
   ],
   "source": [
    "# Versões dos módulos\n",
    "\n",
    "!python --version\n",
    "%reload_ext watermark\n",
    "%watermark --iversions"
   ]
  },
  {
   "cell_type": "code",
   "execution_count": 3,
   "metadata": {
    "executionInfo": {
     "elapsed": 6,
     "status": "ok",
     "timestamp": 1639352764082,
     "user": {
      "displayName": "Tiago Touso",
      "photoUrl": "https://lh3.googleusercontent.com/a-/AOh14GhUFDrBff9GnccW6ExvA80d8F7WCL2Yak8UIQOpFHc=s64",
      "userId": "13039814104467109855"
     },
     "user_tz": 180
    },
    "id": "4Yv0Vlu5Vqqh"
   },
   "outputs": [],
   "source": [
    "# Carregar o dataset\n",
    "\n",
    "iris = load_iris()"
   ]
  },
  {
   "cell_type": "code",
   "execution_count": 4,
   "metadata": {
    "executionInfo": {
     "elapsed": 5,
     "status": "ok",
     "timestamp": 1639352764082,
     "user": {
      "displayName": "Tiago Touso",
      "photoUrl": "https://lh3.googleusercontent.com/a-/AOh14GhUFDrBff9GnccW6ExvA80d8F7WCL2Yak8UIQOpFHc=s64",
      "userId": "13039814104467109855"
     },
     "user_tz": 180
    },
    "id": "D-Le3ndHVqtZ"
   },
   "outputs": [],
   "source": [
    "# Dividir o dataset em treino e testes\n",
    "\n",
    "xt, x_, yt, y_ = train_test_split(iris.data, iris.target, test_size=0.3, random_state=42)"
   ]
  },
  {
   "cell_type": "markdown",
   "metadata": {
    "id": "RbwPVHCgj4m8"
   },
   "source": [
    "### Exemplo I"
   ]
  },
  {
   "cell_type": "code",
   "execution_count": 5,
   "metadata": {
    "executionInfo": {
     "elapsed": 6,
     "status": "ok",
     "timestamp": 1639352764083,
     "user": {
      "displayName": "Tiago Touso",
      "photoUrl": "https://lh3.googleusercontent.com/a-/AOh14GhUFDrBff9GnccW6ExvA80d8F7WCL2Yak8UIQOpFHc=s64",
      "userId": "13039814104467109855"
     },
     "user_tz": 180
    },
    "id": "O5cAyYGmXzCj"
   },
   "outputs": [],
   "source": [
    "# Criar um estimador\n",
    "\n",
    "rf = RandomForestClassifier()"
   ]
  },
  {
   "cell_type": "code",
   "execution_count": 6,
   "metadata": {
    "colab": {
     "base_uri": "https://localhost:8080/"
    },
    "executionInfo": {
     "elapsed": 5,
     "status": "ok",
     "timestamp": 1639352764083,
     "user": {
      "displayName": "Tiago Touso",
      "photoUrl": "https://lh3.googleusercontent.com/a-/AOh14GhUFDrBff9GnccW6ExvA80d8F7WCL2Yak8UIQOpFHc=s64",
      "userId": "13039814104467109855"
     },
     "user_tz": 180
    },
    "id": "nC64A6w-duGn",
    "outputId": "294ae3f8-636a-4c39-8ac2-2466a1746371"
   },
   "outputs": [
    {
     "name": "stdout",
     "output_type": "stream",
     "text": [
      "bootstrap\n",
      "ccp_alpha\n",
      "class_weight\n",
      "criterion\n",
      "max_depth\n",
      "max_features\n",
      "max_leaf_nodes\n",
      "max_samples\n",
      "min_impurity_decrease\n",
      "min_impurity_split\n",
      "min_samples_leaf\n",
      "min_samples_split\n",
      "min_weight_fraction_leaf\n",
      "n_estimators\n",
      "n_jobs\n",
      "oob_score\n",
      "random_state\n",
      "verbose\n",
      "warm_start\n"
     ]
    }
   ],
   "source": [
    "# Verificar os seus parametros\n",
    "\n",
    "for vl in rf.get_params().keys():\n",
    "  print(vl)"
   ]
  },
  {
   "cell_type": "code",
   "execution_count": 7,
   "metadata": {
    "executionInfo": {
     "elapsed": 5,
     "status": "ok",
     "timestamp": 1639352764084,
     "user": {
      "displayName": "Tiago Touso",
      "photoUrl": "https://lh3.googleusercontent.com/a-/AOh14GhUFDrBff9GnccW6ExvA80d8F7WCL2Yak8UIQOpFHc=s64",
      "userId": "13039814104467109855"
     },
     "user_tz": 180
    },
    "id": "Gcr0RicvXzEl"
   },
   "outputs": [],
   "source": [
    "# Criar uma variável com os parametros\n",
    "\n",
    "parameters = {'max_depth':[1, 2, 3, 4, 5, 10], \n",
    "              'bootstrap': [True, False] }"
   ]
  },
  {
   "cell_type": "code",
   "execution_count": 8,
   "metadata": {
    "executionInfo": {
     "elapsed": 5,
     "status": "ok",
     "timestamp": 1639352764780,
     "user": {
      "displayName": "Tiago Touso",
      "photoUrl": "https://lh3.googleusercontent.com/a-/AOh14GhUFDrBff9GnccW6ExvA80d8F7WCL2Yak8UIQOpFHc=s64",
      "userId": "13039814104467109855"
     },
     "user_tz": 180
    },
    "id": "ZdpZEZPjYHDS"
   },
   "outputs": [],
   "source": [
    "# Criar o Gridsearch\n",
    "\n",
    "grid = GridSearchCV(rf, parameters, cv=5, scoring='accuracy')"
   ]
  },
  {
   "cell_type": "code",
   "execution_count": 9,
   "metadata": {
    "colab": {
     "base_uri": "https://localhost:8080/"
    },
    "executionInfo": {
     "elapsed": 7369,
     "status": "ok",
     "timestamp": 1639352772144,
     "user": {
      "displayName": "Tiago Touso",
      "photoUrl": "https://lh3.googleusercontent.com/a-/AOh14GhUFDrBff9GnccW6ExvA80d8F7WCL2Yak8UIQOpFHc=s64",
      "userId": "13039814104467109855"
     },
     "user_tz": 180
    },
    "id": "OsGhj0G7bEGK",
    "outputId": "0ba955f2-76ac-4d13-a50d-429ba2d52f60"
   },
   "outputs": [
    {
     "data": {
      "text/plain": [
       "GridSearchCV(cv=5, estimator=RandomForestClassifier(),\n",
       "             param_grid={'bootstrap': [True, False],\n",
       "                         'max_depth': [1, 2, 3, 4, 5, 10]},\n",
       "             scoring='accuracy')"
      ]
     },
     "execution_count": 9,
     "metadata": {},
     "output_type": "execute_result"
    }
   ],
   "source": [
    "# Fazer o treinamento do modelo\n",
    "\n",
    "grid.fit(xt, yt)"
   ]
  },
  {
   "cell_type": "code",
   "execution_count": 10,
   "metadata": {
    "colab": {
     "base_uri": "https://localhost:8080/"
    },
    "executionInfo": {
     "elapsed": 9,
     "status": "ok",
     "timestamp": 1639352772144,
     "user": {
      "displayName": "Tiago Touso",
      "photoUrl": "https://lh3.googleusercontent.com/a-/AOh14GhUFDrBff9GnccW6ExvA80d8F7WCL2Yak8UIQOpFHc=s64",
      "userId": "13039814104467109855"
     },
     "user_tz": 180
    },
    "id": "pmJJjJWabEDH",
    "outputId": "e51a2e61-ca85-4fd3-8c6c-b6cf3bdca6d4"
   },
   "outputs": [
    {
     "data": {
      "text/plain": [
       "{'bootstrap': True, 'max_depth': 1}"
      ]
     },
     "execution_count": 10,
     "metadata": {},
     "output_type": "execute_result"
    }
   ],
   "source": [
    "# Verificar o resultado do melhor parametro\n",
    "\n",
    "grid.best_params_"
   ]
  },
  {
   "cell_type": "code",
   "execution_count": 11,
   "metadata": {
    "colab": {
     "base_uri": "https://localhost:8080/"
    },
    "executionInfo": {
     "elapsed": 6,
     "status": "ok",
     "timestamp": 1639352772144,
     "user": {
      "displayName": "Tiago Touso",
      "photoUrl": "https://lh3.googleusercontent.com/a-/AOh14GhUFDrBff9GnccW6ExvA80d8F7WCL2Yak8UIQOpFHc=s64",
      "userId": "13039814104467109855"
     },
     "user_tz": 180
    },
    "id": "tcIdLtxWbD1f",
    "outputId": "c0f673cb-bbee-4006-984b-577f15a17890"
   },
   "outputs": [
    {
     "data": {
      "text/plain": [
       "1.0"
      ]
     },
     "execution_count": 11,
     "metadata": {},
     "output_type": "execute_result"
    }
   ],
   "source": [
    "# Verificar o score do modelo\n",
    "\n",
    "grid.score(x_, y_)"
   ]
  },
  {
   "cell_type": "markdown",
   "metadata": {
    "id": "hb2jhiIcj-aT"
   },
   "source": [
    "### Exemplo II"
   ]
  },
  {
   "cell_type": "code",
   "execution_count": 12,
   "metadata": {
    "executionInfo": {
     "elapsed": 6,
     "status": "ok",
     "timestamp": 1639352772145,
     "user": {
      "displayName": "Tiago Touso",
      "photoUrl": "https://lh3.googleusercontent.com/a-/AOh14GhUFDrBff9GnccW6ExvA80d8F7WCL2Yak8UIQOpFHc=s64",
      "userId": "13039814104467109855"
     },
     "user_tz": 180
    },
    "id": "GS-8yr_VXDOq"
   },
   "outputs": [],
   "source": [
    "# Criar o estimador\n",
    "\n",
    "knn = KNeighborsClassifier()"
   ]
  },
  {
   "cell_type": "code",
   "execution_count": 13,
   "metadata": {
    "colab": {
     "base_uri": "https://localhost:8080/"
    },
    "executionInfo": {
     "elapsed": 5,
     "status": "ok",
     "timestamp": 1639352772145,
     "user": {
      "displayName": "Tiago Touso",
      "photoUrl": "https://lh3.googleusercontent.com/a-/AOh14GhUFDrBff9GnccW6ExvA80d8F7WCL2Yak8UIQOpFHc=s64",
      "userId": "13039814104467109855"
     },
     "user_tz": 180
    },
    "id": "h1FXKFtpYfCa",
    "outputId": "d92b0d83-db19-46be-a183-ca5bbe536816"
   },
   "outputs": [
    {
     "name": "stdout",
     "output_type": "stream",
     "text": [
      "algorithm\n",
      "leaf_size\n",
      "metric\n",
      "metric_params\n",
      "n_jobs\n",
      "n_neighbors\n",
      "p\n",
      "weights\n"
     ]
    }
   ],
   "source": [
    "# Verificar o seus paramentros\n",
    "\n",
    "for vl in knn.get_params().keys():\n",
    "  print(vl)"
   ]
  },
  {
   "cell_type": "code",
   "execution_count": 14,
   "metadata": {
    "executionInfo": {
     "elapsed": 4,
     "status": "ok",
     "timestamp": 1639352772145,
     "user": {
      "displayName": "Tiago Touso",
      "photoUrl": "https://lh3.googleusercontent.com/a-/AOh14GhUFDrBff9GnccW6ExvA80d8F7WCL2Yak8UIQOpFHc=s64",
      "userId": "13039814104467109855"
     },
     "user_tz": 180
    },
    "id": "_3ExKXX9YfFq"
   },
   "outputs": [],
   "source": [
    "# Criar uma variável com os parametros\n",
    "\n",
    "parameters = {'n_neighbors': [2, 3, 5, 10], \n",
    "              'leaf_size': [20, 25, 30],\n",
    "              'weights': ['uniform', 'distance']}"
   ]
  },
  {
   "cell_type": "code",
   "execution_count": 15,
   "metadata": {
    "executionInfo": {
     "elapsed": 4,
     "status": "ok",
     "timestamp": 1639352772145,
     "user": {
      "displayName": "Tiago Touso",
      "photoUrl": "https://lh3.googleusercontent.com/a-/AOh14GhUFDrBff9GnccW6ExvA80d8F7WCL2Yak8UIQOpFHc=s64",
      "userId": "13039814104467109855"
     },
     "user_tz": 180
    },
    "id": "SvGBHlgxYfIZ"
   },
   "outputs": [],
   "source": [
    "# Criar o Gridsearch\n",
    "\n",
    "grid = GridSearchCV(knn, parameters, cv=5, scoring='accuracy')"
   ]
  },
  {
   "cell_type": "code",
   "execution_count": 16,
   "metadata": {
    "colab": {
     "base_uri": "https://localhost:8080/"
    },
    "executionInfo": {
     "elapsed": 434,
     "status": "ok",
     "timestamp": 1639352772575,
     "user": {
      "displayName": "Tiago Touso",
      "photoUrl": "https://lh3.googleusercontent.com/a-/AOh14GhUFDrBff9GnccW6ExvA80d8F7WCL2Yak8UIQOpFHc=s64",
      "userId": "13039814104467109855"
     },
     "user_tz": 180
    },
    "id": "zZllMfXpYfLQ",
    "outputId": "4c363704-428b-4555-f07a-d9390cd1e5ea"
   },
   "outputs": [
    {
     "data": {
      "text/plain": [
       "GridSearchCV(cv=5, estimator=KNeighborsClassifier(),\n",
       "             param_grid={'leaf_size': [20, 25, 30],\n",
       "                         'n_neighbors': [2, 3, 5, 10],\n",
       "                         'weights': ['uniform', 'distance']},\n",
       "             scoring='accuracy')"
      ]
     },
     "execution_count": 16,
     "metadata": {},
     "output_type": "execute_result"
    }
   ],
   "source": [
    "# Treinar o modelo\n",
    "\n",
    "grid.fit(xt, yt)"
   ]
  },
  {
   "cell_type": "code",
   "execution_count": 17,
   "metadata": {
    "colab": {
     "base_uri": "https://localhost:8080/"
    },
    "executionInfo": {
     "elapsed": 8,
     "status": "ok",
     "timestamp": 1639352772575,
     "user": {
      "displayName": "Tiago Touso",
      "photoUrl": "https://lh3.googleusercontent.com/a-/AOh14GhUFDrBff9GnccW6ExvA80d8F7WCL2Yak8UIQOpFHc=s64",
      "userId": "13039814104467109855"
     },
     "user_tz": 180
    },
    "id": "HSXyZv1NXDTe",
    "outputId": "c78c6626-bc71-4cdb-b01d-04452d6e1ed5"
   },
   "outputs": [
    {
     "data": {
      "text/plain": [
       "{'leaf_size': 20, 'n_neighbors': 2, 'weights': 'distance'}"
      ]
     },
     "execution_count": 17,
     "metadata": {},
     "output_type": "execute_result"
    }
   ],
   "source": [
    "#  Verificar o resultado do melhor parametro\n",
    "\n",
    "grid.best_params_"
   ]
  },
  {
   "cell_type": "code",
   "execution_count": 18,
   "metadata": {
    "colab": {
     "base_uri": "https://localhost:8080/"
    },
    "executionInfo": {
     "elapsed": 6,
     "status": "ok",
     "timestamp": 1639352772575,
     "user": {
      "displayName": "Tiago Touso",
      "photoUrl": "https://lh3.googleusercontent.com/a-/AOh14GhUFDrBff9GnccW6ExvA80d8F7WCL2Yak8UIQOpFHc=s64",
      "userId": "13039814104467109855"
     },
     "user_tz": 180
    },
    "id": "Or-D980NXDWe",
    "outputId": "acbdc1fb-d7a0-49ca-91bc-c7e6d021c1a2"
   },
   "outputs": [
    {
     "data": {
      "text/plain": [
       "1.0"
      ]
     },
     "execution_count": 18,
     "metadata": {},
     "output_type": "execute_result"
    }
   ],
   "source": [
    "# Verificar o score do modelo\n",
    "\n",
    "grid.score(x_, y_)"
   ]
  },
  {
   "cell_type": "markdown",
   "metadata": {
    "id": "V-qV1hrHkedy"
   },
   "source": [
    "### Exemplo III"
   ]
  },
  {
   "cell_type": "code",
   "execution_count": 19,
   "metadata": {
    "executionInfo": {
     "elapsed": 6,
     "status": "ok",
     "timestamp": 1639352772576,
     "user": {
      "displayName": "Tiago Touso",
      "photoUrl": "https://lh3.googleusercontent.com/a-/AOh14GhUFDrBff9GnccW6ExvA80d8F7WCL2Yak8UIQOpFHc=s64",
      "userId": "13039814104467109855"
     },
     "user_tz": 180
    },
    "id": "Cwwf6C0th4Ui"
   },
   "outputs": [],
   "source": [
    "# Criar os parametros para RF\n",
    "\n",
    "RF_parameters = {'RF__max_depth':[1, 2, 3, 4, 5, 10], \n",
    "                 'RF__bootstrap': [True, False] }"
   ]
  },
  {
   "cell_type": "code",
   "execution_count": 20,
   "metadata": {
    "executionInfo": {
     "elapsed": 6,
     "status": "ok",
     "timestamp": 1639352772576,
     "user": {
      "displayName": "Tiago Touso",
      "photoUrl": "https://lh3.googleusercontent.com/a-/AOh14GhUFDrBff9GnccW6ExvA80d8F7WCL2Yak8UIQOpFHc=s64",
      "userId": "13039814104467109855"
     },
     "user_tz": 180
    },
    "id": "SpU2u211h4Rs"
   },
   "outputs": [],
   "source": [
    "# Cria os parametros para knn\n",
    "\n",
    "knn_parameters = {'knn__n_neighbors': [2, 3, 5, 10], \n",
    "                 'knn__leaf_size': [20, 25, 30],\n",
    "                 'knn__weights': ['uniform', 'distance']}"
   ]
  },
  {
   "cell_type": "code",
   "execution_count": 21,
   "metadata": {
    "executionInfo": {
     "elapsed": 5,
     "status": "ok",
     "timestamp": 1639352772576,
     "user": {
      "displayName": "Tiago Touso",
      "photoUrl": "https://lh3.googleusercontent.com/a-/AOh14GhUFDrBff9GnccW6ExvA80d8F7WCL2Yak8UIQOpFHc=s64",
      "userId": "13039814104467109855"
     },
     "user_tz": 180
    },
    "id": "40yeWf83VqwK"
   },
   "outputs": [],
   "source": [
    "# Cria uma variável com os estimadores\n",
    "\n",
    "estimadores = [('knn', KNeighborsClassifier(), knn_parameters ),\n",
    "               ('RF', RandomForestClassifier(), RF_parameters ) ]"
   ]
  },
  {
   "cell_type": "code",
   "execution_count": 22,
   "metadata": {
    "colab": {
     "base_uri": "https://localhost:8080/"
    },
    "executionInfo": {
     "elapsed": 8432,
     "status": "ok",
     "timestamp": 1639352781003,
     "user": {
      "displayName": "Tiago Touso",
      "photoUrl": "https://lh3.googleusercontent.com/a-/AOh14GhUFDrBff9GnccW6ExvA80d8F7WCL2Yak8UIQOpFHc=s64",
      "userId": "13039814104467109855"
     },
     "user_tz": 180
    },
    "id": "vB5s4Fd6VqzC",
    "outputId": "994ceb10-5f81-41eb-c5e9-4fee85ad3514"
   },
   "outputs": [
    {
     "name": "stdout",
     "output_type": "stream",
     "text": [
      "knn\n",
      "{'knn__leaf_size': 20, 'knn__n_neighbors': 3, 'knn__weights': 'uniform'}\n",
      "1.0\n",
      "\n",
      "RF\n",
      "{'RF__bootstrap': True, 'RF__max_depth': 1}\n",
      "1.0\n",
      "\n"
     ]
    }
   ],
   "source": [
    "# Loop nos estimadores\n",
    "for nome, estimador, parametros in estimadores:\n",
    "\n",
    "  # Cria o pipeline\n",
    "  pipe = Pipeline([('mms', MinMaxScaler()), \n",
    "                   (nome, estimador)] )\n",
    "  \n",
    "  # Cria o gridserch\n",
    "  grid = GridSearchCV(pipe, param_grid=parametros, scoring='accuracy', cv=5)\n",
    "  \n",
    "  # Treina o modelo\n",
    "  grid.fit(xt, yt)\n",
    "\n",
    "  print(nome)\n",
    "  print(grid.best_params_)\n",
    "  print(grid.score(x_, y_))\n",
    "  print()"
   ]
  },
  {
   "cell_type": "markdown",
   "metadata": {
    "id": "dHM8iMeg8uwe"
   },
   "source": [
    "### Exemplo IV"
   ]
  },
  {
   "cell_type": "code",
   "execution_count": 23,
   "metadata": {
    "executionInfo": {
     "elapsed": 5,
     "status": "ok",
     "timestamp": 1639352781004,
     "user": {
      "displayName": "Tiago Touso",
      "photoUrl": "https://lh3.googleusercontent.com/a-/AOh14GhUFDrBff9GnccW6ExvA80d8F7WCL2Yak8UIQOpFHc=s64",
      "userId": "13039814104467109855"
     },
     "user_tz": 180
    },
    "id": "MNE66Vmt8byf"
   },
   "outputs": [],
   "source": [
    "# Criar os parametros\n",
    "\n",
    "parameters = [{'knn__n_neighbors': [2, 3, 5, 10], \n",
    "               'knn__leaf_size': [20, 25, 30],\n",
    "               'knn__weights': ['uniform', 'distance']},\n",
    "              {'RF__max_depth':[1, 2, 3, 4, 5, 10], \n",
    "                 'RF__bootstrap': [True, False] } ]"
   ]
  },
  {
   "cell_type": "code",
   "execution_count": 24,
   "metadata": {
    "executionInfo": {
     "elapsed": 4,
     "status": "ok",
     "timestamp": 1639352781004,
     "user": {
      "displayName": "Tiago Touso",
      "photoUrl": "https://lh3.googleusercontent.com/a-/AOh14GhUFDrBff9GnccW6ExvA80d8F7WCL2Yak8UIQOpFHc=s64",
      "userId": "13039814104467109855"
     },
     "user_tz": 180
    },
    "id": "PGhxGkI88b0s"
   },
   "outputs": [],
   "source": [
    "# Cria uma variável com os estimadores\n",
    "\n",
    "estimadores = [('knn', KNeighborsClassifier()),\n",
    "               ('RF', RandomForestClassifier()) ]\n",
    "\n",
    "nome, estimador = zip(*estimadores)"
   ]
  },
  {
   "cell_type": "code",
   "execution_count": 25,
   "metadata": {
    "colab": {
     "base_uri": "https://localhost:8080/"
    },
    "executionInfo": {
     "elapsed": 8237,
     "status": "ok",
     "timestamp": 1639352789237,
     "user": {
      "displayName": "Tiago Touso",
      "photoUrl": "https://lh3.googleusercontent.com/a-/AOh14GhUFDrBff9GnccW6ExvA80d8F7WCL2Yak8UIQOpFHc=s64",
      "userId": "13039814104467109855"
     },
     "user_tz": 180
    },
    "id": "7QR4lbba8b3B",
    "outputId": "a23d1266-39dd-4b53-add8-be3fe6b480ae"
   },
   "outputs": [
    {
     "name": "stdout",
     "output_type": "stream",
     "text": [
      "knn\n",
      "knn\n",
      "{'knn__leaf_size': 20, 'knn__n_neighbors': 3, 'knn__weights': 'uniform'}\n",
      "1.0\n",
      "\n",
      "RF\n",
      "RF\n",
      "{'RF__bootstrap': True, 'RF__max_depth': 3}\n",
      "1.0\n",
      "\n"
     ]
    }
   ],
   "source": [
    "# Loop nos estimadores\n",
    "for nome, estimador, parametro in zip(nome, estimador, parameters):\n",
    "  print(nome)\n",
    "\n",
    "  # Cria o pipeline\n",
    "  pipe = Pipeline([('mms', MinMaxScaler()), \n",
    "                   (nome, estimador)] )\n",
    "  \n",
    "  # Cria o gridserch\n",
    "  grid = GridSearchCV(pipe, param_grid=parametro, scoring='accuracy', cv=5)\n",
    "  \n",
    "  # Treina o modelo\n",
    "  grid.fit(xt, yt)\n",
    "\n",
    "  print(nome)\n",
    "  print(grid.best_params_)\n",
    "  print(grid.score(x_, y_))\n",
    "  print()"
   ]
  }
 ],
 "metadata": {
  "colab": {
   "authorship_tag": "ABX9TyMfy+ygu9uEh/qDCiGMurjP",
   "collapsed_sections": [],
   "name": "2021 GRIDSEARCHCV.ipynb",
   "provenance": []
  },
  "kernelspec": {
   "display_name": "Python 3 (ipykernel)",
   "language": "python",
   "name": "python3"
  },
  "language_info": {
   "codemirror_mode": {
    "name": "ipython",
    "version": 3
   },
   "file_extension": ".py",
   "mimetype": "text/x-python",
   "name": "python",
   "nbconvert_exporter": "python",
   "pygments_lexer": "ipython3",
   "version": "3.9.7"
  }
 },
 "nbformat": 4,
 "nbformat_minor": 1
}
